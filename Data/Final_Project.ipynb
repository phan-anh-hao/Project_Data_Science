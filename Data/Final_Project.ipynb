{
 "cells": [
  {
   "cell_type": "code",
   "execution_count": 1,
   "metadata": {},
   "outputs": [],
   "source": [
    "import requests\n",
    "import time\n",
    "import random\n",
    "from bs4 import BeautifulSoup\n",
    "import json\n",
    "import calendar\n",
    "import pandas as pd\n",
    "\n"
   ]
  },
  {
   "cell_type": "code",
   "execution_count": 2,
   "metadata": {},
   "outputs": [],
   "source": [
    "#Tạo file Date.txt chứa tất cả ngày theo dạng yyyy/mm/dd của các năm trong list years truyền vào\n",
    "def Create_Date(years):\n",
    "    date_file = open('Date.txt', 'w')\n",
    "    for year in years:\n",
    "        date = 1\n",
    "        month = 1\n",
    "        while date != 32 & month != 12:\n",
    "            year = str(year)\n",
    "            date_file.write(year)\n",
    "            date_file.write('/')\n",
    "            if month < 10:\n",
    "                date_file.write('0')\n",
    "            month = str(month)\n",
    "            date_file.write(month)\n",
    "            date_file.write('/')\n",
    "            if date < 10:\n",
    "                date_file.write('0')\n",
    "            date = str(date)\n",
    "            date_file.write(date)\n",
    "            date_file.write('\\n')\n",
    "            year = int(year)\n",
    "            month = int(month)\n",
    "            date = int(date)\n",
    "            if (date == 31 and month == 1) or (date == 29 and month == 2) or (date == 31 and month == 3) or (date == 30 and month == 4) or (date == 31 and month == 5) or (date == 30 and month == 6) or (date == 31 and month == 7) or (date == 31 and month == 8) or (date == 30 and month == 9) or (date == 31 and month == 10) or (date == 30 and month == 11):\n",
    "                date = 1\n",
    "                month += 1\n",
    "            else:\n",
    "                if date == 28 and month == 2:\n",
    "                    if calendar.isleap(year) == True:\n",
    "                        date += 1\n",
    "                    else:\n",
    "                        date = 1\n",
    "                        month += 1\n",
    "                else:\n",
    "                    date += 1\n",
    "            if date == 32 and month == 12:\n",
    "                break\n",
    "    date_file.close()"
   ]
  },
  {
   "cell_type": "code",
   "execution_count": null,
   "metadata": {},
   "outputs": [],
   "source": [
    "\n"
   ]
  },
  {
   "cell_type": "code",
   "execution_count": 3,
   "metadata": {},
   "outputs": [],
   "source": [
    "year = [2016, 2017, 2018, 2019]\n",
    "Create_Date(year)\n",
    "city_id = 1252431 # Đây là chỉ số khu vực thành phố Hồ Chí Minh trên trang web\n",
    "all_data = []\n",
    "\n",
    "# Đọc file lịch chứa các ngày cần lấy thông tin\n",
    "date_file = open('Date.txt', 'r')\n",
    "list_date = date_file.readlines()\n",
    "date_file.close()\n",
    "\n",
    "for date in list_date:\n",
    "    date = date.replace('\\n', '') # Xoá các dấu xuống dòng của date để request không bị lỗi\n",
    "    url = f'https://www.metaweather.com/api/location/{city_id}/{date}/' \n",
    "    try:\n",
    "        r = requests.get(url).json()\n",
    "        all_data.append(r[0])\n",
    "    except Exception as e: Trả về mô tả lỗi nếu bị lỗi\n",
    "        print(f'Error: {e}')\n",
    "        break \n",
    "    "
   ]
  },
  {
   "cell_type": "code",
   "execution_count": 10,
   "metadata": {},
   "outputs": [],
   "source": [
    "# Cho mỗi thuộc tính vào từng list\n",
    "data_id = []\n",
    "state_name = []\n",
    "state_abbr = []\n",
    "wind_direction_compass = []\n",
    "created = []\n",
    "applicable_date = []\n",
    "min_temp = []\n",
    "max_temp = []\n",
    "the_temp = []\n",
    "wind_speed = []\n",
    "wind_direction = []\n",
    "air_pressure = []\n",
    "humidity = []\n",
    "visibility = []\n",
    "predictability = []\n",
    "for weather_data in all_data:\n",
    "    data_id.append(weather_data['id'])\n",
    "    state_name.append(weather_data['weather_state_name'])\n",
    "    state_abbr.append(weather_data['weather_state_abbr'])\n",
    "    wind_direction_compass.append(weather_data['wind_direction_compass'])\n",
    "    created.append(weather_data['created'])\n",
    "    applicable_date.append(weather_data['applicable_date'])\n",
    "    min_temp.append(weather_data['min_temp'])\n",
    "    max_temp.append(weather_data['max_temp'])\n",
    "    the_temp.append(weather_data['the_temp'])\n",
    "    wind_speed.append(weather_data['wind_speed'])\n",
    "    wind_direction.append(weather_data['wind_direction'])\n",
    "    air_pressure.append(weather_data['air_pressure'])\n",
    "    humidity.append(weather_data['humidity'])\n",
    "    visibility.append(weather_data['visibility'])\n",
    "    predictability.append(weather_data['predictability'])\n",
    "    "
   ]
  },
  {
   "cell_type": "code",
   "execution_count": 16,
   "metadata": {},
   "outputs": [],
   "source": [
    "#Tạo dictionary từ các list thuộc tính\n",
    "data_dict = {'ID': data_id, 'State Name': state_name, 'State Abbreviation': state_abbr, \n",
    "             'Wind Direction': wind_direction_compass,'Created': created, 'Applicable Date': applicable_date, \n",
    "             'Min Temp': min_temp, 'Max Temp': max_temp, 'The Temp': the_temp,\n",
    "             'Wind Speed': wind_speed, 'Wind Direction': wind_direction, 'Air Pressure': air_pressure, \n",
    "             'Humidity': humidity, 'Visibility': visibility, 'Predictability': predictability}\n",
    "\n",
    "# Tạo dataframe từ dictionary\n",
    "df = pd.DataFrame(data_dict)\n",
    "\n",
    "# Ghi dataframe vào file csv\n",
    "df.to_csv('Data.csv')"
   ]
  }
 ],
 "metadata": {
  "kernelspec": {
   "display_name": "Python 3",
   "language": "python",
   "name": "python3"
  },
  "language_info": {
   "codemirror_mode": {
    "name": "ipython",
    "version": 3
   },
   "file_extension": ".py",
   "mimetype": "text/x-python",
   "name": "python",
   "nbconvert_exporter": "python",
   "pygments_lexer": "ipython3",
   "version": "3.8.3"
  }
 },
 "nbformat": 4,
 "nbformat_minor": 4
}
