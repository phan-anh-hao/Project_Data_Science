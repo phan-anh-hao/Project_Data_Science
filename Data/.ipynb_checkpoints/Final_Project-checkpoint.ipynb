{
 "cells": [
  {
   "cell_type": "markdown",
   "metadata": {},
   "source": [
    "# Import"
   ]
  },
  {
   "cell_type": "code",
   "execution_count": 4,
   "metadata": {},
   "outputs": [],
   "source": [
    "import requests\n",
    "import time\n",
    "import random\n",
    "from bs4 import BeautifulSoup\n",
    "import json\n",
    "import calendar\n",
    "import pandas as pd\n",
    "\n"
   ]
  },
  {
   "cell_type": "markdown",
   "metadata": {},
   "source": [
    "# Thu thập dữ liệu"
   ]
  },
  {
   "cell_type": "code",
   "execution_count": 2,
   "metadata": {},
   "outputs": [],
   "source": [
    "#Tạo file Date.txt chứa tất cả ngày theo dạng yyyy/mm/dd của các năm trong list years truyền vào\n",
    "def Create_Date(years):\n",
    "    date_file = open('Date.txt', 'w')\n",
    "    for year in years:\n",
    "        date = 1\n",
    "        month = 1\n",
    "        while date != 32 & month != 12:\n",
    "            year = str(year)\n",
    "            date_file.write(year)\n",
    "            date_file.write('/')\n",
    "            if month < 10:\n",
    "                date_file.write('0')\n",
    "            month = str(month)\n",
    "            date_file.write(month)\n",
    "            date_file.write('/')\n",
    "            if date < 10:\n",
    "                date_file.write('0')\n",
    "            date = str(date)\n",
    "            date_file.write(date)\n",
    "            date_file.write('\\n')\n",
    "            year = int(year)\n",
    "            month = int(month)\n",
    "            date = int(date)\n",
    "            if (date == 31 and month == 1) or (date == 29 and month == 2) or (date == 31 and month == 3) or (date == 30 and month == 4) or (date == 31 and month == 5) or (date == 30 and month == 6) or (date == 31 and month == 7) or (date == 31 and month == 8) or (date == 30 and month == 9) or (date == 31 and month == 10) or (date == 30 and month == 11):\n",
    "                date = 1\n",
    "                month += 1\n",
    "            else:\n",
    "                if date == 28 and month == 2:\n",
    "                    if calendar.isleap(year) == True:\n",
    "                        date += 1\n",
    "                    else:\n",
    "                        date = 1\n",
    "                        month += 1\n",
    "                else:\n",
    "                    date += 1\n",
    "            if date == 32 and month == 12:\n",
    "                break\n",
    "    date_file.close()"
   ]
  },
  {
   "cell_type": "code",
   "execution_count": 3,
   "metadata": {},
   "outputs": [],
   "source": [
    "year = [2016, 2017, 2018, 2019]\n",
    "Create_Date(year)\n",
    "city_id = 1252431 # Đây là chỉ số khu vực thành phố Hồ Chí Minh trên trang web\n",
    "all_data = []\n",
    "\n",
    "# Đọc file lịch chứa các ngày cần lấy thông tin\n",
    "date_file = open('Date.txt', 'r')\n",
    "list_date = date_file.readlines()\n",
    "date_file.close()\n",
    "\n",
    "for date in list_date:\n",
    "    date = date.replace('\\n', '') # Xoá các dấu xuống dòng của date để request không bị lỗi\n",
    "    url = f'https://www.metaweather.com/api/location/{city_id}/{date}/' \n",
    "    try:\n",
    "        r = requests.get(url).json()\n",
    "        all_data.append(r[0])\n",
    "    except Exception as e: Trả về mô tả lỗi nếu bị lỗi\n",
    "        print(f'Error: {e}')\n",
    "        break \n",
    "    "
   ]
  },
  {
   "cell_type": "code",
   "execution_count": 10,
   "metadata": {},
   "outputs": [],
   "source": [
    "# Cho mỗi thuộc tính vào từng list\n",
    "data_id = []\n",
    "state_name = []\n",
    "state_abbr = []\n",
    "wind_direction_compass = []\n",
    "created = []\n",
    "applicable_date = []\n",
    "min_temp = []\n",
    "max_temp = []\n",
    "the_temp = []\n",
    "wind_speed = []\n",
    "wind_direction = []\n",
    "air_pressure = []\n",
    "humidity = []\n",
    "visibility = []\n",
    "predictability = []\n",
    "for weather_data in all_data:\n",
    "    data_id.append(weather_data['id'])\n",
    "    state_name.append(weather_data['weather_state_name'])\n",
    "    state_abbr.append(weather_data['weather_state_abbr'])\n",
    "    wind_direction_compass.append(weather_data['wind_direction_compass'])\n",
    "    created.append(weather_data['created'])\n",
    "    applicable_date.append(weather_data['applicable_date'])\n",
    "    min_temp.append(weather_data['min_temp'])\n",
    "    max_temp.append(weather_data['max_temp'])\n",
    "    the_temp.append(weather_data['the_temp'])\n",
    "    wind_speed.append(weather_data['wind_speed'])\n",
    "    wind_direction.append(weather_data['wind_direction'])\n",
    "    air_pressure.append(weather_data['air_pressure'])\n",
    "    humidity.append(weather_data['humidity'])\n",
    "    visibility.append(weather_data['visibility'])\n",
    "    predictability.append(weather_data['predictability'])\n",
    "    "
   ]
  },
  {
   "cell_type": "code",
   "execution_count": 16,
   "metadata": {},
   "outputs": [],
   "source": [
    "#Tạo dictionary từ các list thuộc tính\n",
    "data_dict = {'ID': data_id, 'State Name': state_name, 'State Abbreviation': state_abbr, \n",
    "             'Wind Direction': wind_direction_compass,'Created': created, 'Applicable Date': applicable_date, \n",
    "             'Min Temp': min_temp, 'Max Temp': max_temp, 'The Temp': the_temp,\n",
    "             'Wind Speed': wind_speed, 'Wind Direction': wind_direction, 'Air Pressure': air_pressure, \n",
    "             'Humidity': humidity, 'Visibility': visibility, 'Predictability': predictability}\n",
    "\n",
    "# Tạo dataframe từ dictionary\n",
    "df = pd.DataFrame(data_dict)\n",
    "\n",
    "# Ghi dataframe vào file csv\n",
    "df.to_csv('Data.csv')"
   ]
  },
  {
   "cell_type": "markdown",
   "metadata": {},
   "source": [
    "# Khám phá dữ liệu"
   ]
  },
  {
   "cell_type": "code",
   "execution_count": 12,
   "metadata": {},
   "outputs": [
    {
     "data": {
      "text/html": [
       "<div>\n",
       "<style scoped>\n",
       "    .dataframe tbody tr th:only-of-type {\n",
       "        vertical-align: middle;\n",
       "    }\n",
       "\n",
       "    .dataframe tbody tr th {\n",
       "        vertical-align: top;\n",
       "    }\n",
       "\n",
       "    .dataframe thead th {\n",
       "        text-align: right;\n",
       "    }\n",
       "</style>\n",
       "<table border=\"1\" class=\"dataframe\">\n",
       "  <thead>\n",
       "    <tr style=\"text-align: right;\">\n",
       "      <th></th>\n",
       "      <th>ID</th>\n",
       "      <th>State Name</th>\n",
       "      <th>State Abbreviation</th>\n",
       "      <th>Wind Direction</th>\n",
       "      <th>Created</th>\n",
       "      <th>Applicable Date</th>\n",
       "      <th>Min Temp</th>\n",
       "      <th>Max Temp</th>\n",
       "      <th>The Temp</th>\n",
       "      <th>Wind Speed</th>\n",
       "      <th>Air Pressure</th>\n",
       "      <th>Humidity</th>\n",
       "      <th>Visibility</th>\n",
       "      <th>Predictability</th>\n",
       "    </tr>\n",
       "  </thead>\n",
       "  <tbody>\n",
       "    <tr>\n",
       "      <th>0</th>\n",
       "      <td>4815613784489984</td>\n",
       "      <td>Clear</td>\n",
       "      <td>c</td>\n",
       "      <td>24.918324</td>\n",
       "      <td>2016-01-01T15:50:46.783160Z</td>\n",
       "      <td>2016-01-01</td>\n",
       "      <td>22.5975</td>\n",
       "      <td>33.8400</td>\n",
       "      <td>32.39</td>\n",
       "      <td>5.850634</td>\n",
       "      <td>1015.0</td>\n",
       "      <td>57.0</td>\n",
       "      <td>11.968541</td>\n",
       "      <td>68</td>\n",
       "    </tr>\n",
       "    <tr>\n",
       "      <th>1</th>\n",
       "      <td>5117614409908224</td>\n",
       "      <td>Light Cloud</td>\n",
       "      <td>lc</td>\n",
       "      <td>111.222444</td>\n",
       "      <td>2016-01-02T15:50:46.519900Z</td>\n",
       "      <td>2016-01-02</td>\n",
       "      <td>24.2150</td>\n",
       "      <td>33.9675</td>\n",
       "      <td>32.26</td>\n",
       "      <td>4.975470</td>\n",
       "      <td>1014.0</td>\n",
       "      <td>61.0</td>\n",
       "      <td>11.687371</td>\n",
       "      <td>70</td>\n",
       "    </tr>\n",
       "    <tr>\n",
       "      <th>2</th>\n",
       "      <td>5845769609281536</td>\n",
       "      <td>Light Rain</td>\n",
       "      <td>lr</td>\n",
       "      <td>54.357487</td>\n",
       "      <td>2016-01-03T15:50:46.178120Z</td>\n",
       "      <td>2016-01-03</td>\n",
       "      <td>24.6425</td>\n",
       "      <td>33.0950</td>\n",
       "      <td>32.36</td>\n",
       "      <td>5.751001</td>\n",
       "      <td>1014.0</td>\n",
       "      <td>66.0</td>\n",
       "      <td>9.814558</td>\n",
       "      <td>75</td>\n",
       "    </tr>\n",
       "    <tr>\n",
       "      <th>3</th>\n",
       "      <td>4887679040749568</td>\n",
       "      <td>Heavy Cloud</td>\n",
       "      <td>hc</td>\n",
       "      <td>105.343582</td>\n",
       "      <td>2016-01-04T15:50:46.861790Z</td>\n",
       "      <td>2016-01-04</td>\n",
       "      <td>24.6750</td>\n",
       "      <td>33.3150</td>\n",
       "      <td>32.92</td>\n",
       "      <td>8.274074</td>\n",
       "      <td>1014.0</td>\n",
       "      <td>63.0</td>\n",
       "      <td>11.006659</td>\n",
       "      <td>71</td>\n",
       "    </tr>\n",
       "    <tr>\n",
       "      <th>4</th>\n",
       "      <td>6722346127720448</td>\n",
       "      <td>Light Cloud</td>\n",
       "      <td>lc</td>\n",
       "      <td>93.195824</td>\n",
       "      <td>2016-01-05T15:50:46.201860Z</td>\n",
       "      <td>2016-01-05</td>\n",
       "      <td>24.3425</td>\n",
       "      <td>33.3975</td>\n",
       "      <td>33.14</td>\n",
       "      <td>8.083090</td>\n",
       "      <td>1013.0</td>\n",
       "      <td>63.0</td>\n",
       "      <td>11.890248</td>\n",
       "      <td>70</td>\n",
       "    </tr>\n",
       "  </tbody>\n",
       "</table>\n",
       "</div>"
      ],
      "text/plain": [
       "                 ID   State Name State Abbreviation  Wind Direction  \\\n",
       "0  4815613784489984        Clear                  c       24.918324   \n",
       "1  5117614409908224  Light Cloud                 lc      111.222444   \n",
       "2  5845769609281536   Light Rain                 lr       54.357487   \n",
       "3  4887679040749568  Heavy Cloud                 hc      105.343582   \n",
       "4  6722346127720448  Light Cloud                 lc       93.195824   \n",
       "\n",
       "                       Created Applicable Date  Min Temp  Max Temp  The Temp  \\\n",
       "0  2016-01-01T15:50:46.783160Z      2016-01-01   22.5975   33.8400     32.39   \n",
       "1  2016-01-02T15:50:46.519900Z      2016-01-02   24.2150   33.9675     32.26   \n",
       "2  2016-01-03T15:50:46.178120Z      2016-01-03   24.6425   33.0950     32.36   \n",
       "3  2016-01-04T15:50:46.861790Z      2016-01-04   24.6750   33.3150     32.92   \n",
       "4  2016-01-05T15:50:46.201860Z      2016-01-05   24.3425   33.3975     33.14   \n",
       "\n",
       "   Wind Speed  Air Pressure  Humidity  Visibility  Predictability  \n",
       "0    5.850634        1015.0      57.0   11.968541              68  \n",
       "1    4.975470        1014.0      61.0   11.687371              70  \n",
       "2    5.751001        1014.0      66.0    9.814558              75  \n",
       "3    8.274074        1014.0      63.0   11.006659              71  \n",
       "4    8.083090        1013.0      63.0   11.890248              70  "
      ]
     },
     "execution_count": 12,
     "metadata": {},
     "output_type": "execute_result"
    }
   ],
   "source": [
    "data_df = pd.read_csv('Data.csv', index_col = 0) # Cho cột index là cột 0 \n",
    "data_df.head()"
   ]
  },
  {
   "cell_type": "code",
   "execution_count": 8,
   "metadata": {},
   "outputs": [
    {
     "data": {
      "text/plain": [
       "(1461, 14)"
      ]
     },
     "execution_count": 8,
     "metadata": {},
     "output_type": "execute_result"
    }
   ],
   "source": [
    "# Kích thước của dữ liệu\n",
    "data_df.shape"
   ]
  },
  {
   "cell_type": "code",
   "execution_count": 9,
   "metadata": {},
   "outputs": [
    {
     "data": {
      "text/plain": [
       "0"
      ]
     },
     "execution_count": 9,
     "metadata": {},
     "output_type": "execute_result"
    }
   ],
   "source": [
    "# Kiểm tra dữ liệu thu thập được có bị trùng không\n",
    "data_df.index.duplicated().sum()"
   ]
  },
  {
   "cell_type": "code",
   "execution_count": 13,
   "metadata": {},
   "outputs": [
    {
     "data": {
      "text/plain": [
       "dtype('int64')"
      ]
     },
     "execution_count": 13,
     "metadata": {},
     "output_type": "execute_result"
    }
   ],
   "source": [
    "# Kiểm tra kiểu dữ liệu của cột output (Predictability) \n",
    "data_df['Predictability'].dtype"
   ]
  },
  {
   "cell_type": "code",
   "execution_count": 14,
   "metadata": {},
   "outputs": [
    {
     "data": {
      "text/plain": [
       "0"
      ]
     },
     "execution_count": 14,
     "metadata": {},
     "output_type": "execute_result"
    }
   ],
   "source": [
    "# Kiểm tra có bao nhiêu giá trị bị thiếu ở cột output\n",
    "data_df['Predictability'].isna().sum()"
   ]
  },
  {
   "cell_type": "code",
   "execution_count": 15,
   "metadata": {},
   "outputs": [
    {
     "data": {
      "text/plain": [
       "77    33.812457\n",
       "75    24.777550\n",
       "70    14.852841\n",
       "71    13.894593\n",
       "73    10.882957\n",
       "80     0.958248\n",
       "68     0.821355\n",
       "Name: Predictability, dtype: float64"
      ]
     },
     "execution_count": 15,
     "metadata": {},
     "output_type": "execute_result"
    }
   ],
   "source": [
    "# Tỉ lệ các lớp trong cột output\n",
    "data_df['Predictability'].value_counts(normalize=True) * 100"
   ]
  },
  {
   "cell_type": "markdown",
   "metadata": {},
   "source": [
    "# Tiền xử lý"
   ]
  },
  {
   "cell_type": "code",
   "execution_count": null,
   "metadata": {},
   "outputs": [],
   "source": []
  }
 ],
 "metadata": {
  "kernelspec": {
   "display_name": "Python 3",
   "language": "python",
   "name": "python3"
  },
  "language_info": {
   "codemirror_mode": {
    "name": "ipython",
    "version": 3
   },
   "file_extension": ".py",
   "mimetype": "text/x-python",
   "name": "python",
   "nbconvert_exporter": "python",
   "pygments_lexer": "ipython3",
   "version": "3.8.3"
  }
 },
 "nbformat": 4,
 "nbformat_minor": 4
}
