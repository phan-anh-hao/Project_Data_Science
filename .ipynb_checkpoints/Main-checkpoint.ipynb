{
 "cells": [
  {
   "cell_type": "markdown",
   "metadata": {},
   "source": [
    "## Import"
   ]
  },
  {
   "cell_type": "code",
   "execution_count": 349,
   "metadata": {},
   "outputs": [],
   "source": [
    "import numpy as np\n",
    "import pandas as pd\n",
    "import matplotlib.pyplot as plt\n",
    "import sklearn \n",
    "\n",
    "from sklearn.base import BaseEstimator, TransformerMixin\n",
    "from sklearn.impute import SimpleImputer\n",
    "from sklearn.pipeline import Pipeline, make_pipeline\n",
    "from sklearn.preprocessing import OneHotEncoder, StandardScaler\n",
    "from sklearn.neural_network import MLPClassifier\n",
    "from sklearn.model_selection import train_test_split\n",
    "\n",
    "import seaborn as sns \n",
    "from sklearn.metrics import accuracy_score"
   ]
  },
  {
   "cell_type": "markdown",
   "metadata": {},
   "source": [
    "## Khám phá dữ liệu"
   ]
  },
  {
   "cell_type": "code",
   "execution_count": 310,
   "metadata": {},
   "outputs": [
    {
     "data": {
      "text/html": [
       "<div>\n",
       "<style scoped>\n",
       "    .dataframe tbody tr th:only-of-type {\n",
       "        vertical-align: middle;\n",
       "    }\n",
       "\n",
       "    .dataframe tbody tr th {\n",
       "        vertical-align: top;\n",
       "    }\n",
       "\n",
       "    .dataframe thead th {\n",
       "        text-align: right;\n",
       "    }\n",
       "</style>\n",
       "<table border=\"1\" class=\"dataframe\">\n",
       "  <thead>\n",
       "    <tr style=\"text-align: right;\">\n",
       "      <th></th>\n",
       "      <th>State Name</th>\n",
       "      <th>State Abbreviation</th>\n",
       "      <th>Wind Direction</th>\n",
       "      <th>Created</th>\n",
       "      <th>Applicable Date</th>\n",
       "      <th>Min Temp</th>\n",
       "      <th>Max Temp</th>\n",
       "      <th>The Temp</th>\n",
       "      <th>Wind Speed</th>\n",
       "      <th>Air Pressure</th>\n",
       "      <th>Humidity</th>\n",
       "      <th>Visibility</th>\n",
       "      <th>Predictability</th>\n",
       "    </tr>\n",
       "    <tr>\n",
       "      <th>ID</th>\n",
       "      <th></th>\n",
       "      <th></th>\n",
       "      <th></th>\n",
       "      <th></th>\n",
       "      <th></th>\n",
       "      <th></th>\n",
       "      <th></th>\n",
       "      <th></th>\n",
       "      <th></th>\n",
       "      <th></th>\n",
       "      <th></th>\n",
       "      <th></th>\n",
       "      <th></th>\n",
       "    </tr>\n",
       "  </thead>\n",
       "  <tbody>\n",
       "    <tr>\n",
       "      <th>4.815610e+15</th>\n",
       "      <td>Clear</td>\n",
       "      <td>c</td>\n",
       "      <td>24.918324</td>\n",
       "      <td>2016-01-01T15:50:46.783160Z</td>\n",
       "      <td>1/1/2016</td>\n",
       "      <td>22.5975</td>\n",
       "      <td>33.8400</td>\n",
       "      <td>32.39</td>\n",
       "      <td>5.850634</td>\n",
       "      <td>1015.0</td>\n",
       "      <td>57.0</td>\n",
       "      <td>11.968541</td>\n",
       "      <td>68</td>\n",
       "    </tr>\n",
       "    <tr>\n",
       "      <th>5.117610e+15</th>\n",
       "      <td>Light Cloud</td>\n",
       "      <td>lc</td>\n",
       "      <td>111.222444</td>\n",
       "      <td>2016-01-02T15:50:46.519900Z</td>\n",
       "      <td>1/2/2016</td>\n",
       "      <td>24.2150</td>\n",
       "      <td>33.9675</td>\n",
       "      <td>32.26</td>\n",
       "      <td>4.975470</td>\n",
       "      <td>1014.0</td>\n",
       "      <td>61.0</td>\n",
       "      <td>11.687371</td>\n",
       "      <td>70</td>\n",
       "    </tr>\n",
       "    <tr>\n",
       "      <th>5.845770e+15</th>\n",
       "      <td>Light Rain</td>\n",
       "      <td>lr</td>\n",
       "      <td>54.357487</td>\n",
       "      <td>2016-01-03T15:50:46.178120Z</td>\n",
       "      <td>1/3/2016</td>\n",
       "      <td>24.6425</td>\n",
       "      <td>33.0950</td>\n",
       "      <td>32.36</td>\n",
       "      <td>5.751001</td>\n",
       "      <td>1014.0</td>\n",
       "      <td>66.0</td>\n",
       "      <td>9.814558</td>\n",
       "      <td>75</td>\n",
       "    </tr>\n",
       "    <tr>\n",
       "      <th>4.887680e+15</th>\n",
       "      <td>Heavy Cloud</td>\n",
       "      <td>hc</td>\n",
       "      <td>105.343582</td>\n",
       "      <td>2016-01-04T15:50:46.861790Z</td>\n",
       "      <td>1/4/2016</td>\n",
       "      <td>24.6750</td>\n",
       "      <td>33.3150</td>\n",
       "      <td>32.92</td>\n",
       "      <td>8.274074</td>\n",
       "      <td>1014.0</td>\n",
       "      <td>63.0</td>\n",
       "      <td>11.006659</td>\n",
       "      <td>71</td>\n",
       "    </tr>\n",
       "    <tr>\n",
       "      <th>6.722350e+15</th>\n",
       "      <td>Light Cloud</td>\n",
       "      <td>lc</td>\n",
       "      <td>93.195824</td>\n",
       "      <td>2016-01-05T15:50:46.201860Z</td>\n",
       "      <td>1/5/2016</td>\n",
       "      <td>24.3425</td>\n",
       "      <td>33.3975</td>\n",
       "      <td>33.14</td>\n",
       "      <td>8.083090</td>\n",
       "      <td>1013.0</td>\n",
       "      <td>63.0</td>\n",
       "      <td>11.890248</td>\n",
       "      <td>70</td>\n",
       "    </tr>\n",
       "  </tbody>\n",
       "</table>\n",
       "</div>"
      ],
      "text/plain": [
       "               State Name State Abbreviation  Wind Direction  \\\n",
       "ID                                                             \n",
       "4.815610e+15        Clear                  c       24.918324   \n",
       "5.117610e+15  Light Cloud                 lc      111.222444   \n",
       "5.845770e+15   Light Rain                 lr       54.357487   \n",
       "4.887680e+15  Heavy Cloud                 hc      105.343582   \n",
       "6.722350e+15  Light Cloud                 lc       93.195824   \n",
       "\n",
       "                                  Created Applicable Date  Min Temp  Max Temp  \\\n",
       "ID                                                                              \n",
       "4.815610e+15  2016-01-01T15:50:46.783160Z        1/1/2016   22.5975   33.8400   \n",
       "5.117610e+15  2016-01-02T15:50:46.519900Z        1/2/2016   24.2150   33.9675   \n",
       "5.845770e+15  2016-01-03T15:50:46.178120Z        1/3/2016   24.6425   33.0950   \n",
       "4.887680e+15  2016-01-04T15:50:46.861790Z        1/4/2016   24.6750   33.3150   \n",
       "6.722350e+15  2016-01-05T15:50:46.201860Z        1/5/2016   24.3425   33.3975   \n",
       "\n",
       "              The Temp  Wind Speed  Air Pressure  Humidity  Visibility  \\\n",
       "ID                                                                       \n",
       "4.815610e+15     32.39    5.850634        1015.0      57.0   11.968541   \n",
       "5.117610e+15     32.26    4.975470        1014.0      61.0   11.687371   \n",
       "5.845770e+15     32.36    5.751001        1014.0      66.0    9.814558   \n",
       "4.887680e+15     32.92    8.274074        1014.0      63.0   11.006659   \n",
       "6.722350e+15     33.14    8.083090        1013.0      63.0   11.890248   \n",
       "\n",
       "              Predictability  \n",
       "ID                            \n",
       "4.815610e+15              68  \n",
       "5.117610e+15              70  \n",
       "5.845770e+15              75  \n",
       "4.887680e+15              71  \n",
       "6.722350e+15              70  "
      ]
     },
     "execution_count": 310,
     "metadata": {},
     "output_type": "execute_result"
    }
   ],
   "source": [
    "data_df = pd.read_csv('Data/data.csv',index_col = 'ID') # Cho cột index là cột 0 \n",
    "data_df.head()"
   ]
  },
  {
   "cell_type": "markdown",
   "metadata": {},
   "source": [
    "### Dữ liệu có bao nhiêu dòng và bao nhiêu cột?"
   ]
  },
  {
   "cell_type": "code",
   "execution_count": 303,
   "metadata": {},
   "outputs": [
    {
     "data": {
      "text/plain": [
       "(1461, 13)"
      ]
     },
     "execution_count": 303,
     "metadata": {},
     "output_type": "execute_result"
    }
   ],
   "source": [
    "# Kích thước của dữ liệu\n",
    "data_df.shape"
   ]
  },
  {
   "cell_type": "markdown",
   "metadata": {},
   "source": [
    "### Mỗi dòng có ý nghĩa gì? Có vấn đề các dòng có ý nghĩa khác nhau không?"
   ]
  },
  {
   "cell_type": "markdown",
   "metadata": {},
   "source": [
    "Quan sát bộ dữ liệu ta thấy mỗi dòng chứa thông tin thời tiết của mỗi ngày"
   ]
  },
  {
   "cell_type": "markdown",
   "metadata": {},
   "source": [
    "### Dữ liệu có các dòng bị lặp không?"
   ]
  },
  {
   "cell_type": "code",
   "execution_count": 304,
   "metadata": {},
   "outputs": [
    {
     "data": {
      "text/plain": [
       "8"
      ]
     },
     "execution_count": 304,
     "metadata": {},
     "output_type": "execute_result"
    }
   ],
   "source": [
    "# Kiểm tra dữ liệu thu thập được có bị trùng không\n",
    "data_df.index.duplicated().sum()"
   ]
  },
  {
   "cell_type": "markdown",
   "metadata": {},
   "source": [
    "*Dữ liệu bị trùng lắp là do ID của các năm có thể sẽ bị trùng lắp lại, ta sẽ xử lý cột này ở bước tiền xử lý*"
   ]
  },
  {
   "cell_type": "markdown",
   "metadata": {},
   "source": [
    "### Mỗi cột có ý nghĩa gì?"
   ]
  },
  {
   "cell_type": "markdown",
   "metadata": {},
   "source": [
    "Xem file \"description.txt\""
   ]
  },
  {
   "cell_type": "code",
   "execution_count": 305,
   "metadata": {},
   "outputs": [
    {
     "name": "stdout",
     "output_type": "stream",
     "text": [
      "***** DESCRIPTION WEATHER *****\n",
      "Vị trí: Hồ Chí Minh City\n",
      "Thời tiết 4 năm (2016,2017,2018,2019)\n",
      "Predictability:\n",
      "+ 80: Thunder\n",
      "+ 77: Heavy Rain\n",
      "+ 75: Light Rain\n",
      "+ 73: Showers\n",
      "+ 71: Heavy Cloud\n",
      "+ 70: Light Cloud\n",
      "+ 68: Clear\n",
      "\n",
      "ID: id của mỗi ngày trong từng năm\n",
      "State Name: tên trạng thái của ngày (Clear,Light Cloud,...)\n",
      "State Abbreviation: viết tắt của trạng thái (c,lc,...)\n",
      "Wind Direction: Hướng gió\n",
      "Created: Thời gian cụ thể trong ngày\n",
      "Applicable Date: Ngày áp dụng\n",
      "Min Temp: Nhiệt độ tối thiểu\n",
      "Max Temp: Nhiệt đố tối đa\n",
      "The Temp: Nhiệt độ\n",
      "Wind Speed: Tốc độ của gió\n",
      "Air Pressure: Áp suất không khí\n",
      "Humidity: Độ ẩm\n",
      "Visibility: Khoảng cách nhìn thấy\n",
      "\n",
      "\n",
      "\n",
      "\n"
     ]
    }
   ],
   "source": [
    "with open('description.txt', 'r',encoding = 'utf-8') as f:\n",
    "    print(f.read())"
   ]
  },
  {
   "cell_type": "markdown",
   "metadata": {},
   "source": [
    "## Đưa ra câu hỏi cần trả lời"
   ]
  },
  {
   "cell_type": "markdown",
   "metadata": {},
   "source": [
    "Với bộ dữ liệu này thì cột output ta sẽ lấy là cột Predictability để phân ra mưa hay không mưa  \n",
    "Output - *0: Không mưa,1: Có khả năng mưa,2: Mưa* - ứng với thời tiết được tính từ input - *các chỉ số trong ngày* - được tính từ công thức nào ?   \n",
    "Tạm thời ta để input là các chỉ số trong ngày, ta sẽ xử lý các thuộc tính ở bước tiền xử lý  \n",
    "Việc tìm ra câu trả lời sẽ giúp cho mọi người biết được thời tiết như thế nào để có thể chuẩn bị tốt cho một ngày (thực tế trong cuộc sống )  \n",
    "VD: Nếu biết trời mưa, khi đi ra ngoài ta sẽ cầm theo dù (ô) hay là áo mưa, giúp cho các bác nông dân tránh bị \"chạy thóc\" khi gặp phải ngày mưa,...  \n",
    "\n",
    "### Cảm hứng:  \n",
    "Vô tình vào tuần sau khi được nghỉ các môn học, em có về quê chơi với ông bà, vô tình vào 1 hôm em đi chơi xung quanh xóm thì trời bất ngờ đổ mưa, em chạy về nhà vô tình trên đường thầy nhiều nhà cô chú làm nông phải vội vã \"chạy thóc\", nếu không kịp sẽ bị mưa cuốn trôi, ảnh hưởng đến nhiều thứ nên bọn em đã quyết định đặt câu hỏi liên quan tới thời tiết ạ."
   ]
  },
  {
   "cell_type": "markdown",
   "metadata": {},
   "source": [
    "## Khám phá dữ liệu (để biết cách tách các tập)"
   ]
  },
  {
   "cell_type": "markdown",
   "metadata": {},
   "source": [
    "Để biết cách tách các tập thì ta cần khám phá thêm cột output một ít  \n",
    "+ 80: Thunder -> Mưa (2)  \n",
    "+ 77: Heavy Rain -> Mưa (2)  \n",
    "+ 75: Light Rain -> Mưa (2)  \n",
    "+ 73: Showers -> Mưa (2)  \n",
    "+ 71: Heavy Cloud -> Mây nhiều -> Có khả năng mưa (1)  \n",
    "+ 70: Light Cloud -> Mây ít -> Ít có khả năng mưa -> Ta sẽ đưa vào là không mưa -> Không mưa (0)  \n",
    "+ 68: Clear -> Không mưa (0)  "
   ]
  },
  {
   "cell_type": "code",
   "execution_count": 306,
   "metadata": {},
   "outputs": [
    {
     "data": {
      "text/plain": [
       "dtype('int64')"
      ]
     },
     "execution_count": 306,
     "metadata": {},
     "output_type": "execute_result"
    }
   ],
   "source": [
    "# Cột output hiện có kiểu dữ liệu gì?\n",
    "data_df['Predictability'].dtype"
   ]
  },
  {
   "cell_type": "code",
   "execution_count": 307,
   "metadata": {},
   "outputs": [
    {
     "data": {
      "text/plain": [
       "0"
      ]
     },
     "execution_count": 307,
     "metadata": {},
     "output_type": "execute_result"
    }
   ],
   "source": [
    "# Cột output có giá trị thiếu không?\n",
    "data_df['Predictability'].isna().sum()"
   ]
  },
  {
   "cell_type": "code",
   "execution_count": 308,
   "metadata": {},
   "outputs": [
    {
     "data": {
      "text/plain": [
       "77    33.812457\n",
       "75    24.777550\n",
       "70    14.852841\n",
       "71    13.894593\n",
       "73    10.882957\n",
       "80     0.958248\n",
       "68     0.821355\n",
       "Name: Predictability, dtype: float64"
      ]
     },
     "execution_count": 308,
     "metadata": {},
     "output_type": "execute_result"
    }
   ],
   "source": [
    "# Tỉ lệ các lớp trong cột output?\n",
    "data_df['Predictability'].value_counts(normalize=True) * 100"
   ]
  },
  {
   "cell_type": "code",
   "execution_count": 312,
   "metadata": {},
   "outputs": [],
   "source": [
    "#Chuyển cột output sang dạng nhị phân (0,1)\n",
    "data_df.loc[(data_df.Predictability < 71), 'Predictability'] = 0\n",
    "data_df.loc[(data_df.Predictability == 71), 'Predictability'] = 1\n",
    "data_df.loc[(data_df.Predictability > 71), 'Predictability'] = 2"
   ]
  },
  {
   "cell_type": "code",
   "execution_count": 313,
   "metadata": {},
   "outputs": [
    {
     "data": {
      "text/plain": [
       "2    70.431211\n",
       "0    15.674196\n",
       "1    13.894593\n",
       "Name: Predictability, dtype: float64"
      ]
     },
     "execution_count": 313,
     "metadata": {},
     "output_type": "execute_result"
    }
   ],
   "source": [
    "# Tỉ lệ các lớp trong cột output?\n",
    "data_df['Predictability'].value_counts(normalize=True) * 100"
   ]
  },
  {
   "cell_type": "markdown",
   "metadata": {},
   "source": [
    "Nhìn có vẻ với bộ dữ liệu api trên trang metaweather thì thành phố Hồ Chí Minh hay mưa :)))  \n",
    "Ok, như vậy không có vấn đề gì cả "
   ]
  },
  {
   "cell_type": "markdown",
   "metadata": {},
   "source": [
    "## Tiền xử lý (tách các tập)"
   ]
  },
  {
   "cell_type": "markdown",
   "metadata": {},
   "source": [
    "Bây giờ ta sẽ thực hiện bước tiền xử lý là tách tập validation và tập test"
   ]
  },
  {
   "cell_type": "code",
   "execution_count": 314,
   "metadata": {},
   "outputs": [],
   "source": [
    "# Tách X và y\n",
    "y_sr = data_df[\"Predictability\"] # sr là viết tắt của series\n",
    "X_df = data_df.drop(\"Predictability\", axis=1)"
   ]
  },
  {
   "cell_type": "code",
   "execution_count": 315,
   "metadata": {},
   "outputs": [],
   "source": [
    "# Tách tập huấn luyện(train và validation) và tập test theo tỉ lệ 80%:20%\n",
    "Tr_X_df, test_X_df, Tr_y_sr, test_y_sr = train_test_split(X_df, y_sr, test_size=0.2, random_state=0)"
   ]
  },
  {
   "cell_type": "code",
   "execution_count": 316,
   "metadata": {},
   "outputs": [],
   "source": [
    "#Tách tập huấn luyện train và validation theo tỉ lệ 70%:30%\n",
    "train_X_df, val_X_df, train_y_sr, val_y_sr = train_test_split(Tr_X_df, Tr_y_sr, test_size=0.3, random_state=0)"
   ]
  },
  {
   "cell_type": "code",
   "execution_count": 317,
   "metadata": {},
   "outputs": [
    {
     "data": {
      "text/plain": [
       "(817, 12)"
      ]
     },
     "execution_count": 317,
     "metadata": {},
     "output_type": "execute_result"
    }
   ],
   "source": [
    "train_X_df.shape"
   ]
  },
  {
   "cell_type": "code",
   "execution_count": 318,
   "metadata": {},
   "outputs": [
    {
     "data": {
      "text/plain": [
       "(817,)"
      ]
     },
     "execution_count": 318,
     "metadata": {},
     "output_type": "execute_result"
    }
   ],
   "source": [
    "train_y_sr.shape"
   ]
  },
  {
   "cell_type": "code",
   "execution_count": 319,
   "metadata": {},
   "outputs": [
    {
     "data": {
      "text/plain": [
       "(351, 12)"
      ]
     },
     "execution_count": 319,
     "metadata": {},
     "output_type": "execute_result"
    }
   ],
   "source": [
    "val_X_df.shape"
   ]
  },
  {
   "cell_type": "code",
   "execution_count": 320,
   "metadata": {},
   "outputs": [
    {
     "data": {
      "text/plain": [
       "(351,)"
      ]
     },
     "execution_count": 320,
     "metadata": {},
     "output_type": "execute_result"
    }
   ],
   "source": [
    "val_y_sr.shape"
   ]
  },
  {
   "cell_type": "code",
   "execution_count": 321,
   "metadata": {},
   "outputs": [
    {
     "data": {
      "text/plain": [
       "(293, 12)"
      ]
     },
     "execution_count": 321,
     "metadata": {},
     "output_type": "execute_result"
    }
   ],
   "source": [
    "test_X_df.shape"
   ]
  },
  {
   "cell_type": "code",
   "execution_count": 322,
   "metadata": {},
   "outputs": [
    {
     "data": {
      "text/plain": [
       "(293,)"
      ]
     },
     "execution_count": 322,
     "metadata": {},
     "output_type": "execute_result"
    }
   ],
   "source": [
    "test_y_sr.shape"
   ]
  },
  {
   "cell_type": "code",
   "execution_count": 323,
   "metadata": {},
   "outputs": [
    {
     "data": {
      "text/plain": [
       "Float64Index([4886990000000000.0, 5409480000000000.0, 4828620000000000.0,\n",
       "              4726600000000000.0, 5735360000000000.0],\n",
       "             dtype='float64', name='ID')"
      ]
     },
     "execution_count": 323,
     "metadata": {},
     "output_type": "execute_result"
    }
   ],
   "source": [
    "train_X_df.head().index"
   ]
  },
  {
   "cell_type": "markdown",
   "metadata": {},
   "source": [
    "## Khám phá dữ liệu (tập huấn luyện)"
   ]
  },
  {
   "cell_type": "markdown",
   "metadata": {},
   "source": [
    "### Mỗi cột input hiện đang có kiểu dữ liệu gì? Có cột nào có kiểu dữ liệu chưa phù hợp để có thể xử lý tiếp không?"
   ]
  },
  {
   "cell_type": "code",
   "execution_count": 324,
   "metadata": {},
   "outputs": [
    {
     "data": {
      "text/plain": [
       "State Name             object\n",
       "State Abbreviation     object\n",
       "Wind Direction        float64\n",
       "Created                object\n",
       "Applicable Date        object\n",
       "Min Temp              float64\n",
       "Max Temp              float64\n",
       "The Temp              float64\n",
       "Wind Speed            float64\n",
       "Air Pressure          float64\n",
       "Humidity              float64\n",
       "Visibility            float64\n",
       "dtype: object"
      ]
     },
     "execution_count": 324,
     "metadata": {},
     "output_type": "execute_result"
    }
   ],
   "source": [
    "train_X_df.dtypes"
   ]
  },
  {
   "cell_type": "markdown",
   "metadata": {},
   "source": [
    "### Với mỗi cột input có kiểu dữ liệu dạng số, các giá trị được phân bố như thế nào?"
   ]
  },
  {
   "cell_type": "code",
   "execution_count": 325,
   "metadata": {
    "scrolled": true
   },
   "outputs": [
    {
     "data": {
      "text/plain": [
       "Wind Direction    float64\n",
       "Min Temp          float64\n",
       "Max Temp          float64\n",
       "The Temp          float64\n",
       "Wind Speed        float64\n",
       "Air Pressure      float64\n",
       "Humidity          float64\n",
       "Visibility        float64\n",
       "dtype: object"
      ]
     },
     "execution_count": 325,
     "metadata": {},
     "output_type": "execute_result"
    }
   ],
   "source": [
    "train_X_df.dtypes[train_X_df.dtypes != object]"
   ]
  },
  {
   "cell_type": "code",
   "execution_count": 326,
   "metadata": {
    "scrolled": true
   },
   "outputs": [
    {
     "data": {
      "text/html": [
       "<div>\n",
       "<style scoped>\n",
       "    .dataframe tbody tr th:only-of-type {\n",
       "        vertical-align: middle;\n",
       "    }\n",
       "\n",
       "    .dataframe tbody tr th {\n",
       "        vertical-align: top;\n",
       "    }\n",
       "\n",
       "    .dataframe thead th {\n",
       "        text-align: right;\n",
       "    }\n",
       "</style>\n",
       "<table border=\"1\" class=\"dataframe\">\n",
       "  <thead>\n",
       "    <tr style=\"text-align: right;\">\n",
       "      <th></th>\n",
       "      <th>Wind Direction</th>\n",
       "      <th>Min Temp</th>\n",
       "      <th>Max Temp</th>\n",
       "      <th>The Temp</th>\n",
       "      <th>Wind Speed</th>\n",
       "      <th>Air Pressure</th>\n",
       "      <th>Humidity</th>\n",
       "      <th>Visibility</th>\n",
       "    </tr>\n",
       "  </thead>\n",
       "  <tbody>\n",
       "    <tr>\n",
       "      <th>missing_ratio</th>\n",
       "      <td>0.00000</td>\n",
       "      <td>0.0000</td>\n",
       "      <td>0.00</td>\n",
       "      <td>0.00</td>\n",
       "      <td>0.000000</td>\n",
       "      <td>0.00</td>\n",
       "      <td>0.1</td>\n",
       "      <td>0.200000</td>\n",
       "    </tr>\n",
       "    <tr>\n",
       "      <th>min</th>\n",
       "      <td>5.00000</td>\n",
       "      <td>19.4725</td>\n",
       "      <td>12.93</td>\n",
       "      <td>23.47</td>\n",
       "      <td>1.247753</td>\n",
       "      <td>997.76</td>\n",
       "      <td>44.0</td>\n",
       "      <td>3.349191</td>\n",
       "    </tr>\n",
       "    <tr>\n",
       "      <th>lower_quartile</th>\n",
       "      <td>110.00000</td>\n",
       "      <td>24.2000</td>\n",
       "      <td>29.80</td>\n",
       "      <td>28.70</td>\n",
       "      <td>3.600000</td>\n",
       "      <td>1011.00</td>\n",
       "      <td>64.0</td>\n",
       "      <td>7.700000</td>\n",
       "    </tr>\n",
       "    <tr>\n",
       "      <th>median</th>\n",
       "      <td>153.60000</td>\n",
       "      <td>25.0000</td>\n",
       "      <td>31.00</td>\n",
       "      <td>29.80</td>\n",
       "      <td>5.200000</td>\n",
       "      <td>1013.20</td>\n",
       "      <td>75.0</td>\n",
       "      <td>10.000000</td>\n",
       "    </tr>\n",
       "    <tr>\n",
       "      <th>upper_quartile</th>\n",
       "      <td>236.90000</td>\n",
       "      <td>25.8000</td>\n",
       "      <td>32.60</td>\n",
       "      <td>31.60</td>\n",
       "      <td>7.000000</td>\n",
       "      <td>1014.90</td>\n",
       "      <td>82.0</td>\n",
       "      <td>11.700000</td>\n",
       "    </tr>\n",
       "    <tr>\n",
       "      <th>max</th>\n",
       "      <td>359.17159</td>\n",
       "      <td>28.6200</td>\n",
       "      <td>37.78</td>\n",
       "      <td>37.18</td>\n",
       "      <td>13.850926</td>\n",
       "      <td>1020.98</td>\n",
       "      <td>94.0</td>\n",
       "      <td>18.473366</td>\n",
       "    </tr>\n",
       "  </tbody>\n",
       "</table>\n",
       "</div>"
      ],
      "text/plain": [
       "                Wind Direction  Min Temp  Max Temp  The Temp  Wind Speed  \\\n",
       "missing_ratio          0.00000    0.0000      0.00      0.00    0.000000   \n",
       "min                    5.00000   19.4725     12.93     23.47    1.247753   \n",
       "lower_quartile       110.00000   24.2000     29.80     28.70    3.600000   \n",
       "median               153.60000   25.0000     31.00     29.80    5.200000   \n",
       "upper_quartile       236.90000   25.8000     32.60     31.60    7.000000   \n",
       "max                  359.17159   28.6200     37.78     37.18   13.850926   \n",
       "\n",
       "                Air Pressure  Humidity  Visibility  \n",
       "missing_ratio           0.00       0.1    0.200000  \n",
       "min                   997.76      44.0    3.349191  \n",
       "lower_quartile       1011.00      64.0    7.700000  \n",
       "median               1013.20      75.0   10.000000  \n",
       "upper_quartile       1014.90      82.0   11.700000  \n",
       "max                  1020.98      94.0   18.473366  "
      ]
     },
     "execution_count": 326,
     "metadata": {},
     "output_type": "execute_result"
    }
   ],
   "source": [
    "num_cols = ['Wind Direction','Min Temp','Max Temp','The Temp','Wind Speed','Air Pressure','Humidity','Visibility']\n",
    "df = train_X_df[num_cols]\n",
    "def missing_ratio(df):\n",
    "    return (df.isna().mean() * 100).round(1)\n",
    "def lower_quartile(df):\n",
    "    return df.quantile(0.25).round(1)\n",
    "def median(df):\n",
    "    return df.quantile(0.5).round(1)\n",
    "def upper_quartile(df):\n",
    "    return df.quantile(0.75).round(1)\n",
    "df.agg([missing_ratio, 'min', lower_quartile, median, upper_quartile, 'max'])"
   ]
  },
  {
   "cell_type": "markdown",
   "metadata": {},
   "source": [
    "Theo như bảng ở trên, ta thấy không có thuôc tính (dạng số) bị thiếu dữ liệu"
   ]
  },
  {
   "cell_type": "markdown",
   "metadata": {},
   "source": [
    "### Với mỗi cột input có kiểu dữ liệu không phải dạng số, các giá trị được phân bố như thế nào?"
   ]
  },
  {
   "cell_type": "code",
   "execution_count": 327,
   "metadata": {},
   "outputs": [
    {
     "data": {
      "text/html": [
       "<div>\n",
       "<style scoped>\n",
       "    .dataframe tbody tr th:only-of-type {\n",
       "        vertical-align: middle;\n",
       "    }\n",
       "\n",
       "    .dataframe tbody tr th {\n",
       "        vertical-align: top;\n",
       "    }\n",
       "\n",
       "    .dataframe thead th {\n",
       "        text-align: right;\n",
       "    }\n",
       "</style>\n",
       "<table border=\"1\" class=\"dataframe\">\n",
       "  <thead>\n",
       "    <tr style=\"text-align: right;\">\n",
       "      <th></th>\n",
       "      <th>State Abbreviation</th>\n",
       "      <th>Created</th>\n",
       "      <th>Applicable Date</th>\n",
       "      <th>State Name</th>\n",
       "    </tr>\n",
       "  </thead>\n",
       "  <tbody>\n",
       "    <tr>\n",
       "      <th>missing_ratio</th>\n",
       "      <td>0</td>\n",
       "      <td>0</td>\n",
       "      <td>0</td>\n",
       "      <td>0</td>\n",
       "    </tr>\n",
       "    <tr>\n",
       "      <th>num_values</th>\n",
       "      <td>7</td>\n",
       "      <td>817</td>\n",
       "      <td>817</td>\n",
       "      <td>7</td>\n",
       "    </tr>\n",
       "    <tr>\n",
       "      <th>value_ratios</th>\n",
       "      <td>{'hr': 33.9, 'lr': 23.3, 'lc': 15.5, 'hc': 14.2, 's': 11.1, 't': 1.0, 'c': 1.0}</td>\n",
       "      <td>{'2016-08-08T16:49:48.241840Z': 0.1, '2017-12-21T15:11:47.472550Z': 0.1, '2019-04-15T16:08:47.895379Z': 0.1, '2018-07-27T15:33:46.567240Z': 0.1, '2016-10-24T16:20:48.695990Z': 0.1, '2019-02-20T17:...</td>\n",
       "      <td>{'9/14/2016': 0.1, '1/18/2018': 0.1, '7/27/2017': 0.1, '3/31/2016': 0.1, '2/1/2018': 0.1, '12/5/2016': 0.1, '3/26/2017': 0.1, '7/29/2018': 0.1, '6/17/2017': 0.1, '3/28/2019': 0.1, '11/22/2019': 0....</td>\n",
       "      <td>{'Heavy Rain': 33.9, 'Light Rain': 23.3, 'Light Cloud': 15.5, 'Heavy Cloud': 14.2, 'Showers': 11.1, 'Clear': 1.0, 'Thunder': 1.0}</td>\n",
       "    </tr>\n",
       "  </tbody>\n",
       "</table>\n",
       "</div>"
      ],
      "text/plain": [
       "                                                                            State Abbreviation  \\\n",
       "missing_ratio                                                                                0   \n",
       "num_values                                                                                   7   \n",
       "value_ratios   {'hr': 33.9, 'lr': 23.3, 'lc': 15.5, 'hc': 14.2, 's': 11.1, 't': 1.0, 'c': 1.0}   \n",
       "\n",
       "                                                                                                                                                                                                               Created  \\\n",
       "missing_ratio                                                                                                                                                                                                        0   \n",
       "num_values                                                                                                                                                                                                         817   \n",
       "value_ratios   {'2016-08-08T16:49:48.241840Z': 0.1, '2017-12-21T15:11:47.472550Z': 0.1, '2019-04-15T16:08:47.895379Z': 0.1, '2018-07-27T15:33:46.567240Z': 0.1, '2016-10-24T16:20:48.695990Z': 0.1, '2019-02-20T17:...   \n",
       "\n",
       "                                                                                                                                                                                                       Applicable Date  \\\n",
       "missing_ratio                                                                                                                                                                                                        0   \n",
       "num_values                                                                                                                                                                                                         817   \n",
       "value_ratios   {'9/14/2016': 0.1, '1/18/2018': 0.1, '7/27/2017': 0.1, '3/31/2016': 0.1, '2/1/2018': 0.1, '12/5/2016': 0.1, '3/26/2017': 0.1, '7/29/2018': 0.1, '6/17/2017': 0.1, '3/28/2019': 0.1, '11/22/2019': 0....   \n",
       "\n",
       "                                                                                                                                      State Name  \n",
       "missing_ratio                                                                                                                                  0  \n",
       "num_values                                                                                                                                     7  \n",
       "value_ratios   {'Heavy Rain': 33.9, 'Light Rain': 23.3, 'Light Cloud': 15.5, 'Heavy Cloud': 14.2, 'Showers': 11.1, 'Clear': 1.0, 'Thunder': 1.0}  "
      ]
     },
     "execution_count": 327,
     "metadata": {},
     "output_type": "execute_result"
    }
   ],
   "source": [
    "pd.set_option('display.max_colwidth', 200) # Để nhìn rõ hơn\n",
    "cat_cols = list(set(train_X_df.columns) - set(num_cols))\n",
    "df = train_X_df[cat_cols]\n",
    "def missing_ratio(df):\n",
    "    return (df.isna().mean() * 100).round(1)\n",
    "def num_values(df):\n",
    "    return df.nunique()\n",
    "def value_ratios(c):\n",
    "    return dict((c.value_counts(normalize=True) * 100).round(1))\n",
    "df.agg([missing_ratio, num_values, value_ratios])"
   ]
  },
  {
   "cell_type": "markdown",
   "metadata": {},
   "source": [
    "Tương tự như thuộc tính không phải dạng số (categorical) cũng không bị thiếu dữ liệu"
   ]
  },
  {
   "cell_type": "markdown",
   "metadata": {},
   "source": [
    "## Tiền xử lý (tập huấn luyện) "
   ]
  },
  {
   "cell_type": "markdown",
   "metadata": {},
   "source": [
    "Đầu tiên ta sẽ bỏ một số cột sau:  \n",
    "- Bỏ cột 'ID' , thay vào đó ta sẽ để cột 'Applicable Date' làm cột index  \n",
    "- Bỏ cột 'State Name' và cột 'State Abbreviation' vì đây là 2 cột tương tự giống với cột output  \n",
    "- Bỏ cột 'Created' vì cột này không có nhiều tác dụng trong việc đánh giá mô hình"
   ]
  },
  {
   "cell_type": "code",
   "execution_count": 328,
   "metadata": {},
   "outputs": [],
   "source": [
    "class ColDropper(BaseEstimator, TransformerMixin):\n",
    "    def fit(self, X_df, y=None):\n",
    "        return self\n",
    "    def transform(self, X_df, y=None):\n",
    "        # YOUR CODE HERE\n",
    "        df_transform = X_df.copy()\n",
    "        df_transform.set_index('Applicable Date',inplace = True)\n",
    "        df_transform.drop(['State Name','State Abbreviation','Created'],axis = 1,inplace = True)\n",
    "        return df_transform"
   ]
  },
  {
   "cell_type": "code",
   "execution_count": 329,
   "metadata": {
    "scrolled": true
   },
   "outputs": [
    {
     "data": {
      "text/html": [
       "<div>\n",
       "<style scoped>\n",
       "    .dataframe tbody tr th:only-of-type {\n",
       "        vertical-align: middle;\n",
       "    }\n",
       "\n",
       "    .dataframe tbody tr th {\n",
       "        vertical-align: top;\n",
       "    }\n",
       "\n",
       "    .dataframe thead th {\n",
       "        text-align: right;\n",
       "    }\n",
       "</style>\n",
       "<table border=\"1\" class=\"dataframe\">\n",
       "  <thead>\n",
       "    <tr style=\"text-align: right;\">\n",
       "      <th></th>\n",
       "      <th>Wind Direction</th>\n",
       "      <th>Min Temp</th>\n",
       "      <th>Max Temp</th>\n",
       "      <th>The Temp</th>\n",
       "      <th>Wind Speed</th>\n",
       "      <th>Air Pressure</th>\n",
       "      <th>Humidity</th>\n",
       "      <th>Visibility</th>\n",
       "    </tr>\n",
       "    <tr>\n",
       "      <th>Applicable Date</th>\n",
       "      <th></th>\n",
       "      <th></th>\n",
       "      <th></th>\n",
       "      <th></th>\n",
       "      <th></th>\n",
       "      <th></th>\n",
       "      <th></th>\n",
       "      <th></th>\n",
       "    </tr>\n",
       "  </thead>\n",
       "  <tbody>\n",
       "    <tr>\n",
       "      <th>1/14/2017</th>\n",
       "      <td>36.835522</td>\n",
       "      <td>24.9140</td>\n",
       "      <td>30.3940</td>\n",
       "      <td>28.045</td>\n",
       "      <td>4.043332</td>\n",
       "      <td>1013.775</td>\n",
       "      <td>82.0</td>\n",
       "      <td>10.896987</td>\n",
       "    </tr>\n",
       "    <tr>\n",
       "      <th>3/13/2019</th>\n",
       "      <td>133.678226</td>\n",
       "      <td>24.6400</td>\n",
       "      <td>32.4850</td>\n",
       "      <td>32.055</td>\n",
       "      <td>6.639876</td>\n",
       "      <td>1011.505</td>\n",
       "      <td>58.0</td>\n",
       "      <td>12.335461</td>\n",
       "    </tr>\n",
       "    <tr>\n",
       "      <th>9/14/2016</th>\n",
       "      <td>251.350461</td>\n",
       "      <td>24.6850</td>\n",
       "      <td>31.1125</td>\n",
       "      <td>29.750</td>\n",
       "      <td>8.062155</td>\n",
       "      <td>1012.830</td>\n",
       "      <td>80.0</td>\n",
       "      <td>11.525193</td>\n",
       "    </tr>\n",
       "    <tr>\n",
       "      <th>1/29/2016</th>\n",
       "      <td>83.837521</td>\n",
       "      <td>24.4225</td>\n",
       "      <td>34.8850</td>\n",
       "      <td>34.880</td>\n",
       "      <td>8.978735</td>\n",
       "      <td>1013.000</td>\n",
       "      <td>61.0</td>\n",
       "      <td>11.048601</td>\n",
       "    </tr>\n",
       "    <tr>\n",
       "      <th>5/6/2019</th>\n",
       "      <td>228.331092</td>\n",
       "      <td>28.6200</td>\n",
       "      <td>36.3050</td>\n",
       "      <td>33.215</td>\n",
       "      <td>6.783860</td>\n",
       "      <td>1007.950</td>\n",
       "      <td>62.0</td>\n",
       "      <td>10.732945</td>\n",
       "    </tr>\n",
       "    <tr>\n",
       "      <th>...</th>\n",
       "      <td>...</td>\n",
       "      <td>...</td>\n",
       "      <td>...</td>\n",
       "      <td>...</td>\n",
       "      <td>...</td>\n",
       "      <td>...</td>\n",
       "      <td>...</td>\n",
       "      <td>...</td>\n",
       "    </tr>\n",
       "    <tr>\n",
       "      <th>4/21/2019</th>\n",
       "      <td>157.832501</td>\n",
       "      <td>28.6050</td>\n",
       "      <td>36.1750</td>\n",
       "      <td>33.995</td>\n",
       "      <td>7.283722</td>\n",
       "      <td>1007.700</td>\n",
       "      <td>56.0</td>\n",
       "      <td>11.707876</td>\n",
       "    </tr>\n",
       "    <tr>\n",
       "      <th>9/5/2016</th>\n",
       "      <td>265.199886</td>\n",
       "      <td>26.3275</td>\n",
       "      <td>31.8750</td>\n",
       "      <td>29.560</td>\n",
       "      <td>6.623241</td>\n",
       "      <td>1000.175</td>\n",
       "      <td>83.0</td>\n",
       "      <td>5.317695</td>\n",
       "    </tr>\n",
       "    <tr>\n",
       "      <th>1/23/2019</th>\n",
       "      <td>150.446195</td>\n",
       "      <td>21.5250</td>\n",
       "      <td>29.0300</td>\n",
       "      <td>28.690</td>\n",
       "      <td>1.770251</td>\n",
       "      <td>1017.570</td>\n",
       "      <td>61.0</td>\n",
       "      <td>13.130816</td>\n",
       "    </tr>\n",
       "    <tr>\n",
       "      <th>1/23/2018</th>\n",
       "      <td>126.325477</td>\n",
       "      <td>24.0775</td>\n",
       "      <td>30.0200</td>\n",
       "      <td>29.105</td>\n",
       "      <td>3.064331</td>\n",
       "      <td>1012.580</td>\n",
       "      <td>86.0</td>\n",
       "      <td>10.171225</td>\n",
       "    </tr>\n",
       "    <tr>\n",
       "      <th>11/5/2016</th>\n",
       "      <td>353.738888</td>\n",
       "      <td>23.5125</td>\n",
       "      <td>29.5575</td>\n",
       "      <td>30.140</td>\n",
       "      <td>4.937043</td>\n",
       "      <td>1007.020</td>\n",
       "      <td>88.0</td>\n",
       "      <td>NaN</td>\n",
       "    </tr>\n",
       "  </tbody>\n",
       "</table>\n",
       "<p>817 rows × 8 columns</p>\n",
       "</div>"
      ],
      "text/plain": [
       "                 Wind Direction  Min Temp  Max Temp  The Temp  Wind Speed  \\\n",
       "Applicable Date                                                             \n",
       "1/14/2017             36.835522   24.9140   30.3940    28.045    4.043332   \n",
       "3/13/2019            133.678226   24.6400   32.4850    32.055    6.639876   \n",
       "9/14/2016            251.350461   24.6850   31.1125    29.750    8.062155   \n",
       "1/29/2016             83.837521   24.4225   34.8850    34.880    8.978735   \n",
       "5/6/2019             228.331092   28.6200   36.3050    33.215    6.783860   \n",
       "...                         ...       ...       ...       ...         ...   \n",
       "4/21/2019            157.832501   28.6050   36.1750    33.995    7.283722   \n",
       "9/5/2016             265.199886   26.3275   31.8750    29.560    6.623241   \n",
       "1/23/2019            150.446195   21.5250   29.0300    28.690    1.770251   \n",
       "1/23/2018            126.325477   24.0775   30.0200    29.105    3.064331   \n",
       "11/5/2016            353.738888   23.5125   29.5575    30.140    4.937043   \n",
       "\n",
       "                 Air Pressure  Humidity  Visibility  \n",
       "Applicable Date                                      \n",
       "1/14/2017            1013.775      82.0   10.896987  \n",
       "3/13/2019            1011.505      58.0   12.335461  \n",
       "9/14/2016            1012.830      80.0   11.525193  \n",
       "1/29/2016            1013.000      61.0   11.048601  \n",
       "5/6/2019             1007.950      62.0   10.732945  \n",
       "...                       ...       ...         ...  \n",
       "4/21/2019            1007.700      56.0   11.707876  \n",
       "9/5/2016             1000.175      83.0    5.317695  \n",
       "1/23/2019            1017.570      61.0   13.130816  \n",
       "1/23/2018            1012.580      86.0   10.171225  \n",
       "11/5/2016            1007.020      88.0         NaN  \n",
       "\n",
       "[817 rows x 8 columns]"
      ]
     },
     "execution_count": 329,
     "metadata": {},
     "output_type": "execute_result"
    }
   ],
   "source": [
    "col_dropper = ColDropper()\n",
    "col_dropper.fit(train_X_df)\n",
    "col_dropper.transform(train_X_df)"
   ]
  },
  {
   "cell_type": "markdown",
   "metadata": {},
   "source": [
    "Như ta thấy ở trên thì toàn bộ thuộc tính chỉ còn lại thuộc tính dạng số (numerical): 'Wind Direction', 'Min Temp', 'Max Temp', 'The Temp', 'Wind Speed', 'Air Pressure', 'Humidity', 'Visibility'  \n",
    "Mặc dù không có dữ liệu bị thiếu trên các thuộc tính dạng kiểu số nhưng ta cũng cần phải ta đều cần tính mean, vì ta không biết được cột nào sẽ bị thiếu giá trị khi dự đoán với các véc-tơ input mới (Class MissingValues sẽ làm việc đó)  \n",
    "Sau khi đã điền giá trị thiếu ta sẽ chuẩn hóa bằng cách trừ đi mean và chia cho độ lệch chuẩn của cột để giúp cho các thuật toán cực tiểu hóa như Gradient Descent, LBFGS, ... hội tụ nhanh hơn (Class Standarized sẽ làm việc này)"
   ]
  },
  {
   "cell_type": "code",
   "execution_count": 295,
   "metadata": {},
   "outputs": [
    {
     "data": {
      "text/plain": [
       "array([[-1.70458685e+00, -3.83869553e-02, -3.81948954e-01, ...,\n",
       "         3.18956762e-01,  8.40393959e-01,  4.48589297e-01],\n",
       "       [-4.55905835e-01, -2.40010453e-01,  4.99410831e-01, ...,\n",
       "        -2.92778596e-01, -1.33231565e+00,  1.00982975e+00],\n",
       "       [ 1.06134925e+00, -2.06897104e-01, -7.91000751e-02, ...,\n",
       "         6.42916019e-02,  6.59334825e-01,  6.93692578e-01],\n",
       "       ...,\n",
       "       [-2.39701173e-01, -2.53218999e+00, -9.56877096e-01, ...,\n",
       "         1.34165971e+00, -1.06072695e+00,  1.32014845e+00],\n",
       "       [-5.50711521e-01, -6.53927303e-01, -5.39590541e-01, ...,\n",
       "        -3.08013349e-03,  1.20251223e+00,  1.65423486e-01],\n",
       "       [ 2.38153632e+00, -1.06968378e+00, -7.34535018e-01, ...,\n",
       "        -1.50142753e+00,  1.38357136e+00,  6.93069954e-16]])"
      ]
     },
     "execution_count": 295,
     "metadata": {},
     "output_type": "execute_result"
    }
   ],
   "source": [
    "class MissingValues(BaseEstimator, TransformerMixin):\n",
    "    def fit(self,X, y=None):\n",
    "        #mean  (num_cols)\n",
    "        self.imp_mean = SimpleImputer(missing_values=np.nan,strategy='mean')\n",
    "        self.imp_mean = self.imp_mean.fit(X[X.columns])\n",
    "        return self\n",
    "    def transform(self, X, y=None):\n",
    "        X[X.columns] = self.imp_mean.transform(X[X.columns])\n",
    "        return X\n",
    "class Standardized(BaseEstimator, TransformerMixin):\n",
    "    def fit(self, X, y=None):\n",
    "        scaler = StandardScaler()\n",
    "        self.scaled = scaler.fit(X)\n",
    "        return self\n",
    "    def transform(self, X, y=None):\n",
    "        #Standardized\n",
    "        result = self.scaled.transform(X)\n",
    "        return result\n",
    "    \n",
    "preprocess_pipeline = make_pipeline(ColDropper(),MissingValues(),Standardized())\n",
    "preprocessed_train_X = preprocess_pipeline.fit_transform(train_X_df)\n",
    "preprocessed_train_X"
   ]
  },
  {
   "cell_type": "markdown",
   "metadata": {},
   "source": [
    "## Tiền xử lý + mô hình hóa"
   ]
  },
  {
   "cell_type": "markdown",
   "metadata": {},
   "source": [
    "### Tìm mô hình tốt nhất "
   ]
  },
  {
   "cell_type": "markdown",
   "metadata": {},
   "source": [
    "#### Mô hình Neural Net"
   ]
  },
  {
   "cell_type": "markdown",
   "metadata": {},
   "source": [
    "Ta sẽ sử dụng mô hình Neural Net để phân lớp. Bạn sẽ tạo ra một pipeline từ đầu đến cuối bao gồm: các bước tiền xử lý ở trên + Neural Net (với các siêu tham số `hidden_layer_sizes=(20), activation='tanh', solver='lbfgs', random_state=0, max_iter=2500`)  \n",
    "\n",
    "Sau khi đã có được pipeline từ đầu đến cuối này, bạn sẽ thử nghiệm:\n",
    "- Siêu tham số `alpha` (mức độ L2 regularization hay weight decay) của `MLPClassifier` với 5 giá trị khác nhau: 0.1, 1, 10, 100, 1000.\n",
    "- Siêu tham số `hidden_layer_sizes` (số lớp ẩn trong Neural) của `MLPClassifier` với 5 giá trị khác nhau: 5,10,20,50,100"
   ]
  },
  {
   "cell_type": "code",
   "execution_count": 342,
   "metadata": {},
   "outputs": [
    {
     "name": "stdout",
     "output_type": "stream",
     "text": [
      "16.23931623931624\n",
      "10\n",
      "5\n"
     ]
    },
    {
     "data": {
      "text/plain": [
       "'Finish!'"
      ]
     },
     "execution_count": 342,
     "metadata": {},
     "output_type": "execute_result"
    }
   ],
   "source": [
    "#Tạo full pipeline  \n",
    "full_pipeline = make_pipeline(ColDropper(),MissingValues(),Standardized(),MLPClassifier(hidden_layer_sizes=(20),activation='tanh',solver='lbfgs',random_state= 0,max_iter = 2500))\n",
    "alpha_l = []\n",
    "hid_l = []\n",
    "# Thử nghiệm với các giá trị khác nhau của các siêu tham số\n",
    "# và chọn ra các giá trị tốt nhất\n",
    "train_errs = []\n",
    "val_errs = []\n",
    "alphas = [0.1, 1, 10, 100, 1000]\n",
    "hidden_layers = [5, 10, 20, 50, 100]\n",
    "best_val_err = float('inf'); best_alpha = None; best_num_top_titles = None\n",
    "for alpha in alphas:\n",
    "    for hidden_layer in hidden_layers:\n",
    "        alpha_l.append(alpha)\n",
    "        hid_l.append(hidden_layer)\n",
    "        full_pipeline.set_params(mlpclassifier__alpha=alpha,mlpclassifier__hidden_layer_sizes = (hidden_layer))\n",
    "        full_pipeline.fit(train_X_df,train_y_sr)\n",
    "        train_errs.append((1-full_pipeline.score(train_X_df,train_y_sr))*100)\n",
    "        val_errs.append((1-full_pipeline.score(val_X_df,val_y_sr))*100)\n",
    "best_val_err = min(val_errs)\n",
    "best_alpha = alpha_l[val_errs.index(best_val_err)]\n",
    "best_hidden_layer = hid_l[val_errs.index(best_val_err)]\n",
    "print(best_val_err)\n",
    "print(best_alpha)\n",
    "print(best_hidden_layer)\n",
    "'Finish!'"
   ]
  },
  {
   "cell_type": "code",
   "execution_count": 346,
   "metadata": {},
   "outputs": [
    {
     "data": {
      "image/png": "[encoded data removed]",
      "text/plain": [
       "<Figure size 720x360 with 2 Axes>"
      ]
     },
     "metadata": {
      "needs_background": "light"
     },
     "output_type": "display_data"
    }
   ],
   "source": [
    "# Trực quan hóa kết quả\n",
    "train_errs_df = pd.DataFrame(data=np.array(train_errs).reshape(len(alphas), -1),\n",
    "                             index=alphas, columns=hidden_layers)\n",
    "val_errs_df = pd.DataFrame(data=np.array(val_errs).reshape(len(alphas), -1), \n",
    "                           index=alphas, columns=hidden_layers)\n",
    "min_err = min(min(train_errs), min(val_errs))\n",
    "max_err = max(max(train_errs), max(val_errs))\n",
    "plt.figure(figsize=(10, 5))\n",
    "plt.subplot(1, 2, 1)\n",
    "sns.heatmap(train_errs_df, vmin=min_err, vmax=max_err, square=True, annot=True, \n",
    "            cbar=False, fmt='.1f', cmap='Reds')\n",
    "plt.title('train errors'); plt.xlabel('hidden layers'); plt.ylabel('alpha')\n",
    "plt.subplot(1, 2, 2)\n",
    "sns.heatmap(val_errs_df, vmin=min_err, vmax=max_err, square=True, annot=True, \n",
    "            cbar=False, fmt='.1f', cmap='Reds')\n",
    "plt.title('validation errors'); plt.xlabel('hidden layers'); plt.ylabel('alpha');"
   ]
  },
  {
   "cell_type": "markdown",
   "metadata": {},
   "source": [
    "Để ý thấy với hidden layers khác nhau thì sẽ không ảnh hưởng đến độ lỗi của mô hình quá nhiều,để đánh giá mô hình này thì ta sẽ dựa vào alpha"
   ]
  },
  {
   "cell_type": "code",
   "execution_count": 348,
   "metadata": {},
   "outputs": [
    {
     "data": {
      "text/plain": [
       "Pipeline(steps=[('coldropper', ColDropper()),\n",
       "                ('missingvalues', MissingValues()),\n",
       "                ('standardized', Standardized()),\n",
       "                ('mlpclassifier',\n",
       "                 MLPClassifier(activation='tanh', alpha=10,\n",
       "                               hidden_layer_sizes=5, max_iter=2500,\n",
       "                               random_state=0, solver='lbfgs'))])"
      ]
     },
     "execution_count": 348,
     "metadata": {},
     "output_type": "execute_result"
    }
   ],
   "source": [
    "full_pipeline.set_params(mlpclassifier__alpha=best_alpha,mlpclassifier__hidden_layer_sizes = (best_hidden_layer))\n",
    "full_pipeline.fit(Tr_X_df,Tr_y_sr)"
   ]
  },
  {
   "cell_type": "code",
   "execution_count": 352,
   "metadata": {},
   "outputs": [
    {
     "name": "stdout",
     "output_type": "stream",
     "text": [
      "0.8498293515358362\n"
     ]
    }
   ],
   "source": [
    "# Đánh giá độ lỗi của mô hình Neural Net\n",
    "predict = full_pipeline.predict(test_X_df)\n",
    "print(accuracy_score(predict, test_y_sr))"
   ]
  }
 ],
 "metadata": {
  "kernelspec": {
   "display_name": "Python 3",
   "language": "python",
   "name": "python3"
  },
  "language_info": {
   "codemirror_mode": {
    "name": "ipython",
    "version": 3
   },
   "file_extension": ".py",
   "mimetype": "text/x-python",
   "name": "python",
   "nbconvert_exporter": "python",
   "pygments_lexer": "ipython3",
   "version": "3.8.3"
  },
  "toc": {
   "base_numbering": 1,
   "nav_menu": {},
   "number_sections": true,
   "sideBar": true,
   "skip_h1_title": false,
   "title_cell": "Table of Contents",
   "title_sidebar": "Contents",
   "toc_cell": false,
   "toc_position": {
    "height": "calc(100% - 180px)",
    "left": "10px",
    "top": "150px",
    "width": "307.2px"
   },
   "toc_section_display": true,
   "toc_window_display": true
  }
 },
 "nbformat": 4,
 "nbformat_minor": 4
}
