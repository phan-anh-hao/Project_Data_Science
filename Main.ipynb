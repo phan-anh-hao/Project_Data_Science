{
 "cells": [
  {
   "cell_type": "markdown",
   "metadata": {},
   "source": [
    "## Import"
   ]
  },
  {
   "cell_type": "code",
   "execution_count": 3,
   "metadata": {},
   "outputs": [],
   "source": [
    "import numpy as np\n",
    "import pandas as pd\n",
    "import matplotlib.pyplot as plt\n",
    "import sklearn "
   ]
  },
  {
   "cell_type": "markdown",
   "metadata": {},
   "source": [
    "## Khám phá dữ liệu"
   ]
  },
  {
   "cell_type": "code",
   "execution_count": 5,
   "metadata": {},
   "outputs": [
    {
     "data": {
      "text/html": [
       "<div>\n",
       "<style scoped>\n",
       "    .dataframe tbody tr th:only-of-type {\n",
       "        vertical-align: middle;\n",
       "    }\n",
       "\n",
       "    .dataframe tbody tr th {\n",
       "        vertical-align: top;\n",
       "    }\n",
       "\n",
       "    .dataframe thead th {\n",
       "        text-align: right;\n",
       "    }\n",
       "</style>\n",
       "<table border=\"1\" class=\"dataframe\">\n",
       "  <thead>\n",
       "    <tr style=\"text-align: right;\">\n",
       "      <th></th>\n",
       "      <th>ID</th>\n",
       "      <th>State Name</th>\n",
       "      <th>State Abbreviation</th>\n",
       "      <th>Wind Direction</th>\n",
       "      <th>Created</th>\n",
       "      <th>Applicable Date</th>\n",
       "      <th>Min Temp</th>\n",
       "      <th>Max Temp</th>\n",
       "      <th>The Temp</th>\n",
       "      <th>Wind Speed</th>\n",
       "      <th>Air Pressure</th>\n",
       "      <th>Humidity</th>\n",
       "      <th>Visibility</th>\n",
       "      <th>Predictability</th>\n",
       "    </tr>\n",
       "  </thead>\n",
       "  <tbody>\n",
       "    <tr>\n",
       "      <th>0</th>\n",
       "      <td>4815613784489984</td>\n",
       "      <td>Clear</td>\n",
       "      <td>c</td>\n",
       "      <td>24.918324</td>\n",
       "      <td>2016-01-01T15:50:46.783160Z</td>\n",
       "      <td>2016-01-01</td>\n",
       "      <td>22.5975</td>\n",
       "      <td>33.8400</td>\n",
       "      <td>32.39</td>\n",
       "      <td>5.850634</td>\n",
       "      <td>1015.0</td>\n",
       "      <td>57.0</td>\n",
       "      <td>11.968541</td>\n",
       "      <td>68</td>\n",
       "    </tr>\n",
       "    <tr>\n",
       "      <th>1</th>\n",
       "      <td>5117614409908224</td>\n",
       "      <td>Light Cloud</td>\n",
       "      <td>lc</td>\n",
       "      <td>111.222444</td>\n",
       "      <td>2016-01-02T15:50:46.519900Z</td>\n",
       "      <td>2016-01-02</td>\n",
       "      <td>24.2150</td>\n",
       "      <td>33.9675</td>\n",
       "      <td>32.26</td>\n",
       "      <td>4.975470</td>\n",
       "      <td>1014.0</td>\n",
       "      <td>61.0</td>\n",
       "      <td>11.687371</td>\n",
       "      <td>70</td>\n",
       "    </tr>\n",
       "    <tr>\n",
       "      <th>2</th>\n",
       "      <td>5845769609281536</td>\n",
       "      <td>Light Rain</td>\n",
       "      <td>lr</td>\n",
       "      <td>54.357487</td>\n",
       "      <td>2016-01-03T15:50:46.178120Z</td>\n",
       "      <td>2016-01-03</td>\n",
       "      <td>24.6425</td>\n",
       "      <td>33.0950</td>\n",
       "      <td>32.36</td>\n",
       "      <td>5.751001</td>\n",
       "      <td>1014.0</td>\n",
       "      <td>66.0</td>\n",
       "      <td>9.814558</td>\n",
       "      <td>75</td>\n",
       "    </tr>\n",
       "    <tr>\n",
       "      <th>3</th>\n",
       "      <td>4887679040749568</td>\n",
       "      <td>Heavy Cloud</td>\n",
       "      <td>hc</td>\n",
       "      <td>105.343582</td>\n",
       "      <td>2016-01-04T15:50:46.861790Z</td>\n",
       "      <td>2016-01-04</td>\n",
       "      <td>24.6750</td>\n",
       "      <td>33.3150</td>\n",
       "      <td>32.92</td>\n",
       "      <td>8.274074</td>\n",
       "      <td>1014.0</td>\n",
       "      <td>63.0</td>\n",
       "      <td>11.006659</td>\n",
       "      <td>71</td>\n",
       "    </tr>\n",
       "    <tr>\n",
       "      <th>4</th>\n",
       "      <td>6722346127720448</td>\n",
       "      <td>Light Cloud</td>\n",
       "      <td>lc</td>\n",
       "      <td>93.195824</td>\n",
       "      <td>2016-01-05T15:50:46.201860Z</td>\n",
       "      <td>2016-01-05</td>\n",
       "      <td>24.3425</td>\n",
       "      <td>33.3975</td>\n",
       "      <td>33.14</td>\n",
       "      <td>8.083090</td>\n",
       "      <td>1013.0</td>\n",
       "      <td>63.0</td>\n",
       "      <td>11.890248</td>\n",
       "      <td>70</td>\n",
       "    </tr>\n",
       "  </tbody>\n",
       "</table>\n",
       "</div>"
      ],
      "text/plain": [
       "                 ID   State Name State Abbreviation  Wind Direction  \\\n",
       "0  4815613784489984        Clear                  c       24.918324   \n",
       "1  5117614409908224  Light Cloud                 lc      111.222444   \n",
       "2  5845769609281536   Light Rain                 lr       54.357487   \n",
       "3  4887679040749568  Heavy Cloud                 hc      105.343582   \n",
       "4  6722346127720448  Light Cloud                 lc       93.195824   \n",
       "\n",
       "                       Created Applicable Date  Min Temp  Max Temp  The Temp  \\\n",
       "0  2016-01-01T15:50:46.783160Z      2016-01-01   22.5975   33.8400     32.39   \n",
       "1  2016-01-02T15:50:46.519900Z      2016-01-02   24.2150   33.9675     32.26   \n",
       "2  2016-01-03T15:50:46.178120Z      2016-01-03   24.6425   33.0950     32.36   \n",
       "3  2016-01-04T15:50:46.861790Z      2016-01-04   24.6750   33.3150     32.92   \n",
       "4  2016-01-05T15:50:46.201860Z      2016-01-05   24.3425   33.3975     33.14   \n",
       "\n",
       "   Wind Speed  Air Pressure  Humidity  Visibility  Predictability  \n",
       "0    5.850634        1015.0      57.0   11.968541              68  \n",
       "1    4.975470        1014.0      61.0   11.687371              70  \n",
       "2    5.751001        1014.0      66.0    9.814558              75  \n",
       "3    8.274074        1014.0      63.0   11.006659              71  \n",
       "4    8.083090        1013.0      63.0   11.890248              70  "
      ]
     },
     "execution_count": 5,
     "metadata": {},
     "output_type": "execute_result"
    }
   ],
   "source": [
    "data_df = pd.read_csv('Data/Data.csv', index_col = 0) # Cho cột index là cột 0 \n",
    "data_df.head()"
   ]
  },
  {
   "cell_type": "markdown",
   "metadata": {},
   "source": [
    "### Dữ liệu có bao nhiêu dòng và bao nhiêu cột?"
   ]
  },
  {
   "cell_type": "code",
   "execution_count": 6,
   "metadata": {},
   "outputs": [
    {
     "data": {
      "text/plain": [
       "(1461, 14)"
      ]
     },
     "execution_count": 6,
     "metadata": {},
     "output_type": "execute_result"
    }
   ],
   "source": [
    "# Kích thước của dữ liệu\n",
    "data_df.shape"
   ]
  },
  {
   "cell_type": "markdown",
   "metadata": {},
   "source": [
    "### Mỗi dòng có ý nghĩa gì? Có vấn đề các dòng có ý nghĩa khác nhau không?"
   ]
  },
  {
   "cell_type": "markdown",
   "metadata": {},
   "source": [
    "Quan sát bộ dữ liệu ta thấy mỗi dòng chứa thông tin thời tiết của mỗi ngày"
   ]
  },
  {
   "cell_type": "markdown",
   "metadata": {},
   "source": [
    "### Dữ liệu có các dòng bị lặp không?"
   ]
  },
  {
   "cell_type": "code",
   "execution_count": 7,
   "metadata": {},
   "outputs": [
    {
     "data": {
      "text/plain": [
       "0"
      ]
     },
     "execution_count": 7,
     "metadata": {},
     "output_type": "execute_result"
    }
   ],
   "source": [
    "# Kiểm tra dữ liệu thu thập được có bị trùng không\n",
    "data_df.index.duplicated().sum()"
   ]
  },
  {
   "cell_type": "code",
   "execution_count": null,
   "metadata": {},
   "outputs": [],
   "source": []
  }
 ],
 "metadata": {
  "kernelspec": {
   "display_name": "Python 3",
   "language": "python",
   "name": "python3"
  },
  "language_info": {
   "codemirror_mode": {
    "name": "ipython",
    "version": 3
   },
   "file_extension": ".py",
   "mimetype": "text/x-python",
   "name": "python",
   "nbconvert_exporter": "python",
   "pygments_lexer": "ipython3",
   "version": "3.8.3"
  },
  "toc": {
   "base_numbering": 1,
   "nav_menu": {},
   "number_sections": true,
   "sideBar": true,
   "skip_h1_title": false,
   "title_cell": "Table of Contents",
   "title_sidebar": "Contents",
   "toc_cell": false,
   "toc_position": {},
   "toc_section_display": true,
   "toc_window_display": false
  }
 },
 "nbformat": 4,
 "nbformat_minor": 4
}
