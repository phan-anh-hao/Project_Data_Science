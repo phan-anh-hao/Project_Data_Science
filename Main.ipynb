{
 "cells": [
  {
   "cell_type": "markdown",
   "metadata": {},
   "source": [
    "## Import"
   ]
  },
  {
   "cell_type": "code",
   "execution_count": 1,
   "metadata": {},
   "outputs": [],
   "source": [
    "import numpy as np\n",
    "import pandas as pd\n",
    "import matplotlib.pyplot as plt\n",
    "import sklearn \n",
    "\n",
    "from sklearn.base import BaseEstimator, TransformerMixin\n",
    "from sklearn.impute import SimpleImputer\n",
    "from sklearn.pipeline import Pipeline, make_pipeline\n",
    "from sklearn.preprocessing import OneHotEncoder, StandardScaler\n",
    "from sklearn.neural_network import MLPClassifier\n",
    "from sklearn.model_selection import train_test_split\n",
    "from sklearn.ensemble import AdaBoostClassifier\n",
    "from imblearn.under_sampling import RandomUnderSampler\n",
    "from imblearn.over_sampling import RandomOverSampler\n",
    "import seaborn as sns \n",
    "from sklearn.metrics import accuracy_score\n",
    "\n",
    "from sklearn.tree import DecisionTreeClassifier\n",
    "from sklearn.linear_model import LogisticRegression\n",
    "from sklearn.naive_bayes import GaussianNB\n",
    "from sklearn.neighbors import KNeighborsClassifier\n",
    "from sklearn.svm import SVC"
   ]
  },
  {
   "cell_type": "markdown",
   "metadata": {},
   "source": [
    "## Khám phá dữ liệu"
   ]
  },
  {
   "cell_type": "code",
   "execution_count": 2,
   "metadata": {},
   "outputs": [
    {
     "data": {
      "text/html": [
       "<div>\n",
       "<style scoped>\n",
       "    .dataframe tbody tr th:only-of-type {\n",
       "        vertical-align: middle;\n",
       "    }\n",
       "\n",
       "    .dataframe tbody tr th {\n",
       "        vertical-align: top;\n",
       "    }\n",
       "\n",
       "    .dataframe thead th {\n",
       "        text-align: right;\n",
       "    }\n",
       "</style>\n",
       "<table border=\"1\" class=\"dataframe\">\n",
       "  <thead>\n",
       "    <tr style=\"text-align: right;\">\n",
       "      <th></th>\n",
       "      <th>State Name</th>\n",
       "      <th>State Abbreviation</th>\n",
       "      <th>Wind Direction</th>\n",
       "      <th>Created</th>\n",
       "      <th>Applicable Date</th>\n",
       "      <th>Min Temp</th>\n",
       "      <th>Max Temp</th>\n",
       "      <th>The Temp</th>\n",
       "      <th>Wind Speed</th>\n",
       "      <th>Air Pressure</th>\n",
       "      <th>Humidity</th>\n",
       "      <th>Visibility</th>\n",
       "      <th>Predictability</th>\n",
       "    </tr>\n",
       "    <tr>\n",
       "      <th>ID</th>\n",
       "      <th></th>\n",
       "      <th></th>\n",
       "      <th></th>\n",
       "      <th></th>\n",
       "      <th></th>\n",
       "      <th></th>\n",
       "      <th></th>\n",
       "      <th></th>\n",
       "      <th></th>\n",
       "      <th></th>\n",
       "      <th></th>\n",
       "      <th></th>\n",
       "      <th></th>\n",
       "    </tr>\n",
       "  </thead>\n",
       "  <tbody>\n",
       "    <tr>\n",
       "      <th>4581443174924288</th>\n",
       "      <td>Heavy Cloud</td>\n",
       "      <td>hc</td>\n",
       "      <td>102.747804</td>\n",
       "      <td>2016-01-28T15:50:47.001230Z</td>\n",
       "      <td>2016-01-28</td>\n",
       "      <td>24.7025</td>\n",
       "      <td>34.0925</td>\n",
       "      <td>33.79</td>\n",
       "      <td>8.587820</td>\n",
       "      <td>1013.0</td>\n",
       "      <td>59.0</td>\n",
       "      <td>11.895841</td>\n",
       "      <td>71</td>\n",
       "    </tr>\n",
       "    <tr>\n",
       "      <th>6336625583849472</th>\n",
       "      <td>Heavy Cloud</td>\n",
       "      <td>hc</td>\n",
       "      <td>91.709815</td>\n",
       "      <td>2016-01-28T12:50:47.353250Z</td>\n",
       "      <td>2016-01-28</td>\n",
       "      <td>24.9525</td>\n",
       "      <td>34.0725</td>\n",
       "      <td>33.79</td>\n",
       "      <td>8.470320</td>\n",
       "      <td>1013.0</td>\n",
       "      <td>59.0</td>\n",
       "      <td>11.895841</td>\n",
       "      <td>71</td>\n",
       "    </tr>\n",
       "    <tr>\n",
       "      <th>4559383551803392</th>\n",
       "      <td>Heavy Cloud</td>\n",
       "      <td>hc</td>\n",
       "      <td>91.709815</td>\n",
       "      <td>2016-01-28T09:50:46.720960Z</td>\n",
       "      <td>2016-01-28</td>\n",
       "      <td>24.9525</td>\n",
       "      <td>34.0725</td>\n",
       "      <td>33.79</td>\n",
       "      <td>8.470320</td>\n",
       "      <td>1013.0</td>\n",
       "      <td>59.0</td>\n",
       "      <td>11.895841</td>\n",
       "      <td>71</td>\n",
       "    </tr>\n",
       "    <tr>\n",
       "      <th>4623773701505024</th>\n",
       "      <td>Light Cloud</td>\n",
       "      <td>lc</td>\n",
       "      <td>95.785326</td>\n",
       "      <td>2016-01-28T06:50:47.016290Z</td>\n",
       "      <td>2016-01-28</td>\n",
       "      <td>24.9225</td>\n",
       "      <td>35.4250</td>\n",
       "      <td>33.86</td>\n",
       "      <td>9.630337</td>\n",
       "      <td>1013.0</td>\n",
       "      <td>57.0</td>\n",
       "      <td>11.991221</td>\n",
       "      <td>70</td>\n",
       "    </tr>\n",
       "    <tr>\n",
       "      <th>5238239505940480</th>\n",
       "      <td>Light Cloud</td>\n",
       "      <td>lc</td>\n",
       "      <td>95.785326</td>\n",
       "      <td>2016-01-28T03:51:02.272730Z</td>\n",
       "      <td>2016-01-28</td>\n",
       "      <td>24.9225</td>\n",
       "      <td>35.4250</td>\n",
       "      <td>33.86</td>\n",
       "      <td>9.630337</td>\n",
       "      <td>1013.0</td>\n",
       "      <td>57.0</td>\n",
       "      <td>11.991221</td>\n",
       "      <td>70</td>\n",
       "    </tr>\n",
       "  </tbody>\n",
       "</table>\n",
       "</div>"
      ],
      "text/plain": [
       "                   State Name State Abbreviation  Wind Direction  \\\n",
       "ID                                                                 \n",
       "4581443174924288  Heavy Cloud                 hc      102.747804   \n",
       "6336625583849472  Heavy Cloud                 hc       91.709815   \n",
       "4559383551803392  Heavy Cloud                 hc       91.709815   \n",
       "4623773701505024  Light Cloud                 lc       95.785326   \n",
       "5238239505940480  Light Cloud                 lc       95.785326   \n",
       "\n",
       "                                      Created Applicable Date  Min Temp  \\\n",
       "ID                                                                        \n",
       "4581443174924288  2016-01-28T15:50:47.001230Z      2016-01-28   24.7025   \n",
       "6336625583849472  2016-01-28T12:50:47.353250Z      2016-01-28   24.9525   \n",
       "4559383551803392  2016-01-28T09:50:46.720960Z      2016-01-28   24.9525   \n",
       "4623773701505024  2016-01-28T06:50:47.016290Z      2016-01-28   24.9225   \n",
       "5238239505940480  2016-01-28T03:51:02.272730Z      2016-01-28   24.9225   \n",
       "\n",
       "                  Max Temp  The Temp  Wind Speed  Air Pressure  Humidity  \\\n",
       "ID                                                                         \n",
       "4581443174924288   34.0925     33.79    8.587820        1013.0      59.0   \n",
       "6336625583849472   34.0725     33.79    8.470320        1013.0      59.0   \n",
       "4559383551803392   34.0725     33.79    8.470320        1013.0      59.0   \n",
       "4623773701505024   35.4250     33.86    9.630337        1013.0      57.0   \n",
       "5238239505940480   35.4250     33.86    9.630337        1013.0      57.0   \n",
       "\n",
       "                  Visibility  Predictability  \n",
       "ID                                            \n",
       "4581443174924288   11.895841              71  \n",
       "6336625583849472   11.895841              71  \n",
       "4559383551803392   11.895841              71  \n",
       "4623773701505024   11.991221              70  \n",
       "5238239505940480   11.991221              70  "
      ]
     },
     "execution_count": 2,
     "metadata": {},
     "output_type": "execute_result"
    }
   ],
   "source": [
    "data_df = pd.read_csv('Data/Data.csv',index_col = 'ID') # Cho cột index là cột 0 \n",
    "data_df.head()"
   ]
  },
  {
   "cell_type": "markdown",
   "metadata": {},
   "source": [
    "### Dữ liệu có bao nhiêu dòng và bao nhiêu cột?"
   ]
  },
  {
   "cell_type": "code",
   "execution_count": 3,
   "metadata": {},
   "outputs": [
    {
     "data": {
      "text/plain": [
       "(71475, 13)"
      ]
     },
     "execution_count": 3,
     "metadata": {},
     "output_type": "execute_result"
    }
   ],
   "source": [
    "# Kích thước của dữ liệu\n",
    "data_df.shape"
   ]
  },
  {
   "cell_type": "markdown",
   "metadata": {},
   "source": [
    "### Mỗi dòng có ý nghĩa gì? Có vấn đề các dòng có ý nghĩa khác nhau không?"
   ]
  },
  {
   "cell_type": "markdown",
   "metadata": {},
   "source": [
    "Quan sát bộ dữ liệu ta thấy mỗi dòng chứa thông tin thời tiết của mỗi ngày"
   ]
  },
  {
   "cell_type": "markdown",
   "metadata": {},
   "source": [
    "### Dữ liệu có các dòng bị lặp không?"
   ]
  },
  {
   "cell_type": "code",
   "execution_count": 4,
   "metadata": {},
   "outputs": [
    {
     "data": {
      "text/plain": [
       "0"
      ]
     },
     "execution_count": 4,
     "metadata": {},
     "output_type": "execute_result"
    }
   ],
   "source": [
    "# Kiểm tra dữ liệu thu thập được có bị trùng không\n",
    "data_df.index.duplicated().sum()"
   ]
  },
  {
   "cell_type": "markdown",
   "metadata": {},
   "source": [
    "### Mỗi cột có ý nghĩa gì?"
   ]
  },
  {
   "cell_type": "markdown",
   "metadata": {},
   "source": [
    "Xem file \"description.txt\""
   ]
  },
  {
   "cell_type": "code",
   "execution_count": 5,
   "metadata": {},
   "outputs": [
    {
     "name": "stdout",
     "output_type": "stream",
     "text": [
      "***** DESCRIPTION WEATHER *****\n",
      "Vị trí: Hồ Chí Minh City\n",
      "Thời tiết 4 năm (2016,2017,2018,2019)\n",
      "Predictability:\n",
      "+ 80: Thunder\n",
      "+ 77: Heavy Rain\n",
      "+ 75: Light Rain\n",
      "+ 73: Showers\n",
      "+ 71: Heavy Cloud\n",
      "+ 70: Light Cloud\n",
      "+ 68: Clear\n",
      "\n",
      "ID (integer): id của mỗi ngày trong từng năm\n",
      "State Name (string): tên trạng thái của ngày (Clear,Light Cloud,...)\n",
      "State Abbreviation (string): viết tắt của trạng thái (c,lc,...)\n",
      "Wind Direction (float): Hướng gió\n",
      "Created (datetime): Thời gian cụ thể trong ngày\n",
      "Applicable Date (datetime): Ngày áp dụng\n",
      "Min Temp (integer): Nhiệt độ tối thiểu\n",
      "Max Temp (integer): Nhiệt độ tối đa\n",
      "The Temp (integer): Nhiệt độ\n",
      "Wind Speed (float): Tốc độ của gió\n",
      "Air Pressure (float): Áp suất không khí\n",
      "Humidity (float): Độ ẩm\n",
      "Visibility (float): Khoảng cách nhìn thấy\n",
      "\n",
      "\n",
      "\n",
      "\n"
     ]
    }
   ],
   "source": [
    "with open('description.txt', 'r',encoding = 'utf-8') as f:\n",
    "    print(f.read())"
   ]
  },
  {
   "cell_type": "markdown",
   "metadata": {},
   "source": [
    "## Đưa ra câu hỏi cần trả lời"
   ]
  },
  {
   "cell_type": "markdown",
   "metadata": {},
   "source": [
    "Với bộ dữ liệu này thì cột output ta sẽ lấy là cột Predictability để phân ra mưa hay không mưa  \n",
    "Output - *0: Không mưa,1: Có khả năng mưa,2: Mưa* - ứng với thời tiết được tính từ input - *các chỉ số trong ngày* - được tính từ công thức nào ?   \n",
    "Tạm thời ta để input là các chỉ số trong ngày, ta sẽ xử lý các thuộc tính ở bước tiền xử lý  \n",
    "Việc tìm ra câu trả lời sẽ giúp cho mọi người biết được thời tiết như thế nào để có thể chuẩn bị tốt cho một ngày (thực tế trong cuộc sống )  \n",
    "VD: Nếu biết trời mưa, khi đi ra ngoài ta sẽ cầm theo dù (ô) hay là áo mưa, giúp cho các bác nông dân tránh bị \"chạy thóc\" khi gặp phải ngày mưa,...  \n",
    "Input: Các thông số thời tiết  \n",
    "Output: 0: Không mưa,1: Có khả năng mưa,2: Mưa  \n",
    "\n",
    "### Cảm hứng:  \n",
    "Vô tình vào tuần sau khi được nghỉ các môn học, em có về quê chơi với ông bà, vô tình vào 1 hôm em đi chơi xung quanh xóm thì trời bất ngờ đổ mưa, em chạy về nhà vô tình trên đường thầy nhiều nhà cô chú làm nông phải vội vã \"chạy thóc\", nếu không kịp sẽ bị mưa cuốn trôi, ảnh hưởng đến nhiều thứ nên bọn em đã quyết định đặt câu hỏi liên quan tới thời tiết ạ."
   ]
  },
  {
   "cell_type": "markdown",
   "metadata": {},
   "source": [
    "## Khám phá dữ liệu (để biết cách tách các tập)"
   ]
  },
  {
   "cell_type": "markdown",
   "metadata": {},
   "source": [
    "Để biết cách tách các tập thì ta cần khám phá thêm cột output một ít  \n",
    "+ 80: Thunder -> Mưa (2)  \n",
    "+ 77: Heavy Rain -> Mưa (2)  \n",
    "+ 75: Light Rain -> Mưa (2)  \n",
    "+ 73: Showers -> Mưa (2)  \n",
    "+ 71: Heavy Cloud -> Mây nhiều -> Có khả năng mưa (1)  \n",
    "+ 70: Light Cloud -> Mây ít -> Ít có khả năng mưa -> Ta sẽ đưa vào là không mưa -> Không mưa (0)  \n",
    "+ 68: Clear -> Không mưa (0)  "
   ]
  },
  {
   "cell_type": "code",
   "execution_count": 6,
   "metadata": {},
   "outputs": [
    {
     "data": {
      "text/plain": [
       "dtype('int64')"
      ]
     },
     "execution_count": 6,
     "metadata": {},
     "output_type": "execute_result"
    }
   ],
   "source": [
    "# Cột output hiện có kiểu dữ liệu gì?\n",
    "data_df['Predictability'].dtype"
   ]
  },
  {
   "cell_type": "code",
   "execution_count": 7,
   "metadata": {},
   "outputs": [
    {
     "data": {
      "text/plain": [
       "0"
      ]
     },
     "execution_count": 7,
     "metadata": {},
     "output_type": "execute_result"
    }
   ],
   "source": [
    "# Cột output có giá trị thiếu không?\n",
    "data_df['Predictability'].isna().sum()"
   ]
  },
  {
   "cell_type": "code",
   "execution_count": 8,
   "metadata": {},
   "outputs": [
    {
     "data": {
      "text/plain": [
       "77    44.705142\n",
       "75    15.585869\n",
       "80    10.919902\n",
       "70    10.416229\n",
       "73     8.829661\n",
       "71     8.201469\n",
       "68     1.341728\n",
       "Name: Predictability, dtype: float64"
      ]
     },
     "execution_count": 8,
     "metadata": {},
     "output_type": "execute_result"
    }
   ],
   "source": [
    "# Tỉ lệ các lớp trong cột output?\n",
    "data_df['Predictability'].value_counts(normalize=True) * 100"
   ]
  },
  {
   "cell_type": "code",
   "execution_count": 9,
   "metadata": {},
   "outputs": [],
   "source": [
    "#Chuyển cột output sang dạng nhị phân (0,1)\n",
    "data_df.loc[(data_df.Predictability < 71), 'Predictability'] = 0\n",
    "data_df.loc[(data_df.Predictability == 71), 'Predictability'] = 1\n",
    "data_df.loc[(data_df.Predictability > 71), 'Predictability'] = 2"
   ]
  },
  {
   "cell_type": "code",
   "execution_count": 10,
   "metadata": {},
   "outputs": [
    {
     "data": {
      "text/plain": [
       "2    80.040574\n",
       "0    11.757957\n",
       "1     8.201469\n",
       "Name: Predictability, dtype: float64"
      ]
     },
     "execution_count": 10,
     "metadata": {},
     "output_type": "execute_result"
    }
   ],
   "source": [
    "# Tỉ lệ các lớp trong cột output?\n",
    "data_df['Predictability'].value_counts(normalize=True) * 100"
   ]
  },
  {
   "cell_type": "markdown",
   "metadata": {},
   "source": [
    "Theo như quan sát ở trên thì đây là hiện tượng imbalanced dataset  \n",
    "Chúng ta sẽ xử lý vấn đề này bằng phương pháp undersampling (giảm số lượng mẫu của lớp chiếm đa số) ở bước tiền xử lý\n",
    "Nhìn có vẻ với bộ dữ liệu api trên trang metaweather thì thành phố Hồ Chí Minh hay mưa :)))  "
   ]
  },
  {
   "cell_type": "markdown",
   "metadata": {},
   "source": [
    "## Tiền xử lý (tách các tập)"
   ]
  },
  {
   "cell_type": "markdown",
   "metadata": {},
   "source": [
    "Bây giờ ta sẽ thực hiện bước tiền xử lý là tách tập validation và tập test"
   ]
  },
  {
   "cell_type": "code",
   "execution_count": 11,
   "metadata": {},
   "outputs": [],
   "source": [
    "# Tách X và y\n",
    "y_sr = data_df[\"Predictability\"] # sr là viết tắt của series\n",
    "X_df = data_df.drop(\"Predictability\", axis=1)"
   ]
  },
  {
   "cell_type": "code",
   "execution_count": 12,
   "metadata": {},
   "outputs": [],
   "source": [
    "# Tách tập huấn luyện(train và validation) và tập test theo tỉ lệ 80%:20%\n",
    "Tr_X_df, test_X_df, Tr_y_sr, test_y_sr = train_test_split(X_df, y_sr, test_size=0.2, random_state=0)"
   ]
  },
  {
   "cell_type": "code",
   "execution_count": 13,
   "metadata": {},
   "outputs": [],
   "source": [
    "#Tách tập huấn luyện train và validation theo tỉ lệ 70%:30%   (stratify = Tr_y_sr stratify sẽ đảm bảo dữ liệu train và dữ liệu validation của bạn được phân tách dựa trên tần số nhãn đầu ra dựa trên dữ liệu train)\n",
    "train_X_df, val_X_df, train_y_sr, val_y_sr = train_test_split(Tr_X_df, Tr_y_sr, test_size=0.3, stratify = Tr_y_sr)"
   ]
  },
  {
   "cell_type": "code",
   "execution_count": 14,
   "metadata": {},
   "outputs": [
    {
     "data": {
      "text/plain": [
       "(40026, 12)"
      ]
     },
     "execution_count": 14,
     "metadata": {},
     "output_type": "execute_result"
    }
   ],
   "source": [
    "train_X_df.shape"
   ]
  },
  {
   "cell_type": "code",
   "execution_count": 15,
   "metadata": {},
   "outputs": [
    {
     "data": {
      "text/plain": [
       "(40026,)"
      ]
     },
     "execution_count": 15,
     "metadata": {},
     "output_type": "execute_result"
    }
   ],
   "source": [
    "train_y_sr.shape"
   ]
  },
  {
   "cell_type": "code",
   "execution_count": 16,
   "metadata": {},
   "outputs": [
    {
     "data": {
      "text/plain": [
       "(17154, 12)"
      ]
     },
     "execution_count": 16,
     "metadata": {},
     "output_type": "execute_result"
    }
   ],
   "source": [
    "val_X_df.shape"
   ]
  },
  {
   "cell_type": "code",
   "execution_count": 17,
   "metadata": {},
   "outputs": [
    {
     "data": {
      "text/plain": [
       "(17154,)"
      ]
     },
     "execution_count": 17,
     "metadata": {},
     "output_type": "execute_result"
    }
   ],
   "source": [
    "val_y_sr.shape"
   ]
  },
  {
   "cell_type": "code",
   "execution_count": 18,
   "metadata": {},
   "outputs": [
    {
     "data": {
      "text/plain": [
       "(14295, 12)"
      ]
     },
     "execution_count": 18,
     "metadata": {},
     "output_type": "execute_result"
    }
   ],
   "source": [
    "test_X_df.shape"
   ]
  },
  {
   "cell_type": "code",
   "execution_count": 19,
   "metadata": {},
   "outputs": [
    {
     "data": {
      "text/plain": [
       "(14295,)"
      ]
     },
     "execution_count": 19,
     "metadata": {},
     "output_type": "execute_result"
    }
   ],
   "source": [
    "test_y_sr.shape"
   ]
  },
  {
   "cell_type": "code",
   "execution_count": 20,
   "metadata": {},
   "outputs": [
    {
     "data": {
      "text/plain": [
       "Int64Index([5850031177334784, 5384854698983424, 5852755679772672,\n",
       "            5975834884046848, 4911188219527168],\n",
       "           dtype='int64', name='ID')"
      ]
     },
     "execution_count": 20,
     "metadata": {},
     "output_type": "execute_result"
    }
   ],
   "source": [
    "train_X_df.head().index"
   ]
  },
  {
   "cell_type": "markdown",
   "metadata": {},
   "source": [
    "## Khám phá dữ liệu (tập huấn luyện)"
   ]
  },
  {
   "cell_type": "markdown",
   "metadata": {},
   "source": [
    "### Mỗi cột input hiện đang có kiểu dữ liệu gì? Có cột nào có kiểu dữ liệu chưa phù hợp để có thể xử lý tiếp không?"
   ]
  },
  {
   "cell_type": "code",
   "execution_count": 21,
   "metadata": {},
   "outputs": [
    {
     "data": {
      "text/plain": [
       "State Name             object\n",
       "State Abbreviation     object\n",
       "Wind Direction        float64\n",
       "Created                object\n",
       "Applicable Date        object\n",
       "Min Temp              float64\n",
       "Max Temp              float64\n",
       "The Temp              float64\n",
       "Wind Speed            float64\n",
       "Air Pressure          float64\n",
       "Humidity              float64\n",
       "Visibility            float64\n",
       "dtype: object"
      ]
     },
     "execution_count": 21,
     "metadata": {},
     "output_type": "execute_result"
    }
   ],
   "source": [
    "train_X_df.dtypes"
   ]
  },
  {
   "cell_type": "markdown",
   "metadata": {},
   "source": [
    "### Với mỗi cột input có kiểu dữ liệu dạng số, các giá trị được phân bố như thế nào?"
   ]
  },
  {
   "cell_type": "code",
   "execution_count": 22,
   "metadata": {
    "scrolled": true
   },
   "outputs": [
    {
     "data": {
      "text/plain": [
       "Wind Direction    float64\n",
       "Min Temp          float64\n",
       "Max Temp          float64\n",
       "The Temp          float64\n",
       "Wind Speed        float64\n",
       "Air Pressure      float64\n",
       "Humidity          float64\n",
       "Visibility        float64\n",
       "dtype: object"
      ]
     },
     "execution_count": 22,
     "metadata": {},
     "output_type": "execute_result"
    }
   ],
   "source": [
    "train_X_df.dtypes[train_X_df.dtypes != object]"
   ]
  },
  {
   "cell_type": "code",
   "execution_count": 23,
   "metadata": {
    "scrolled": true
   },
   "outputs": [
    {
     "data": {
      "text/html": [
       "<div>\n",
       "<style scoped>\n",
       "    .dataframe tbody tr th:only-of-type {\n",
       "        vertical-align: middle;\n",
       "    }\n",
       "\n",
       "    .dataframe tbody tr th {\n",
       "        vertical-align: top;\n",
       "    }\n",
       "\n",
       "    .dataframe thead th {\n",
       "        text-align: right;\n",
       "    }\n",
       "</style>\n",
       "<table border=\"1\" class=\"dataframe\">\n",
       "  <thead>\n",
       "    <tr style=\"text-align: right;\">\n",
       "      <th></th>\n",
       "      <th>Wind Direction</th>\n",
       "      <th>Min Temp</th>\n",
       "      <th>Max Temp</th>\n",
       "      <th>The Temp</th>\n",
       "      <th>Wind Speed</th>\n",
       "      <th>Air Pressure</th>\n",
       "      <th>Humidity</th>\n",
       "      <th>Visibility</th>\n",
       "    </tr>\n",
       "  </thead>\n",
       "  <tbody>\n",
       "    <tr>\n",
       "      <th>missing_ratio</th>\n",
       "      <td>0.0</td>\n",
       "      <td>0.00</td>\n",
       "      <td>0.000000</td>\n",
       "      <td>6.50</td>\n",
       "      <td>0.000000</td>\n",
       "      <td>6.500</td>\n",
       "      <td>13.0</td>\n",
       "      <td>41.100000</td>\n",
       "    </tr>\n",
       "    <tr>\n",
       "      <th>min</th>\n",
       "      <td>0.0</td>\n",
       "      <td>-4.48</td>\n",
       "      <td>12.203333</td>\n",
       "      <td>21.47</td>\n",
       "      <td>0.130488</td>\n",
       "      <td>996.445</td>\n",
       "      <td>37.0</td>\n",
       "      <td>2.468708</td>\n",
       "    </tr>\n",
       "    <tr>\n",
       "      <th>lower_quartile</th>\n",
       "      <td>114.0</td>\n",
       "      <td>23.80</td>\n",
       "      <td>30.100000</td>\n",
       "      <td>29.10</td>\n",
       "      <td>4.000000</td>\n",
       "      <td>1009.100</td>\n",
       "      <td>65.0</td>\n",
       "      <td>10.000000</td>\n",
       "    </tr>\n",
       "    <tr>\n",
       "      <th>median</th>\n",
       "      <td>200.0</td>\n",
       "      <td>24.60</td>\n",
       "      <td>31.300000</td>\n",
       "      <td>30.50</td>\n",
       "      <td>5.500000</td>\n",
       "      <td>1011.000</td>\n",
       "      <td>75.0</td>\n",
       "      <td>12.000000</td>\n",
       "    </tr>\n",
       "    <tr>\n",
       "      <th>upper_quartile</th>\n",
       "      <td>249.5</td>\n",
       "      <td>25.30</td>\n",
       "      <td>33.000000</td>\n",
       "      <td>32.00</td>\n",
       "      <td>7.500000</td>\n",
       "      <td>1013.700</td>\n",
       "      <td>81.0</td>\n",
       "      <td>15.300000</td>\n",
       "    </tr>\n",
       "    <tr>\n",
       "      <th>max</th>\n",
       "      <td>360.0</td>\n",
       "      <td>31.40</td>\n",
       "      <td>39.813333</td>\n",
       "      <td>37.94</td>\n",
       "      <td>16.682035</td>\n",
       "      <td>1021.195</td>\n",
       "      <td>96.0</td>\n",
       "      <td>21.717545</td>\n",
       "    </tr>\n",
       "  </tbody>\n",
       "</table>\n",
       "</div>"
      ],
      "text/plain": [
       "                Wind Direction  Min Temp   Max Temp  The Temp  Wind Speed  \\\n",
       "missing_ratio              0.0      0.00   0.000000      6.50    0.000000   \n",
       "min                        0.0     -4.48  12.203333     21.47    0.130488   \n",
       "lower_quartile           114.0     23.80  30.100000     29.10    4.000000   \n",
       "median                   200.0     24.60  31.300000     30.50    5.500000   \n",
       "upper_quartile           249.5     25.30  33.000000     32.00    7.500000   \n",
       "max                      360.0     31.40  39.813333     37.94   16.682035   \n",
       "\n",
       "                Air Pressure  Humidity  Visibility  \n",
       "missing_ratio          6.500      13.0   41.100000  \n",
       "min                  996.445      37.0    2.468708  \n",
       "lower_quartile      1009.100      65.0   10.000000  \n",
       "median              1011.000      75.0   12.000000  \n",
       "upper_quartile      1013.700      81.0   15.300000  \n",
       "max                 1021.195      96.0   21.717545  "
      ]
     },
     "execution_count": 23,
     "metadata": {},
     "output_type": "execute_result"
    }
   ],
   "source": [
    "num_cols = ['Wind Direction','Min Temp','Max Temp','The Temp','Wind Speed','Air Pressure','Humidity','Visibility']\n",
    "df = train_X_df[num_cols]\n",
    "def missing_ratio(df):\n",
    "    return (df.isna().mean() * 100).round(1)\n",
    "def lower_quartile(df):\n",
    "    return df.quantile(0.25).round(1)\n",
    "def median(df):\n",
    "    return df.quantile(0.5).round(1)\n",
    "def upper_quartile(df):\n",
    "    return df.quantile(0.75).round(1)\n",
    "df.agg([missing_ratio, 'min', lower_quartile, median, upper_quartile, 'max'])"
   ]
  },
  {
   "cell_type": "markdown",
   "metadata": {},
   "source": [
    "Theo như bảng ở trên, ta thấy thuộc tính The Temp, Air Pressure , Humidity và Visibility có dữ liệu bị mất, trong đó Visibility có tỉ lệ bị mất nhiều nhất  \n",
    "Ta sẽ xử lý vấn đề này ở bước tiền xử lý"
   ]
  },
  {
   "cell_type": "markdown",
   "metadata": {},
   "source": [
    "### Với mỗi cột input có kiểu dữ liệu không phải dạng số, các giá trị được phân bố như thế nào?"
   ]
  },
  {
   "cell_type": "code",
   "execution_count": 24,
   "metadata": {},
   "outputs": [
    {
     "data": {
      "text/html": [
       "<div>\n",
       "<style scoped>\n",
       "    .dataframe tbody tr th:only-of-type {\n",
       "        vertical-align: middle;\n",
       "    }\n",
       "\n",
       "    .dataframe tbody tr th {\n",
       "        vertical-align: top;\n",
       "    }\n",
       "\n",
       "    .dataframe thead th {\n",
       "        text-align: right;\n",
       "    }\n",
       "</style>\n",
       "<table border=\"1\" class=\"dataframe\">\n",
       "  <thead>\n",
       "    <tr style=\"text-align: right;\">\n",
       "      <th></th>\n",
       "      <th>Created</th>\n",
       "      <th>Applicable Date</th>\n",
       "      <th>State Abbreviation</th>\n",
       "      <th>State Name</th>\n",
       "    </tr>\n",
       "  </thead>\n",
       "  <tbody>\n",
       "    <tr>\n",
       "      <th>missing_ratio</th>\n",
       "      <td>0</td>\n",
       "      <td>0</td>\n",
       "      <td>0</td>\n",
       "      <td>0</td>\n",
       "    </tr>\n",
       "    <tr>\n",
       "      <th>num_values</th>\n",
       "      <td>40026</td>\n",
       "      <td>1000</td>\n",
       "      <td>7</td>\n",
       "      <td>7</td>\n",
       "    </tr>\n",
       "    <tr>\n",
       "      <th>value_ratios</th>\n",
       "      <td>{'2017-03-21T20:22:58.003100Z': 0.0, '2018-04-09T21:13:59.341230Z': 0.0, '2017-03-03T05:02:53.174140Z': 0.0, '2018-05-11T21:34:02.545570Z': 0.0, '2017-06-13T17:54:50.823750Z': 0.0, '2018-03-19T03:...</td>\n",
       "      <td>{'2018-03-11': 0.1, '2016-10-23': 0.1, '2018-09-14': 0.1, '2018-07-26': 0.1, '2016-08-16': 0.1, '2018-10-12': 0.1, '2018-07-14': 0.1, '2018-04-06': 0.1, '2018-08-22': 0.1, '2017-08-26': 0.1, '2016...</td>\n",
       "      <td>{'hr': 44.7, 'lr': 15.6, 't': 10.9, 'lc': 10.4, 's': 8.8, 'hc': 8.2, 'c': 1.4}</td>\n",
       "      <td>{'Heavy Rain': 44.7, 'Light Rain': 15.6, 'Thunder': 10.9, 'Light Cloud': 10.4, 'Showers': 8.8, 'Heavy Cloud': 8.2, 'Clear': 1.4}</td>\n",
       "    </tr>\n",
       "  </tbody>\n",
       "</table>\n",
       "</div>"
      ],
      "text/plain": [
       "                                                                                                                                                                                                               Created  \\\n",
       "missing_ratio                                                                                                                                                                                                        0   \n",
       "num_values                                                                                                                                                                                                       40026   \n",
       "value_ratios   {'2017-03-21T20:22:58.003100Z': 0.0, '2018-04-09T21:13:59.341230Z': 0.0, '2017-03-03T05:02:53.174140Z': 0.0, '2018-05-11T21:34:02.545570Z': 0.0, '2017-06-13T17:54:50.823750Z': 0.0, '2018-03-19T03:...   \n",
       "\n",
       "                                                                                                                                                                                                       Applicable Date  \\\n",
       "missing_ratio                                                                                                                                                                                                        0   \n",
       "num_values                                                                                                                                                                                                        1000   \n",
       "value_ratios   {'2018-03-11': 0.1, '2016-10-23': 0.1, '2018-09-14': 0.1, '2018-07-26': 0.1, '2016-08-16': 0.1, '2018-10-12': 0.1, '2018-07-14': 0.1, '2018-04-06': 0.1, '2018-08-22': 0.1, '2017-08-26': 0.1, '2016...   \n",
       "\n",
       "                                                                           State Abbreviation  \\\n",
       "missing_ratio                                                                               0   \n",
       "num_values                                                                                  7   \n",
       "value_ratios   {'hr': 44.7, 'lr': 15.6, 't': 10.9, 'lc': 10.4, 's': 8.8, 'hc': 8.2, 'c': 1.4}   \n",
       "\n",
       "                                                                                                                                     State Name  \n",
       "missing_ratio                                                                                                                                 0  \n",
       "num_values                                                                                                                                    7  \n",
       "value_ratios   {'Heavy Rain': 44.7, 'Light Rain': 15.6, 'Thunder': 10.9, 'Light Cloud': 10.4, 'Showers': 8.8, 'Heavy Cloud': 8.2, 'Clear': 1.4}  "
      ]
     },
     "execution_count": 24,
     "metadata": {},
     "output_type": "execute_result"
    }
   ],
   "source": [
    "pd.set_option('display.max_colwidth', 200) # Để nhìn rõ hơn\n",
    "cat_cols = list(set(train_X_df.columns) - set(num_cols))\n",
    "df = train_X_df[cat_cols]\n",
    "def missing_ratio(df):\n",
    "    return (df.isna().mean() * 100).round(1)\n",
    "def num_values(df):\n",
    "    return df.nunique()\n",
    "def value_ratios(c):\n",
    "    return dict((c.value_counts(normalize=True) * 100).round(1))\n",
    "df.agg([missing_ratio, num_values, value_ratios])"
   ]
  },
  {
   "cell_type": "markdown",
   "metadata": {},
   "source": [
    "Quan sát các thông tin bên trên, không có thuộc tính nào bị mất dữ liệu  \n",
    "Ngoài ra không có gì đáng chú ý , ta sẽ phân tích các value_ratios của từng thuộc tính ở bước tiền xử lý"
   ]
  },
  {
   "cell_type": "markdown",
   "metadata": {},
   "source": [
    "## Tiền xử lý (tập huấn luyện) "
   ]
  },
  {
   "cell_type": "markdown",
   "metadata": {},
   "source": [
    "### Undersampling tập train"
   ]
  },
  {
   "cell_type": "markdown",
   "metadata": {},
   "source": [
    "Trước khi tạo một Pipeline hoàn chỉnh ta cần phải Undersampling tập huấn luyện.    \n",
    "Đối với tập validation và tập test thì ta vẫn giữ nguyên để nguyên để mang tính khách quan (tập validation được chia theo giống tỉ lệ với tập train bằng tham số stratify)  \n",
    "Ta sẽ sử dụng `RandomUnderSampler` của thư viện `imblearn` với tham số `sampling_strategy` = majority"
   ]
  },
  {
   "cell_type": "code",
   "execution_count": 25,
   "metadata": {},
   "outputs": [
    {
     "name": "stdout",
     "output_type": "stream",
     "text": [
      "*** Trước khi Undersampling tập train***\n",
      "(40026,)\n"
     ]
    },
    {
     "data": {
      "text/plain": [
       "2    79.933044\n",
       "0    11.832309\n",
       "1     8.234647\n",
       "Name: Predictability, dtype: float64"
      ]
     },
     "execution_count": 25,
     "metadata": {},
     "output_type": "execute_result"
    }
   ],
   "source": [
    "print('*** Trước khi Undersampling tập train***')\n",
    "print(train_y_sr.shape)\n",
    "train_y_sr.value_counts(normalize=True) * 100"
   ]
  },
  {
   "cell_type": "code",
   "execution_count": 26,
   "metadata": {},
   "outputs": [],
   "source": [
    "undersample = RandomUnderSampler(sampling_strategy='majority')\n",
    "train_X_df,train_y_sr = undersample.fit_resample(train_X_df,train_y_sr)"
   ]
  },
  {
   "cell_type": "code",
   "execution_count": 27,
   "metadata": {},
   "outputs": [
    {
     "name": "stdout",
     "output_type": "stream",
     "text": [
      "*** Sau khi Undersampling tập train ***\n",
      "(11328,)\n"
     ]
    },
    {
     "data": {
      "text/plain": [
       "0    41.807910\n",
       "2    29.096045\n",
       "1    29.096045\n",
       "Name: Predictability, dtype: float64"
      ]
     },
     "execution_count": 27,
     "metadata": {},
     "output_type": "execute_result"
    }
   ],
   "source": [
    "print('*** Sau khi Undersampling tập train ***')\n",
    "print(train_y_sr.shape)\n",
    "train_y_sr.value_counts(normalize=True) * 100"
   ]
  },
  {
   "cell_type": "markdown",
   "metadata": {},
   "source": [
    "Sau khi Undersampling thì tập dữ liệu train giảm xuống khá nhiều, mặc dù giảm dữ liệu nhưng nó không bị imbalanced dữ liệu, rất có ích cho mô hình hóa dữ liệu  !!!"
   ]
  },
  {
   "cell_type": "markdown",
   "metadata": {},
   "source": [
    "Ta sẽ xem lại các số liệu thống kê của các thuộc tính numeric"
   ]
  },
  {
   "cell_type": "code",
   "execution_count": 28,
   "metadata": {},
   "outputs": [
    {
     "data": {
      "text/html": [
       "<div>\n",
       "<style scoped>\n",
       "    .dataframe tbody tr th:only-of-type {\n",
       "        vertical-align: middle;\n",
       "    }\n",
       "\n",
       "    .dataframe tbody tr th {\n",
       "        vertical-align: top;\n",
       "    }\n",
       "\n",
       "    .dataframe thead th {\n",
       "        text-align: right;\n",
       "    }\n",
       "</style>\n",
       "<table border=\"1\" class=\"dataframe\">\n",
       "  <thead>\n",
       "    <tr style=\"text-align: right;\">\n",
       "      <th></th>\n",
       "      <th>Wind Direction</th>\n",
       "      <th>Min Temp</th>\n",
       "      <th>Max Temp</th>\n",
       "      <th>The Temp</th>\n",
       "      <th>Wind Speed</th>\n",
       "      <th>Air Pressure</th>\n",
       "      <th>Humidity</th>\n",
       "      <th>Visibility</th>\n",
       "    </tr>\n",
       "  </thead>\n",
       "  <tbody>\n",
       "    <tr>\n",
       "      <th>missing_ratio</th>\n",
       "      <td>0.0</td>\n",
       "      <td>0.0000</td>\n",
       "      <td>0.000000</td>\n",
       "      <td>15.70</td>\n",
       "      <td>0.000000</td>\n",
       "      <td>15.700</td>\n",
       "      <td>11.7</td>\n",
       "      <td>40.900000</td>\n",
       "    </tr>\n",
       "    <tr>\n",
       "      <th>min</th>\n",
       "      <td>0.0</td>\n",
       "      <td>18.0375</td>\n",
       "      <td>24.247500</td>\n",
       "      <td>21.47</td>\n",
       "      <td>0.136702</td>\n",
       "      <td>996.930</td>\n",
       "      <td>37.0</td>\n",
       "      <td>3.055282</td>\n",
       "    </tr>\n",
       "    <tr>\n",
       "      <th>lower_quartile</th>\n",
       "      <td>80.1</td>\n",
       "      <td>23.3000</td>\n",
       "      <td>31.000000</td>\n",
       "      <td>30.10</td>\n",
       "      <td>4.100000</td>\n",
       "      <td>1010.400</td>\n",
       "      <td>55.0</td>\n",
       "      <td>12.000000</td>\n",
       "    </tr>\n",
       "    <tr>\n",
       "      <th>median</th>\n",
       "      <td>138.5</td>\n",
       "      <td>24.3000</td>\n",
       "      <td>33.100000</td>\n",
       "      <td>31.80</td>\n",
       "      <td>6.000000</td>\n",
       "      <td>1012.000</td>\n",
       "      <td>61.0</td>\n",
       "      <td>16.500000</td>\n",
       "    </tr>\n",
       "    <tr>\n",
       "      <th>upper_quartile</th>\n",
       "      <td>217.6</td>\n",
       "      <td>25.2000</td>\n",
       "      <td>35.700000</td>\n",
       "      <td>33.80</td>\n",
       "      <td>8.400000</td>\n",
       "      <td>1014.600</td>\n",
       "      <td>70.0</td>\n",
       "      <td>17.600000</td>\n",
       "    </tr>\n",
       "    <tr>\n",
       "      <th>max</th>\n",
       "      <td>360.0</td>\n",
       "      <td>31.4000</td>\n",
       "      <td>39.813333</td>\n",
       "      <td>37.94</td>\n",
       "      <td>16.514914</td>\n",
       "      <td>1021.195</td>\n",
       "      <td>94.0</td>\n",
       "      <td>21.717545</td>\n",
       "    </tr>\n",
       "  </tbody>\n",
       "</table>\n",
       "</div>"
      ],
      "text/plain": [
       "                Wind Direction  Min Temp   Max Temp  The Temp  Wind Speed  \\\n",
       "missing_ratio              0.0    0.0000   0.000000     15.70    0.000000   \n",
       "min                        0.0   18.0375  24.247500     21.47    0.136702   \n",
       "lower_quartile            80.1   23.3000  31.000000     30.10    4.100000   \n",
       "median                   138.5   24.3000  33.100000     31.80    6.000000   \n",
       "upper_quartile           217.6   25.2000  35.700000     33.80    8.400000   \n",
       "max                      360.0   31.4000  39.813333     37.94   16.514914   \n",
       "\n",
       "                Air Pressure  Humidity  Visibility  \n",
       "missing_ratio         15.700      11.7   40.900000  \n",
       "min                  996.930      37.0    3.055282  \n",
       "lower_quartile      1010.400      55.0   12.000000  \n",
       "median              1012.000      61.0   16.500000  \n",
       "upper_quartile      1014.600      70.0   17.600000  \n",
       "max                 1021.195      94.0   21.717545  "
      ]
     },
     "execution_count": 28,
     "metadata": {},
     "output_type": "execute_result"
    }
   ],
   "source": [
    "num_cols = ['Wind Direction','Min Temp','Max Temp','The Temp','Wind Speed','Air Pressure','Humidity','Visibility']\n",
    "df = train_X_df[num_cols]\n",
    "def missing_ratio(df):\n",
    "    return (df.isna().mean() * 100).round(1)\n",
    "def lower_quartile(df):\n",
    "    return df.quantile(0.25).round(1)\n",
    "def median(df):\n",
    "    return df.quantile(0.5).round(1)\n",
    "def upper_quartile(df):\n",
    "    return df.quantile(0.75).round(1)\n",
    "df.agg([missing_ratio, 'min', lower_quartile, median, upper_quartile, 'max'])"
   ]
  },
  {
   "cell_type": "markdown",
   "metadata": {},
   "source": [
    "Vẫn như cũ, thuộc tính `The Temp` và thuộc tính `Air Pressure` có tăng tỉ lệ missing_ratio nhưng k nhiều , vì vậy ta sẽ chỉ xóa cột Visibility"
   ]
  },
  {
   "cell_type": "markdown",
   "metadata": {},
   "source": [
    "### Xóa, thêm cột "
   ]
  },
  {
   "cell_type": "markdown",
   "metadata": {},
   "source": [
    "Theo kinh nghiệm thời tiết để có thể phân tích được dữ liệu trên thì thông thường trong 1 năm , lượng mưa tập trung chủ yếu vào từ tháng 5 đến tháng 11 -> chúng ta sẽ quan tâm thêm về thông tin  tháng , ngoài ra chúng ta sẽ quan tâm thêm thông tin về giờ trong ngày (vào những tháng mưa , vào các ngày trong tuần ta thấy mưa tập trung vào những khung giờ (theo kinh nghiệm em quan sát))  \n",
    "\n",
    "Đầu tiên ta sẽ bỏ một số cột sau:  \n",
    "- Bỏ cột 'State Name' và cột 'State Abbreviation' vì đây là 2 cột tương tự giống với cột output  \n",
    "- Từ cột 'Created' và cột 'Applicable Date' ta rút trích dữ liệu tháng vào giờ thay vào đó chúng ta sẽ thêm cột 'Month' và cột 'Hour', sau đó xóa 2 cột 'Created' và 'Applicable Date' đi\n",
    "- Bỏ cột 'Visibility' vì thiếu dữ liệu nhiều và thuộc tính này cũng không ảnh hưởng nhiều đến dự đoán của mô hình  \n",
    "  \n",
    "Với Class ColAddDropper ta sẽ xử lý những điều trên để đưa vào pipeline  "
   ]
  },
  {
   "cell_type": "code",
   "execution_count": 29,
   "metadata": {},
   "outputs": [],
   "source": [
    "class ColAddDropper(BaseEstimator, TransformerMixin):\n",
    "    def fit(self, X_df, y=None):\n",
    "        return self\n",
    "    def transform(self, X_df, y=None):\n",
    "        # YOUR CODE HERE\n",
    "        df_transform = X_df.copy()\n",
    "        df_transform.drop(['State Name','State Abbreviation','Applicable Date'],axis = 1,inplace = True)\n",
    "        Time_split_Month = df_transform['Created'].str.split('-',n = 2,expand = True)\n",
    "        Time_split = df_transform['Created'].str.split('T',n = 1,expand = True)\n",
    "        Time_split_Hour = Time_split[1].str.split(':',n = 1,expand = True)\n",
    "        df_transform['Month'] = Time_split_Month[1].astype('int32')\n",
    "        df_transform['Hour'] = Time_split_Hour[0].astype('int32')\n",
    "        df_transform.drop(['Created','Visibility'],axis = 1,inplace = True)\n",
    "        return df_transform"
   ]
  },
  {
   "cell_type": "code",
   "execution_count": 30,
   "metadata": {
    "scrolled": true
   },
   "outputs": [
    {
     "data": {
      "text/html": [
       "<div>\n",
       "<style scoped>\n",
       "    .dataframe tbody tr th:only-of-type {\n",
       "        vertical-align: middle;\n",
       "    }\n",
       "\n",
       "    .dataframe tbody tr th {\n",
       "        vertical-align: top;\n",
       "    }\n",
       "\n",
       "    .dataframe thead th {\n",
       "        text-align: right;\n",
       "    }\n",
       "</style>\n",
       "<table border=\"1\" class=\"dataframe\">\n",
       "  <thead>\n",
       "    <tr style=\"text-align: right;\">\n",
       "      <th></th>\n",
       "      <th>Wind Direction</th>\n",
       "      <th>Min Temp</th>\n",
       "      <th>Max Temp</th>\n",
       "      <th>The Temp</th>\n",
       "      <th>Wind Speed</th>\n",
       "      <th>Air Pressure</th>\n",
       "      <th>Humidity</th>\n",
       "      <th>Month</th>\n",
       "      <th>Hour</th>\n",
       "    </tr>\n",
       "  </thead>\n",
       "  <tbody>\n",
       "    <tr>\n",
       "      <th>0</th>\n",
       "      <td>230.000000</td>\n",
       "      <td>24.220000</td>\n",
       "      <td>31.190000</td>\n",
       "      <td>31.380</td>\n",
       "      <td>3.167974</td>\n",
       "      <td>1009.940</td>\n",
       "      <td>NaN</td>\n",
       "      <td>6</td>\n",
       "      <td>7</td>\n",
       "    </tr>\n",
       "    <tr>\n",
       "      <th>1</th>\n",
       "      <td>50.500000</td>\n",
       "      <td>25.060000</td>\n",
       "      <td>35.980000</td>\n",
       "      <td>NaN</td>\n",
       "      <td>5.940000</td>\n",
       "      <td>NaN</td>\n",
       "      <td>56.0</td>\n",
       "      <td>1</td>\n",
       "      <td>3</td>\n",
       "    </tr>\n",
       "    <tr>\n",
       "      <th>2</th>\n",
       "      <td>41.635907</td>\n",
       "      <td>21.282000</td>\n",
       "      <td>33.220000</td>\n",
       "      <td>31.980</td>\n",
       "      <td>4.504709</td>\n",
       "      <td>1020.070</td>\n",
       "      <td>51.0</td>\n",
       "      <td>2</td>\n",
       "      <td>14</td>\n",
       "    </tr>\n",
       "    <tr>\n",
       "      <th>3</th>\n",
       "      <td>351.000000</td>\n",
       "      <td>21.593333</td>\n",
       "      <td>29.880000</td>\n",
       "      <td>NaN</td>\n",
       "      <td>2.110000</td>\n",
       "      <td>NaN</td>\n",
       "      <td>69.0</td>\n",
       "      <td>12</td>\n",
       "      <td>15</td>\n",
       "    </tr>\n",
       "    <tr>\n",
       "      <th>4</th>\n",
       "      <td>141.946152</td>\n",
       "      <td>23.545000</td>\n",
       "      <td>35.630000</td>\n",
       "      <td>34.850</td>\n",
       "      <td>10.654814</td>\n",
       "      <td>1012.000</td>\n",
       "      <td>58.0</td>\n",
       "      <td>3</td>\n",
       "      <td>20</td>\n",
       "    </tr>\n",
       "    <tr>\n",
       "      <th>...</th>\n",
       "      <td>...</td>\n",
       "      <td>...</td>\n",
       "      <td>...</td>\n",
       "      <td>...</td>\n",
       "      <td>...</td>\n",
       "      <td>...</td>\n",
       "      <td>...</td>\n",
       "      <td>...</td>\n",
       "      <td>...</td>\n",
       "    </tr>\n",
       "    <tr>\n",
       "      <th>11323</th>\n",
       "      <td>196.906226</td>\n",
       "      <td>24.782500</td>\n",
       "      <td>30.112500</td>\n",
       "      <td>29.330</td>\n",
       "      <td>5.203319</td>\n",
       "      <td>1011.270</td>\n",
       "      <td>84.0</td>\n",
       "      <td>7</td>\n",
       "      <td>14</td>\n",
       "    </tr>\n",
       "    <tr>\n",
       "      <th>11324</th>\n",
       "      <td>253.000000</td>\n",
       "      <td>24.373333</td>\n",
       "      <td>29.226667</td>\n",
       "      <td>30.680</td>\n",
       "      <td>3.842162</td>\n",
       "      <td>1008.100</td>\n",
       "      <td>NaN</td>\n",
       "      <td>10</td>\n",
       "      <td>21</td>\n",
       "    </tr>\n",
       "    <tr>\n",
       "      <th>11325</th>\n",
       "      <td>59.000000</td>\n",
       "      <td>23.485000</td>\n",
       "      <td>30.047500</td>\n",
       "      <td>27.230</td>\n",
       "      <td>7.474200</td>\n",
       "      <td>1012.710</td>\n",
       "      <td>79.0</td>\n",
       "      <td>11</td>\n",
       "      <td>0</td>\n",
       "    </tr>\n",
       "    <tr>\n",
       "      <th>11326</th>\n",
       "      <td>213.743990</td>\n",
       "      <td>25.796000</td>\n",
       "      <td>31.956000</td>\n",
       "      <td>30.705</td>\n",
       "      <td>6.017684</td>\n",
       "      <td>1008.895</td>\n",
       "      <td>80.0</td>\n",
       "      <td>5</td>\n",
       "      <td>23</td>\n",
       "    </tr>\n",
       "    <tr>\n",
       "      <th>11327</th>\n",
       "      <td>250.700950</td>\n",
       "      <td>25.057500</td>\n",
       "      <td>30.762500</td>\n",
       "      <td>31.380</td>\n",
       "      <td>7.034392</td>\n",
       "      <td>1007.655</td>\n",
       "      <td>81.0</td>\n",
       "      <td>7</td>\n",
       "      <td>8</td>\n",
       "    </tr>\n",
       "  </tbody>\n",
       "</table>\n",
       "<p>11328 rows × 9 columns</p>\n",
       "</div>"
      ],
      "text/plain": [
       "       Wind Direction   Min Temp   Max Temp  The Temp  Wind Speed  \\\n",
       "0          230.000000  24.220000  31.190000    31.380    3.167974   \n",
       "1           50.500000  25.060000  35.980000       NaN    5.940000   \n",
       "2           41.635907  21.282000  33.220000    31.980    4.504709   \n",
       "3          351.000000  21.593333  29.880000       NaN    2.110000   \n",
       "4          141.946152  23.545000  35.630000    34.850   10.654814   \n",
       "...               ...        ...        ...       ...         ...   \n",
       "11323      196.906226  24.782500  30.112500    29.330    5.203319   \n",
       "11324      253.000000  24.373333  29.226667    30.680    3.842162   \n",
       "11325       59.000000  23.485000  30.047500    27.230    7.474200   \n",
       "11326      213.743990  25.796000  31.956000    30.705    6.017684   \n",
       "11327      250.700950  25.057500  30.762500    31.380    7.034392   \n",
       "\n",
       "       Air Pressure  Humidity  Month  Hour  \n",
       "0          1009.940       NaN      6     7  \n",
       "1               NaN      56.0      1     3  \n",
       "2          1020.070      51.0      2    14  \n",
       "3               NaN      69.0     12    15  \n",
       "4          1012.000      58.0      3    20  \n",
       "...             ...       ...    ...   ...  \n",
       "11323      1011.270      84.0      7    14  \n",
       "11324      1008.100       NaN     10    21  \n",
       "11325      1012.710      79.0     11     0  \n",
       "11326      1008.895      80.0      5    23  \n",
       "11327      1007.655      81.0      7     8  \n",
       "\n",
       "[11328 rows x 9 columns]"
      ]
     },
     "execution_count": 30,
     "metadata": {},
     "output_type": "execute_result"
    }
   ],
   "source": [
    "col_dropper = ColAddDropper()\n",
    "col_dropper.fit(train_X_df)\n",
    "col_dropper.transform(train_X_df)"
   ]
  },
  {
   "cell_type": "markdown",
   "metadata": {},
   "source": [
    "### Xử lý giá trị thiếu và chuẩn hóa dữ liệu"
   ]
  },
  {
   "cell_type": "markdown",
   "metadata": {},
   "source": [
    "Như ta thấy ở trên thì thuộc tính có thuộc tính dạng số (numerical): 'Wind Direction', 'Min Temp', 'Max Temp', 'The Temp', 'Wind Speed', 'Air Pressure', 'Humidity', 'Visibility' và thuộc tính categorical: 'Month','Hour' (dạng số)    \n",
    "+ Với thuộc tính dạng kiểu số ta cần phải tính mean, với tất cả ta cần phải tính vì ta không biết được cột nào sẽ bị thiếu giá trị khi dự đoán với các véc-tơ input mới (Class MissingValues sẽ làm việc đó)  \n",
    "+ Với thuộc tính Categorical: Ta sẽ điền giá trị thiếu bằng mode (giá trị xuất hiện nhiều nhất) của cột, vì các cột categorical trong dữ liệu đều đã là dạng số nên ta không cần phải chuyển đổi chuẩn hóa nữa. \n",
    "  \n",
    "Sau khi đã điền giá trị thiếu ta sẽ chuẩn hóa bằng cách trừ đi mean và chia cho độ lệch chuẩn của cột để giúp cho các thuật toán cực tiểu hóa như Gradient Descent, LBFGS, ... hội tụ nhanh hơn (Class Standarized sẽ làm việc này)"
   ]
  },
  {
   "cell_type": "code",
   "execution_count": 31,
   "metadata": {},
   "outputs": [
    {
     "data": {
      "text/plain": [
       "array([[ 8.78294550e-01,  2.12375077e-02, -7.60236815e-01, ...,\n",
       "        -6.87790305e-16,  4.60473200e-01, -6.25918739e-01],\n",
       "       [-1.09293483e+00,  5.16997972e-01,  1.00248537e+00, ...,\n",
       "        -6.85639549e-01, -1.07588413e+00, -1.20290236e+00],\n",
       "       [-1.19027835e+00, -1.71274374e+00, -1.31958874e-02, ...,\n",
       "        -1.16962895e+00, -7.68612664e-01,  3.83802598e-01],\n",
       "       ...,\n",
       "       [-9.99589710e-01, -4.12552899e-01, -1.18067734e+00, ...,\n",
       "         1.54071169e+00,  1.99683053e+00, -1.63564008e+00],\n",
       "       [ 6.99774632e-01,  9.51378570e-01, -4.78348465e-01, ...,\n",
       "         1.63750957e+00,  1.53201734e-01,  1.68201575e+00],\n",
       "       [ 1.10562782e+00,  5.15522495e-01, -9.17557010e-01, ...,\n",
       "         1.73430745e+00,  7.67744665e-01, -4.81672834e-01]])"
      ]
     },
     "execution_count": 31,
     "metadata": {},
     "output_type": "execute_result"
    }
   ],
   "source": [
    "Numerical = ['Wind Direction','Min Temp','Max Temp','The Temp','Wind Speed','Air Pressure','Humidity']\n",
    "Categorical = ['Month','Hour']\n",
    "\n",
    "class MissingValues(BaseEstimator, TransformerMixin):\n",
    "    def __init__(self, Numerical,Categorical):\n",
    "        self.Numerical = Numerical\n",
    "        self.Categorical= Categorical\n",
    "    def fit(self,X, y=None):\n",
    "        #mean  (Numerical)\n",
    "        self.imp_mean = SimpleImputer(missing_values=np.nan,strategy='mean')\n",
    "        self.imp_mean = self.imp_mean.fit(X[self.Numerical])\n",
    "        #mode (Categorical)\n",
    "        self.imp_mode = SimpleImputer(missing_values=np.nan,strategy='most_frequent')\n",
    "        self.imp_mode = self.imp_mode.fit(X[self.Categorical])\n",
    "        return self\n",
    "    def transform(self, X, y=None):\n",
    "        X[self.Numerical] = self.imp_mean.transform(X[self.Numerical])\n",
    "        X[self.Categorical] = self.imp_mode.transform(X[self.Categorical])\n",
    "        return X\n",
    "class Standardized(BaseEstimator, TransformerMixin):\n",
    "    def fit(self, X, y=None):\n",
    "        scaler = StandardScaler()\n",
    "        self.scaled = scaler.fit(X)\n",
    "        return self\n",
    "    def transform(self, X, y=None):\n",
    "        #Standardized\n",
    "        result = self.scaled.transform(X)\n",
    "        return result\n",
    "    \n",
    "preprocess_pipeline = make_pipeline(ColAddDropper(),MissingValues(Numerical,Categorical),Standardized())\n",
    "preprocessed_train_X = preprocess_pipeline.fit_transform(train_X_df)\n",
    "preprocessed_train_X"
   ]
  },
  {
   "cell_type": "markdown",
   "metadata": {},
   "source": [
    "## Tiền xử lý + mô hình hóa"
   ]
  },
  {
   "cell_type": "markdown",
   "metadata": {},
   "source": [
    "### Tìm mô hình tốt nhất "
   ]
  },
  {
   "cell_type": "markdown",
   "metadata": {},
   "source": [
    "#### Mô hình Neural Net"
   ]
  },
  {
   "cell_type": "markdown",
   "metadata": {},
   "source": [
    "Ta sẽ sử dụng mô hình Neural Net để phân lớp. Bạn sẽ tạo ra một pipeline từ đầu đến cuối bao gồm: các bước tiền xử lý ở trên + Neural Net (với các siêu tham số `hidden_layer_sizes=(20), activation='tanh', solver='lbfgs', random_state=0, max_iter=2000`)  \n",
    "\n",
    "Sau khi đã có được pipeline từ đầu đến cuối này, ta sẽ thử nghiệm:\n",
    "- Siêu tham số `alpha` (mức độ L2 regularization hay weight decay) của `MLPClassifier` với 5 giá trị khác nhau: 0.1, 1, 10, 100, 1000.\n",
    "- Siêu tham số `hidden_layer_sizes` (số lớp ẩn trong Neural) của `MLPClassifier` với 5 giá trị khác nhau: 5,10,20,50,100"
   ]
  },
  {
   "cell_type": "code",
   "execution_count": 32,
   "metadata": {},
   "outputs": [
    {
     "name": "stdout",
     "output_type": "stream",
     "text": [
      "Độ lỗi của tập validation với alpha =  0.1 và hidden_layer =  5 :  15.051882942753881\n",
      "Độ lỗi của tập validation với alpha =  0.1 và hidden_layer =  10 :  14.976098869068444\n",
      "Độ lỗi của tập validation với alpha =  0.1 và hidden_layer =  20 :  14.031712720065293\n",
      "Độ lỗi của tập validation với alpha =  0.1 và hidden_layer =  50 :  13.97924682289845\n"
     ]
    },
    {
     "name": "stderr",
     "output_type": "stream",
     "text": [
      "C:\\Anaconda\\lib\\site-packages\\sklearn\\neural_network\\_multilayer_perceptron.py:500: ConvergenceWarning: lbfgs failed to converge (status=1):\n",
      "STOP: TOTAL NO. of ITERATIONS REACHED LIMIT.\n",
      "\n",
      "Increase the number of iterations (max_iter) or scale the data as shown in:\n",
      "    https://scikit-learn.org/stable/modules/preprocessing.html\n",
      "  self.n_iter_ = _check_optimize_result(\"lbfgs\", opt_res, self.max_iter)\n"
     ]
    },
    {
     "name": "stdout",
     "output_type": "stream",
     "text": [
      "Độ lỗi của tập validation với alpha =  0.1 và hidden_layer =  100 :  14.35233764719599\n",
      "Độ lỗi của tập validation với alpha =  1 và hidden_layer =  5 :  14.801212545178966\n",
      "Độ lỗi của tập validation với alpha =  1 và hidden_layer =  10 :  14.917803427771947\n",
      "Độ lỗi của tập validation với alpha =  1 và hidden_layer =  20 :  14.189110411565819\n",
      "Độ lỗi của tập validation với alpha =  1 và hidden_layer =  50 :  13.728576425323535\n"
     ]
    },
    {
     "name": "stderr",
     "output_type": "stream",
     "text": [
      "C:\\Anaconda\\lib\\site-packages\\sklearn\\neural_network\\_multilayer_perceptron.py:500: ConvergenceWarning: lbfgs failed to converge (status=1):\n",
      "STOP: TOTAL NO. of ITERATIONS REACHED LIMIT.\n",
      "\n",
      "Increase the number of iterations (max_iter) or scale the data as shown in:\n",
      "    https://scikit-learn.org/stable/modules/preprocessing.html\n",
      "  self.n_iter_ = _check_optimize_result(\"lbfgs\", opt_res, self.max_iter)\n"
     ]
    },
    {
     "name": "stdout",
     "output_type": "stream",
     "text": [
      "Độ lỗi của tập validation với alpha =  1 và hidden_layer =  100 :  13.664451439897396\n",
      "Độ lỗi của tập validation với alpha =  10 và hidden_layer =  5 :  14.812871633438263\n",
      "Độ lỗi của tập validation với alpha =  10 và hidden_layer =  10 :  14.649644397808093\n",
      "Độ lỗi của tập validation với alpha =  10 và hidden_layer =  20 :  14.299871750029148\n",
      "Độ lỗi của tập validation với alpha =  10 và hidden_layer =  50 :  14.04337180832459\n",
      "Độ lỗi của tập validation với alpha =  10 và hidden_layer =  100 :  14.084178617232135\n",
      "Độ lỗi của tập validation với alpha =  100 và hidden_layer =  5 :  15.226769266643348\n",
      "Độ lỗi của tập validation với alpha =  100 và hidden_layer =  10 :  15.220939722513705\n",
      "Độ lỗi của tập validation với alpha =  100 và hidden_layer =  20 :  15.250087443161942\n",
      "Độ lỗi của tập validation với alpha =  100 và hidden_layer =  50 :  15.267576075550892\n",
      "Độ lỗi của tập validation với alpha =  100 và hidden_layer =  100 :  15.27923516381019\n",
      "Độ lỗi của tập validation với alpha =  1000 và hidden_layer =  5 :  16.649178034277725\n",
      "Độ lỗi của tập validation với alpha =  1000 và hidden_layer =  10 :  17.022268858575263\n",
      "Độ lỗi của tập validation với alpha =  1000 và hidden_layer =  20 :  17.17966655007579\n",
      "Độ lỗi của tập validation với alpha =  1000 và hidden_layer =  50 :  17.366211962224554\n",
      "Độ lỗi của tập validation với alpha =  1000 và hidden_layer =  100 :  17.41284831526174\n"
     ]
    },
    {
     "data": {
      "text/plain": [
       "'Finish!'"
      ]
     },
     "execution_count": 32,
     "metadata": {},
     "output_type": "execute_result"
    }
   ],
   "source": [
    "#Tạo full pipeline  \n",
    "full_pipeline = make_pipeline(ColAddDropper(),MissingValues(Numerical,Categorical),Standardized(),MLPClassifier(hidden_layer_sizes=(20),activation='tanh',solver='lbfgs',random_state= 0,max_iter = 2000))\n",
    "alpha_l = []\n",
    "hid_l = []\n",
    "# Thử nghiệm với các giá trị khác nhau của các siêu tham số\n",
    "# và chọn ra các giá trị tốt nhất\n",
    "train_errs = []\n",
    "val_errs = []\n",
    "alphas = [0.1, 1, 10, 100, 1000]\n",
    "hidden_layers = [5, 10, 20, 50, 100]\n",
    "best_val_err = float('inf'); best_alpha = None; best_num_top_titles = None\n",
    "for alpha in alphas:\n",
    "    for hidden_layer in hidden_layers:\n",
    "        alpha_l.append(alpha)\n",
    "        hid_l.append(hidden_layer)\n",
    "        full_pipeline.set_params(mlpclassifier__alpha=alpha,mlpclassifier__hidden_layer_sizes = (hidden_layer))\n",
    "        full_pipeline.fit(train_X_df,train_y_sr)\n",
    "        train_errs.append((1-full_pipeline.score(train_X_df,train_y_sr))*100)\n",
    "        validation_err = (1-full_pipeline.score(val_X_df,val_y_sr))*100\n",
    "        print('Độ lỗi của tập validation với alpha = ',alpha,'và hidden_layer = ',hidden_layer,': ',validation_err)\n",
    "        val_errs.append(validation_err)\n",
    "best_val_err = min(val_errs)\n",
    "best_alpha = alpha_l[val_errs.index(best_val_err)]\n",
    "best_hidden_layer = hid_l[val_errs.index(best_val_err)]\n",
    "'Finish!'"
   ]
  },
  {
   "cell_type": "code",
   "execution_count": 33,
   "metadata": {},
   "outputs": [
    {
     "data": {
      "image/png": "[encoded data removed]",
      "text/plain": [
       "<Figure size 720x360 with 2 Axes>"
      ]
     },
     "metadata": {
      "needs_background": "light"
     },
     "output_type": "display_data"
    }
   ],
   "source": [
    "# Trực quan hóa kết quả\n",
    "train_errs_df = pd.DataFrame(data=np.array(train_errs).reshape(len(alphas), -1),\n",
    "                             index=alphas, columns=hidden_layers)\n",
    "val_errs_df = pd.DataFrame(data=np.array(val_errs).reshape(len(alphas), -1), \n",
    "                           index=alphas, columns=hidden_layers)\n",
    "min_err = min(min(train_errs), min(val_errs))\n",
    "max_err = max(max(train_errs), max(val_errs))\n",
    "plt.figure(figsize=(10, 5))\n",
    "plt.subplot(1, 2, 1)\n",
    "sns.heatmap(train_errs_df, vmin=min_err, vmax=max_err, square=True, annot=True, \n",
    "            cbar=False, fmt='.1f', cmap='Reds')\n",
    "plt.title('train errors'); plt.xlabel('hidden layers'); plt.ylabel('alpha')\n",
    "plt.subplot(1, 2, 2)\n",
    "sns.heatmap(val_errs_df, vmin=min_err, vmax=max_err, square=True, annot=True, \n",
    "            cbar=False, fmt='.1f', cmap='Reds')\n",
    "plt.title('validation errors'); plt.xlabel('hidden layers'); plt.ylabel('alpha');"
   ]
  },
  {
   "cell_type": "markdown",
   "metadata": {},
   "source": [
    "Neural chạy khá lâu (khoảng 15p) !!!  \n",
    "Bên train_errors, ta có thể thấy độ lỗi của mô hình dựa vào hidden layers , hidden layers càng cao thì càng fit mô hình\n",
    "Dựa vào heatmap bên trên, mặc dù validation errors (hidden_layers = 100, alpha = 1.0) có độ lỗi nhỏ nhất nhưng khi nhìn qua ta có thể thấy bên train errors thì quá fit so với mô hình,tương tự với alpha = 0.1 thì ta cũng có thể thấy bị overfitting thay vào đó ta sẽ chọn hidden_layers = 50 , alpha = 1.0 làm tham số để chạy với bộ dữ liệu test "
   ]
  },
  {
   "cell_type": "code",
   "execution_count": 34,
   "metadata": {},
   "outputs": [],
   "source": [
    "# UnderSampling cả tập train và tập validation để đánh giá tập test\n",
    "MLP_Tr_X,MLP_Tr_y = Tr_X_df, Tr_y_sr\n",
    "undersample = RandomUnderSampler(sampling_strategy='majority')\n",
    "MLP_Tr_X,MLP_Tr_y = undersample.fit_resample(MLP_Tr_X,MLP_Tr_y)"
   ]
  },
  {
   "cell_type": "code",
   "execution_count": 35,
   "metadata": {},
   "outputs": [
    {
     "name": "stdout",
     "output_type": "stream",
     "text": [
      "Độ chính xác của mô hình Neural Net: 86.8555438964673\n"
     ]
    }
   ],
   "source": [
    "# Đánh giá độ chính xác của mô hình Neural Net trên tập test\n",
    "full_pipeline.set_params(mlpclassifier__alpha=1,mlpclassifier__hidden_layer_sizes = (50))\n",
    "full_pipeline.fit(MLP_Tr_X,MLP_Tr_y)\n",
    "predict = full_pipeline.predict(test_X_df)\n",
    "print('Độ chính xác của mô hình Neural Net:',accuracy_score(predict, test_y_sr)*100)"
   ]
  },
  {
   "cell_type": "markdown",
   "metadata": {},
   "source": [
    "#### Mô hình AdaBoost Classifier"
   ]
  },
  {
   "cell_type": "markdown",
   "metadata": {},
   "source": [
    "Ta sẽ sử dụng mô hình AdaBoost Classifier để phân lớp. Bạn sẽ tạo ra một pipeline từ đầu đến cuối bao gồm: các bước tiền xử lý ở trên + AdaBoost Classifier\n",
    "\n",
    "Sau khi đã có được pipeline từ đầu đến cuối này, ta sẽ thử nghiệm:\n",
    "- Siêu tham số `n_estimators`của `AdaBoostClassifier` với 5 giá trị khác nhau: 10,20,50,100,150"
   ]
  },
  {
   "cell_type": "code",
   "execution_count": 36,
   "metadata": {},
   "outputs": [
    {
     "name": "stdout",
     "output_type": "stream",
     "text": [
      "Độ lỗi tốt nhất trên tập validation:  14.643814853678439\n"
     ]
    }
   ],
   "source": [
    "#Tạo full pipeline  \n",
    "full_pipeline = make_pipeline(ColAddDropper(),MissingValues(Numerical,Categorical),Standardized(),AdaBoostClassifier())\n",
    "estimators_l = []\n",
    "# Thử nghiệm với các giá trị khác nhau của siêu tham số n_estimators\n",
    "# và chọn ra các giá trị tốt nhất\n",
    "train_errs = []\n",
    "val_errs = []\n",
    "algorithm = ['SAMME.R']\n",
    "estis = [10, 20, 50, 100, 150]\n",
    "best_val_err = float('inf')\n",
    "best_esti = None\n",
    "\n",
    "for esti in estis:\n",
    "    estimators_l.append(esti)\n",
    "    full_pipeline.set_params(adaboostclassifier__n_estimators=esti)\n",
    "    full_pipeline.fit(train_X_df,train_y_sr)\n",
    "    train_errs.append((1-full_pipeline.score(train_X_df,train_y_sr))*100)\n",
    "    val_errs.append((1-full_pipeline.score(val_X_df,val_y_sr))*100)\n",
    "best_val_err = min(val_errs)\n",
    "best_esti = estimators_l[val_errs.index(best_val_err)]\n",
    "print('Độ lỗi tốt nhất trên tập validation: ',best_val_err)"
   ]
  },
  {
   "cell_type": "code",
   "execution_count": 37,
   "metadata": {},
   "outputs": [
    {
     "data": {
      "image/png": "[encoded data removed]",
      "text/plain": [
       "<Figure size 720x360 with 2 Axes>"
      ]
     },
     "metadata": {
      "needs_background": "light"
     },
     "output_type": "display_data"
    }
   ],
   "source": [
    "# Trực quan hóa kết quả\n",
    "train_errs_df = pd.DataFrame(data=np.array(train_errs).reshape(len(algorithm), -1),\n",
    "                             index=algorithm, columns=estis)\n",
    "val_errs_df = pd.DataFrame(data=np.array(val_errs).reshape(len(algorithm), -1), \n",
    "                           index=algorithm, columns=estis)\n",
    "min_err = min(min(train_errs), min(val_errs))\n",
    "max_err = max(max(train_errs), max(val_errs))\n",
    "plt.figure(figsize=(10, 5))\n",
    "plt.subplot(1, 2, 1)\n",
    "sns.heatmap(train_errs_df, vmin=min_err, vmax=max_err, square=True, annot=True, \n",
    "            cbar=False, fmt='.1f', cmap='Reds')\n",
    "plt.title('train errors'); plt.xlabel('estimators'); plt.ylabel('algorithm')\n",
    "plt.subplot(1, 2, 2)\n",
    "sns.heatmap(val_errs_df, vmin=min_err, vmax=max_err, square=True, annot=True, \n",
    "            cbar=False, fmt='.1f', cmap='Reds')\n",
    "plt.title('validation errors'); plt.xlabel('estimators'); plt.ylabel('algorithm');"
   ]
  },
  {
   "cell_type": "markdown",
   "metadata": {},
   "source": [
    "Ở mô hình này ta có thể thấy, độ lỗi của mô hình giảm khi ta tăng chỉ số estimators (cả train errors và validation errors) Lý do validation errors thấp hơn so với train errors có thể do 1 phần lớn ảnh hưởng bởi việc undersampling tập train còn tập validation thì không  \n",
    "Thì em hiểu đây là một thuật toán học tăng cường, n estimators chính là số lượng 'học viên' đạt trọng số thấp cần phải đào tạo lại có thể kết hợp với nhiều bộ phân loại (với tham số base_estimator=None, mặc đinh là DecisionTreeClassifier)"
   ]
  },
  {
   "cell_type": "code",
   "execution_count": 38,
   "metadata": {},
   "outputs": [],
   "source": [
    "# UnderSampling cả tập train và tập validation để đánh giá tập test\n",
    "Ada_Tr_X,Ada_Tr_y = Tr_X_df, Tr_y_sr\n",
    "undersample = RandomUnderSampler(sampling_strategy='majority')\n",
    "Ada_Tr_X,Ada_Tr_y = undersample.fit_resample(Ada_Tr_X,Ada_Tr_y)"
   ]
  },
  {
   "cell_type": "code",
   "execution_count": 39,
   "metadata": {},
   "outputs": [
    {
     "name": "stdout",
     "output_type": "stream",
     "text": [
      "Độ chính xác của mô hình AdaBoost Classifier:  84.17628541448059\n"
     ]
    }
   ],
   "source": [
    "# Đánh giá chính xác của mô hình AdaBoost Classifier trên tập test\n",
    "full_pipeline.set_params(adaboostclassifier__n_estimators=best_esti)\n",
    "full_pipeline.fit(Ada_Tr_X,Ada_Tr_y)\n",
    "predict = full_pipeline.predict(test_X_df)\n",
    "print(\"Độ chính xác của mô hình AdaBoost Classifier: \",accuracy_score(predict, test_y_sr)*100)"
   ]
  },
  {
   "cell_type": "markdown",
   "metadata": {},
   "source": [
    "#### Mô hình Decision Tree Classifier"
   ]
  },
  {
   "cell_type": "markdown",
   "metadata": {},
   "source": [
    "Ta sẽ thử mô hình Decision Tree Classifier với các tham số mặc định"
   ]
  },
  {
   "cell_type": "code",
   "execution_count": 40,
   "metadata": {},
   "outputs": [
    {
     "name": "stdout",
     "output_type": "stream",
     "text": [
      "Độ lỗi trên tập train: 0.0\n",
      "Độ lỗi trên tập validation: 14.066689984843183\n"
     ]
    }
   ],
   "source": [
    "full_pipeline = make_pipeline(ColAddDropper(),MissingValues(Numerical,Categorical),Standardized(),DecisionTreeClassifier())\n",
    "full_pipeline.fit(train_X_df,train_y_sr)\n",
    "print(\"Độ lỗi trên tập train:\",(1-full_pipeline.score(train_X_df,train_y_sr))*100)\n",
    "print(\"Độ lỗi trên tập validation:\",(1-full_pipeline.score(val_X_df,val_y_sr))*100)"
   ]
  },
  {
   "cell_type": "markdown",
   "metadata": {},
   "source": [
    "Theo như quan sát độ lỗi của 2 tập (train và validation) thì với mô hình Decision Tree Classifier bị overfitting"
   ]
  },
  {
   "cell_type": "code",
   "execution_count": 41,
   "metadata": {},
   "outputs": [],
   "source": [
    "# UnderSampling cả tập train và tập validation để đánh giá tập test\n",
    "Dec_Tr_X,Dec_Tr_y = Tr_X_df, Tr_y_sr\n",
    "undersample = RandomUnderSampler(sampling_strategy='majority')\n",
    "Dec_Tr_X,Dec_Tr_y = undersample.fit_resample(Dec_Tr_X,Dec_Tr_y)"
   ]
  },
  {
   "cell_type": "code",
   "execution_count": 42,
   "metadata": {},
   "outputs": [
    {
     "name": "stdout",
     "output_type": "stream",
     "text": [
      "Độ chính xác của mô hình Decision Tree:  87.02343476740118\n"
     ]
    }
   ],
   "source": [
    "# Đánh giá độ chính xác của mô hình Decision Tree trên tập test\n",
    "full_pipeline.fit(Dec_Tr_X,Dec_Tr_y)\n",
    "predict = full_pipeline.predict(test_X_df)\n",
    "print(\"Độ chính xác của mô hình Decision Tree: \",accuracy_score(predict, test_y_sr)*100)"
   ]
  },
  {
   "cell_type": "markdown",
   "metadata": {},
   "source": [
    "#### Mô hình Logistic Regression"
   ]
  },
  {
   "cell_type": "markdown",
   "metadata": {},
   "source": [
    "Ngoài ra ta sẽ thử thêm 1 mô hình nữa đó là Logistic Regression với tham số mặc định"
   ]
  },
  {
   "cell_type": "code",
   "execution_count": 43,
   "metadata": {},
   "outputs": [
    {
     "name": "stdout",
     "output_type": "stream",
     "text": [
      "Độ lỗi trên tập train: 22.98728813559322\n",
      "Độ lỗi trên tập validation: 15.337530605106686\n"
     ]
    }
   ],
   "source": [
    "full_pipeline = make_pipeline(ColAddDropper(),MissingValues(Numerical,Categorical),Standardized(),LogisticRegression())\n",
    "full_pipeline.fit(train_X_df,train_y_sr)\n",
    "print(\"Độ lỗi trên tập train:\",(1-full_pipeline.score(train_X_df,train_y_sr))*100)\n",
    "print(\"Độ lỗi trên tập validation:\",(1-full_pipeline.score(val_X_df,val_y_sr))*100)"
   ]
  },
  {
   "cell_type": "markdown",
   "metadata": {},
   "source": [
    "Độ lỗi của tập train nhỏ hơn độ lỗi của tập validation, theo như em nghĩ ở trên thì có vẻ là do undersampling bộ train và giữ nguyên bộ validation"
   ]
  },
  {
   "cell_type": "code",
   "execution_count": 44,
   "metadata": {},
   "outputs": [],
   "source": [
    "# UnderSampling cả tập train và tập validation để đánh giá tập test\n",
    "Log_Tr_X,Log_Tr_y = Tr_X_df, Tr_y_sr\n",
    "undersample = RandomUnderSampler(sampling_strategy='majority')\n",
    "Log_Tr_X,Log_Tr_y = undersample.fit_resample(Log_Tr_X,Log_Tr_y)"
   ]
  },
  {
   "cell_type": "code",
   "execution_count": 45,
   "metadata": {},
   "outputs": [
    {
     "name": "stdout",
     "output_type": "stream",
     "text": [
      "Độ chính xác của mô hình Logistic Regression:  84.59601259181532\n"
     ]
    }
   ],
   "source": [
    "# Đánh giá độ chính xác của mô hình Logistic Regression trên tập test\n",
    "full_pipeline.fit(Log_Tr_X,Log_Tr_y)\n",
    "predict = full_pipeline.predict(test_X_df)\n",
    "print(\"Độ chính xác của mô hình Logistic Regression: \",accuracy_score(predict, test_y_sr)*100)"
   ]
  },
  {
   "cell_type": "markdown",
   "metadata": {},
   "source": [
    "## Nhìn lại quá trình làm đồ án"
   ]
  },
  {
   "cell_type": "markdown",
   "metadata": {},
   "source": [
    "**Khó khăn:**  \n",
    "+ Lúc tìm dữ liệu thời tiết, tuy nhiều trang API cung cấp dữ liệu về thời tiết nhưng có giới hạn về số lượng dữ liệu được lấy (thời gian) , lấy trang metaweather nhưng có vẻ dữ liệu thời tiết của nó không được đúng cho lắm :v\n",
    "+ Trong quá trình làm, nhóm em có khó khăn trong vấn đề bị imblanced dataset. (Nhomse m đã thử làm mà không cần under/oversampling dữ liệu mà chỉ điều chỉnh trọng số lớp trong thuật toán, tuy nhiên theo các bạn đóng góp cho đồ án của nhóm em và em cũng suy nghĩ mình cũng nên thử với việc undersampling dữ liệu coi có sự thay đổi gì không) \n",
    "+ Tuy có cảm hứng làm với thời tiết nhưng nhóm em lại muốn làm gì đó nó mới mẻ hơn , có thử nghĩ qua một vài chủ đề khác nhưng cái cảm hứng của nhóm em nó lấn át rồi ạ :))    "
   ]
  },
  {
   "cell_type": "markdown",
   "metadata": {},
   "source": [
    "**Những điều học được:**    \n",
    "+ Biết thêm nhiều về Git , Github  \n",
    "+ Biết thêm về file markdown\n",
    "+ Tăng khả năng làm việc nhóm  \n",
    "+ Biết được thêm nhiều mô hình dữ liệu hơn    \n",
    "+ Biết được thêm quá trình xử lý nếu dữ liệu bị mất cân bằng\n",
    "+ Suy ngẫm về nhiều điều trong thực tế có thể mô hình hóa hay không ? (Tự đặt câu hỏi, thấy nhiều bài toán khá thú vị ) \n",
    "\n",
    "Ngoài ra còn được học hỏi được nhiều từ góp ý của các bạn nhóm khác,nhóm em thấy thầy làm thêm cái góp ý (issue) trong đồ án này khá hay"
   ]
  },
  {
   "cell_type": "markdown",
   "metadata": {},
   "source": [
    "**Nếu có thêm thời gian thì bọn em sẽ dành thời gian nhiều hơn cho việc suy nghĩ ý tưởng hơn và thử qua nhiều mô hình hơn**"
   ]
  },
  {
   "cell_type": "markdown",
   "metadata": {},
   "source": [
    "## Nguồn tham khảo"
   ]
  },
  {
   "cell_type": "markdown",
   "metadata": {},
   "source": [
    "- [Metaweather](www.metaweather.com)      \n",
    "- [Sklearn](scikit-learn.org)  \n",
    "- [Imblearn](imbalanced-learn.org)\n",
    "- [Imblanced Dataset 1](https://datascience.stackexchange.com/questions/61858/oversampling-undersampling-only-train-set-only-or-both-train-and-validation-set)\n",
    "- [Imblanced Dataset 2](https://datascience.stackexchange.com/questions/8895/with-unbalanced-class-do-i-have-to-use-under-sampling-on-my-validation-testing)\n",
    "- File tài liệu bài tập  "
   ]
  }
 ],
 "metadata": {
  "kernelspec": {
   "display_name": "Python 3",
   "language": "python",
   "name": "python3"
  },
  "language_info": {
   "codemirror_mode": {
    "name": "ipython",
    "version": 3
   },
   "file_extension": ".py",
   "mimetype": "text/x-python",
   "name": "python",
   "nbconvert_exporter": "python",
   "pygments_lexer": "ipython3",
   "version": "3.8.3"
  },
  "toc": {
   "base_numbering": 1,
   "nav_menu": {},
   "number_sections": true,
   "sideBar": true,
   "skip_h1_title": false,
   "title_cell": "Table of Contents",
   "title_sidebar": "Contents",
   "toc_cell": false,
   "toc_position": {
    "height": "calc(100% - 180px)",
    "left": "10px",
    "top": "150px",
    "width": "307.2px"
   },
   "toc_section_display": true,
   "toc_window_display": false
  }
 },
 "nbformat": 4,
 "nbformat_minor": 4
}
