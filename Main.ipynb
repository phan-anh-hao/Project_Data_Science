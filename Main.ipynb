{
 "cells": [
  {
   "cell_type": "markdown",
   "metadata": {},
   "source": [
    "## Import"
   ]
  },
  {
   "cell_type": "code",
   "execution_count": 73,
   "metadata": {},
   "outputs": [],
   "source": [
    "import numpy as np\n",
    "import pandas as pd\n",
    "import matplotlib.pyplot as plt\n",
    "import sklearn \n",
    "from sklearn.base import BaseEstimator, TransformerMixin\n",
    "\n",
    "from sklearn.model_selection import train_test_split"
   ]
  },
  {
   "cell_type": "markdown",
   "metadata": {},
   "source": [
    "## Khám phá dữ liệu"
   ]
  },
  {
   "cell_type": "code",
   "execution_count": 90,
   "metadata": {},
   "outputs": [
    {
     "data": {
      "text/html": [
       "<div>\n",
       "<style scoped>\n",
       "    .dataframe tbody tr th:only-of-type {\n",
       "        vertical-align: middle;\n",
       "    }\n",
       "\n",
       "    .dataframe tbody tr th {\n",
       "        vertical-align: top;\n",
       "    }\n",
       "\n",
       "    .dataframe thead th {\n",
       "        text-align: right;\n",
       "    }\n",
       "</style>\n",
       "<table border=\"1\" class=\"dataframe\">\n",
       "  <thead>\n",
       "    <tr style=\"text-align: right;\">\n",
       "      <th></th>\n",
       "      <th>State Name</th>\n",
       "      <th>State Abbreviation</th>\n",
       "      <th>Wind Direction</th>\n",
       "      <th>Created</th>\n",
       "      <th>Applicable Date</th>\n",
       "      <th>Min Temp</th>\n",
       "      <th>Max Temp</th>\n",
       "      <th>The Temp</th>\n",
       "      <th>Wind Speed</th>\n",
       "      <th>Air Pressure</th>\n",
       "      <th>Humidity</th>\n",
       "      <th>Visibility</th>\n",
       "      <th>Predictability</th>\n",
       "    </tr>\n",
       "    <tr>\n",
       "      <th>ID</th>\n",
       "      <th></th>\n",
       "      <th></th>\n",
       "      <th></th>\n",
       "      <th></th>\n",
       "      <th></th>\n",
       "      <th></th>\n",
       "      <th></th>\n",
       "      <th></th>\n",
       "      <th></th>\n",
       "      <th></th>\n",
       "      <th></th>\n",
       "      <th></th>\n",
       "      <th></th>\n",
       "    </tr>\n",
       "  </thead>\n",
       "  <tbody>\n",
       "    <tr>\n",
       "      <th>4.815610e+15</th>\n",
       "      <td>Clear</td>\n",
       "      <td>c</td>\n",
       "      <td>24.918324</td>\n",
       "      <td>2016-01-01T15:50:46.783160Z</td>\n",
       "      <td>1/1/2016</td>\n",
       "      <td>22.5975</td>\n",
       "      <td>33.8400</td>\n",
       "      <td>32.39</td>\n",
       "      <td>5.850634</td>\n",
       "      <td>1015.0</td>\n",
       "      <td>57.0</td>\n",
       "      <td>11.968541</td>\n",
       "      <td>68</td>\n",
       "    </tr>\n",
       "    <tr>\n",
       "      <th>5.117610e+15</th>\n",
       "      <td>Light Cloud</td>\n",
       "      <td>lc</td>\n",
       "      <td>111.222444</td>\n",
       "      <td>2016-01-02T15:50:46.519900Z</td>\n",
       "      <td>1/2/2016</td>\n",
       "      <td>24.2150</td>\n",
       "      <td>33.9675</td>\n",
       "      <td>32.26</td>\n",
       "      <td>4.975470</td>\n",
       "      <td>1014.0</td>\n",
       "      <td>61.0</td>\n",
       "      <td>11.687371</td>\n",
       "      <td>70</td>\n",
       "    </tr>\n",
       "    <tr>\n",
       "      <th>5.845770e+15</th>\n",
       "      <td>Light Rain</td>\n",
       "      <td>lr</td>\n",
       "      <td>54.357487</td>\n",
       "      <td>2016-01-03T15:50:46.178120Z</td>\n",
       "      <td>1/3/2016</td>\n",
       "      <td>24.6425</td>\n",
       "      <td>33.0950</td>\n",
       "      <td>32.36</td>\n",
       "      <td>5.751001</td>\n",
       "      <td>1014.0</td>\n",
       "      <td>66.0</td>\n",
       "      <td>9.814558</td>\n",
       "      <td>75</td>\n",
       "    </tr>\n",
       "    <tr>\n",
       "      <th>4.887680e+15</th>\n",
       "      <td>Heavy Cloud</td>\n",
       "      <td>hc</td>\n",
       "      <td>105.343582</td>\n",
       "      <td>2016-01-04T15:50:46.861790Z</td>\n",
       "      <td>1/4/2016</td>\n",
       "      <td>24.6750</td>\n",
       "      <td>33.3150</td>\n",
       "      <td>32.92</td>\n",
       "      <td>8.274074</td>\n",
       "      <td>1014.0</td>\n",
       "      <td>63.0</td>\n",
       "      <td>11.006659</td>\n",
       "      <td>71</td>\n",
       "    </tr>\n",
       "    <tr>\n",
       "      <th>6.722350e+15</th>\n",
       "      <td>Light Cloud</td>\n",
       "      <td>lc</td>\n",
       "      <td>93.195824</td>\n",
       "      <td>2016-01-05T15:50:46.201860Z</td>\n",
       "      <td>1/5/2016</td>\n",
       "      <td>24.3425</td>\n",
       "      <td>33.3975</td>\n",
       "      <td>33.14</td>\n",
       "      <td>8.083090</td>\n",
       "      <td>1013.0</td>\n",
       "      <td>63.0</td>\n",
       "      <td>11.890248</td>\n",
       "      <td>70</td>\n",
       "    </tr>\n",
       "  </tbody>\n",
       "</table>\n",
       "</div>"
      ],
      "text/plain": [
       "               State Name State Abbreviation  Wind Direction  \\\n",
       "ID                                                             \n",
       "4.815610e+15        Clear                  c       24.918324   \n",
       "5.117610e+15  Light Cloud                 lc      111.222444   \n",
       "5.845770e+15   Light Rain                 lr       54.357487   \n",
       "4.887680e+15  Heavy Cloud                 hc      105.343582   \n",
       "6.722350e+15  Light Cloud                 lc       93.195824   \n",
       "\n",
       "                                  Created Applicable Date  Min Temp  Max Temp  \\\n",
       "ID                                                                              \n",
       "4.815610e+15  2016-01-01T15:50:46.783160Z        1/1/2016   22.5975   33.8400   \n",
       "5.117610e+15  2016-01-02T15:50:46.519900Z        1/2/2016   24.2150   33.9675   \n",
       "5.845770e+15  2016-01-03T15:50:46.178120Z        1/3/2016   24.6425   33.0950   \n",
       "4.887680e+15  2016-01-04T15:50:46.861790Z        1/4/2016   24.6750   33.3150   \n",
       "6.722350e+15  2016-01-05T15:50:46.201860Z        1/5/2016   24.3425   33.3975   \n",
       "\n",
       "              The Temp  Wind Speed  Air Pressure  Humidity  Visibility  \\\n",
       "ID                                                                       \n",
       "4.815610e+15     32.39    5.850634        1015.0      57.0   11.968541   \n",
       "5.117610e+15     32.26    4.975470        1014.0      61.0   11.687371   \n",
       "5.845770e+15     32.36    5.751001        1014.0      66.0    9.814558   \n",
       "4.887680e+15     32.92    8.274074        1014.0      63.0   11.006659   \n",
       "6.722350e+15     33.14    8.083090        1013.0      63.0   11.890248   \n",
       "\n",
       "              Predictability  \n",
       "ID                            \n",
       "4.815610e+15              68  \n",
       "5.117610e+15              70  \n",
       "5.845770e+15              75  \n",
       "4.887680e+15              71  \n",
       "6.722350e+15              70  "
      ]
     },
     "execution_count": 90,
     "metadata": {},
     "output_type": "execute_result"
    }
   ],
   "source": [
    "data_df = pd.read_csv('Data/train.csv', index_col = 0) # Cho cột index là cột 0 \n",
    "data_df.head()"
   ]
  },
  {
   "cell_type": "markdown",
   "metadata": {},
   "source": [
    "### Dữ liệu có bao nhiêu dòng và bao nhiêu cột?"
   ]
  },
  {
   "cell_type": "code",
   "execution_count": 91,
   "metadata": {},
   "outputs": [
    {
     "data": {
      "text/plain": [
       "(1022, 13)"
      ]
     },
     "execution_count": 91,
     "metadata": {},
     "output_type": "execute_result"
    }
   ],
   "source": [
    "# Kích thước của dữ liệu\n",
    "data_df.shape"
   ]
  },
  {
   "cell_type": "markdown",
   "metadata": {},
   "source": [
    "### Mỗi dòng có ý nghĩa gì? Có vấn đề các dòng có ý nghĩa khác nhau không?"
   ]
  },
  {
   "cell_type": "markdown",
   "metadata": {},
   "source": [
    "Quan sát bộ dữ liệu ta thấy mỗi dòng chứa thông tin thời tiết của mỗi ngày"
   ]
  },
  {
   "cell_type": "markdown",
   "metadata": {},
   "source": [
    "### Dữ liệu có các dòng bị lặp không?"
   ]
  },
  {
   "cell_type": "code",
   "execution_count": 92,
   "metadata": {},
   "outputs": [
    {
     "data": {
      "text/plain": [
       "3"
      ]
     },
     "execution_count": 92,
     "metadata": {},
     "output_type": "execute_result"
    }
   ],
   "source": [
    "# Kiểm tra dữ liệu thu thập được có bị trùng không\n",
    "data_df.index.duplicated().sum()"
   ]
  },
  {
   "cell_type": "markdown",
   "metadata": {},
   "source": [
    "### Mỗi cột có ý nghĩa gì?"
   ]
  },
  {
   "cell_type": "markdown",
   "metadata": {},
   "source": [
    "Xem file \"description.txt\""
   ]
  },
  {
   "cell_type": "code",
   "execution_count": 93,
   "metadata": {},
   "outputs": [
    {
     "name": "stdout",
     "output_type": "stream",
     "text": [
      "***** DESCRIPTION WEATHER *****\n",
      "Vị trí: Hồ Chí Minh City\n",
      "Thời tiết 4 năm (2016,2017,2018,2019)\n",
      "Predictability:\n",
      "+ 80: Thunder\n",
      "+ 77: Heavy Rain\n",
      "+ 75: Light Rain\n",
      "+ 73: Showers\n",
      "+ 71: Heavy Cloud\n",
      "+ 70: Light Cloud\n",
      "+ 68: Clear\n",
      "\n",
      "ID: id của mỗi ngày trong từng năm\n",
      "State Name: tên trạng thái của ngày (Clear,Light Cloud,...)\n",
      "State Abbreviation: viết tắt của trạng thái (c,lc,...)\n",
      "Wind Direction: Hướng gió\n",
      "Created: Thời gian cụ thể trong ngày\n",
      "Applicable Date: Ngày áp dụng\n",
      "Min Temp: Nhiệt độ tối thiểu\n",
      "Max Temp: Nhiệt đố tối đa\n",
      "The Temp: Nhiệt độ\n",
      "Wind Speed: Tốc độ của gió\n",
      "Air Pressure: Áp suất không khí\n",
      "Humidity: Độ ẩm\n",
      "Visibility: Khoảng cách nhìn thấy\n",
      "\n",
      "\n",
      "\n",
      "\n"
     ]
    }
   ],
   "source": [
    "with open('description.txt', 'r',encoding = 'utf-8') as f:\n",
    "    print(f.read())"
   ]
  },
  {
   "cell_type": "markdown",
   "metadata": {},
   "source": [
    "## Đưa ra câu hỏi cần trả lời"
   ]
  },
  {
   "cell_type": "markdown",
   "metadata": {},
   "source": [
    "Với bộ dữ liệu này thì cột output ta sẽ lấy là cột Predictability  \n",
    "Output - *(80,77,75,73,71,70,68)* ứng với thời tiết được tính từ input - *các chỉ số trong ngày* - được tính từ công thức nào ?   \n",
    "Tạm thời ta để input là các chỉ số trong ngày, ta sẽ xử lý các thuộc tính ở bước tiền xử lý  \n",
    "  \n",
    "\n",
    "Việc tìm ra câu trả lời sẽ giúp cho mọi người biết được thời tiết như thế nào để có thể chuẩn bị tốt cho một ngày (thực tế trong cuộc sống )  \n",
    "VD: Nếu biết trời mưa, khi đi ra ngoài ta sẽ cầm theo dù (ô), giúp cho các bác ngư dân tránh tại nạn ,..."
   ]
  },
  {
   "cell_type": "markdown",
   "metadata": {},
   "source": [
    "## Khám phá dữ liệu (để biết cách tách các tập)"
   ]
  },
  {
   "cell_type": "markdown",
   "metadata": {},
   "source": [
    "Để biết cách tách các tập thì ta cần khám phá thêm cột output một ít"
   ]
  },
  {
   "cell_type": "code",
   "execution_count": 94,
   "metadata": {},
   "outputs": [
    {
     "data": {
      "text/plain": [
       "dtype('int64')"
      ]
     },
     "execution_count": 94,
     "metadata": {},
     "output_type": "execute_result"
    }
   ],
   "source": [
    "# Cột output hiện có kiểu dữ liệu gì?\n",
    "data_df['Predictability'].dtype"
   ]
  },
  {
   "cell_type": "code",
   "execution_count": 95,
   "metadata": {},
   "outputs": [
    {
     "data": {
      "text/plain": [
       "0"
      ]
     },
     "execution_count": 95,
     "metadata": {},
     "output_type": "execute_result"
    }
   ],
   "source": [
    "# Cột output có giá trị thiếu không?\n",
    "data_df['Predictability'].isna().sum()"
   ]
  },
  {
   "cell_type": "code",
   "execution_count": 96,
   "metadata": {},
   "outputs": [
    {
     "data": {
      "text/plain": [
       "77    34.148728\n",
       "75    27.592955\n",
       "70    14.285714\n",
       "71    12.524462\n",
       "73     9.589041\n",
       "80     1.369863\n",
       "68     0.489237\n",
       "Name: Predictability, dtype: float64"
      ]
     },
     "execution_count": 96,
     "metadata": {},
     "output_type": "execute_result"
    }
   ],
   "source": [
    "# Tỉ lệ các lớp trong cột output?\n",
    "data_df['Predictability'].value_counts(normalize=True) * 100"
   ]
  },
  {
   "cell_type": "markdown",
   "metadata": {},
   "source": [
    "Ok, như vậy không có vấn đề gì cả"
   ]
  },
  {
   "cell_type": "markdown",
   "metadata": {},
   "source": [
    "## Tiền xử lý (tách các tập)"
   ]
  },
  {
   "cell_type": "markdown",
   "metadata": {},
   "source": [
    "Bây giờ ta sẽ thực hiện bước tiền xử lý là tách tập validation"
   ]
  },
  {
   "cell_type": "code",
   "execution_count": 97,
   "metadata": {},
   "outputs": [],
   "source": [
    "# Tách X và y\n",
    "y_sr = data_df[\"Predictability\"] # sr là viết tắt của series\n",
    "X_df = data_df.drop(\"Predictability\", axis=1)"
   ]
  },
  {
   "cell_type": "code",
   "execution_count": 103,
   "metadata": {},
   "outputs": [],
   "source": [
    "# Tách tập huấn luyện và tập validation theo tỉ lệ 70%:30%\n",
    "train_X_df, val_X_df, train_y_sr, val_y_sr = train_test_split(X_df, y_sr, test_size=0.3, \n",
    "                                                              stratify=y_sr, random_state=0)"
   ]
  },
  {
   "cell_type": "code",
   "execution_count": 99,
   "metadata": {},
   "outputs": [
    {
     "data": {
      "text/plain": [
       "(715, 12)"
      ]
     },
     "execution_count": 99,
     "metadata": {},
     "output_type": "execute_result"
    }
   ],
   "source": [
    "train_X_df.shape"
   ]
  },
  {
   "cell_type": "code",
   "execution_count": 62,
   "metadata": {},
   "outputs": [
    {
     "data": {
      "text/plain": [
       "(715,)"
      ]
     },
     "execution_count": 62,
     "metadata": {},
     "output_type": "execute_result"
    }
   ],
   "source": [
    "train_y_sr.shape"
   ]
  },
  {
   "cell_type": "code",
   "execution_count": 63,
   "metadata": {},
   "outputs": [
    {
     "data": {
      "text/plain": [
       "(307, 12)"
      ]
     },
     "execution_count": 63,
     "metadata": {},
     "output_type": "execute_result"
    }
   ],
   "source": [
    "val_X_df.shape"
   ]
  },
  {
   "cell_type": "code",
   "execution_count": 64,
   "metadata": {},
   "outputs": [
    {
     "data": {
      "text/plain": [
       "(307,)"
      ]
     },
     "execution_count": 64,
     "metadata": {},
     "output_type": "execute_result"
    }
   ],
   "source": [
    "val_y_sr.shape"
   ]
  },
  {
   "cell_type": "code",
   "execution_count": 65,
   "metadata": {},
   "outputs": [
    {
     "data": {
      "text/plain": [
       "Float64Index([5172400000000000.0, 6220460000000000.0, 6174120000000000.0,\n",
       "              5816520000000000.0, 5498080000000000.0],\n",
       "             dtype='float64', name='ID')"
      ]
     },
     "execution_count": 65,
     "metadata": {},
     "output_type": "execute_result"
    }
   ],
   "source": [
    "train_X_df.head().index"
   ]
  },
  {
   "cell_type": "markdown",
   "metadata": {},
   "source": [
    "## Khám phá dữ liệu (tập huấn luyện)"
   ]
  },
  {
   "cell_type": "markdown",
   "metadata": {},
   "source": [
    "### Mỗi cột input hiện đang có kiểu dữ liệu gì? Có cột nào có kiểu dữ liệu chưa phù hợp để có thể xử lý tiếp không?"
   ]
  },
  {
   "cell_type": "code",
   "execution_count": 66,
   "metadata": {},
   "outputs": [
    {
     "data": {
      "text/plain": [
       "State Name             object\n",
       "State Abbreviation     object\n",
       "Wind Direction        float64\n",
       "Created                object\n",
       "Applicable Date        object\n",
       "Min Temp              float64\n",
       "Max Temp              float64\n",
       "The Temp              float64\n",
       "Wind Speed            float64\n",
       "Air Pressure          float64\n",
       "Humidity              float64\n",
       "Visibility            float64\n",
       "dtype: object"
      ]
     },
     "execution_count": 66,
     "metadata": {},
     "output_type": "execute_result"
    }
   ],
   "source": [
    "train_X_df.dtypes"
   ]
  },
  {
   "cell_type": "markdown",
   "metadata": {},
   "source": [
    "### Với mỗi cột input có kiểu dữ liệu dạng số, các giá trị được phân bố như thế nào?"
   ]
  },
  {
   "cell_type": "code",
   "execution_count": 67,
   "metadata": {
    "scrolled": true
   },
   "outputs": [
    {
     "data": {
      "text/plain": [
       "Wind Direction    float64\n",
       "Min Temp          float64\n",
       "Max Temp          float64\n",
       "The Temp          float64\n",
       "Wind Speed        float64\n",
       "Air Pressure      float64\n",
       "Humidity          float64\n",
       "Visibility        float64\n",
       "dtype: object"
      ]
     },
     "execution_count": 67,
     "metadata": {},
     "output_type": "execute_result"
    }
   ],
   "source": [
    "train_X_df.dtypes[train_X_df.dtypes != object]"
   ]
  },
  {
   "cell_type": "code",
   "execution_count": 68,
   "metadata": {
    "scrolled": true
   },
   "outputs": [
    {
     "data": {
      "text/html": [
       "<div>\n",
       "<style scoped>\n",
       "    .dataframe tbody tr th:only-of-type {\n",
       "        vertical-align: middle;\n",
       "    }\n",
       "\n",
       "    .dataframe tbody tr th {\n",
       "        vertical-align: top;\n",
       "    }\n",
       "\n",
       "    .dataframe thead th {\n",
       "        text-align: right;\n",
       "    }\n",
       "</style>\n",
       "<table border=\"1\" class=\"dataframe\">\n",
       "  <thead>\n",
       "    <tr style=\"text-align: right;\">\n",
       "      <th></th>\n",
       "      <th>Wind Direction</th>\n",
       "      <th>Min Temp</th>\n",
       "      <th>Max Temp</th>\n",
       "      <th>The Temp</th>\n",
       "      <th>Wind Speed</th>\n",
       "      <th>Air Pressure</th>\n",
       "      <th>Humidity</th>\n",
       "      <th>Visibility</th>\n",
       "    </tr>\n",
       "  </thead>\n",
       "  <tbody>\n",
       "    <tr>\n",
       "      <th>missing_ratio</th>\n",
       "      <td>0.000000</td>\n",
       "      <td>0.000000</td>\n",
       "      <td>0.000</td>\n",
       "      <td>0.00</td>\n",
       "      <td>0.000000</td>\n",
       "      <td>0.000</td>\n",
       "      <td>0.0</td>\n",
       "      <td>0.000000</td>\n",
       "    </tr>\n",
       "    <tr>\n",
       "      <th>min</th>\n",
       "      <td>1.943751</td>\n",
       "      <td>19.472500</td>\n",
       "      <td>25.398</td>\n",
       "      <td>24.77</td>\n",
       "      <td>1.342581</td>\n",
       "      <td>996.445</td>\n",
       "      <td>46.0</td>\n",
       "      <td>3.564496</td>\n",
       "    </tr>\n",
       "    <tr>\n",
       "      <th>lower_quartile</th>\n",
       "      <td>112.000000</td>\n",
       "      <td>24.100000</td>\n",
       "      <td>30.000</td>\n",
       "      <td>28.60</td>\n",
       "      <td>3.600000</td>\n",
       "      <td>1012.100</td>\n",
       "      <td>65.0</td>\n",
       "      <td>7.500000</td>\n",
       "    </tr>\n",
       "    <tr>\n",
       "      <th>median</th>\n",
       "      <td>169.900000</td>\n",
       "      <td>24.800000</td>\n",
       "      <td>31.000</td>\n",
       "      <td>29.80</td>\n",
       "      <td>5.100000</td>\n",
       "      <td>1013.600</td>\n",
       "      <td>77.0</td>\n",
       "      <td>9.700000</td>\n",
       "    </tr>\n",
       "    <tr>\n",
       "      <th>upper_quartile</th>\n",
       "      <td>241.000000</td>\n",
       "      <td>25.700000</td>\n",
       "      <td>32.700</td>\n",
       "      <td>31.50</td>\n",
       "      <td>7.200000</td>\n",
       "      <td>1015.000</td>\n",
       "      <td>83.0</td>\n",
       "      <td>11.500000</td>\n",
       "    </tr>\n",
       "    <tr>\n",
       "      <th>max</th>\n",
       "      <td>359.171590</td>\n",
       "      <td>28.203333</td>\n",
       "      <td>37.820</td>\n",
       "      <td>36.66</td>\n",
       "      <td>13.850926</td>\n",
       "      <td>1020.510</td>\n",
       "      <td>96.0</td>\n",
       "      <td>18.473366</td>\n",
       "    </tr>\n",
       "  </tbody>\n",
       "</table>\n",
       "</div>"
      ],
      "text/plain": [
       "                Wind Direction   Min Temp  Max Temp  The Temp  Wind Speed  \\\n",
       "missing_ratio         0.000000   0.000000     0.000      0.00    0.000000   \n",
       "min                   1.943751  19.472500    25.398     24.77    1.342581   \n",
       "lower_quartile      112.000000  24.100000    30.000     28.60    3.600000   \n",
       "median              169.900000  24.800000    31.000     29.80    5.100000   \n",
       "upper_quartile      241.000000  25.700000    32.700     31.50    7.200000   \n",
       "max                 359.171590  28.203333    37.820     36.66   13.850926   \n",
       "\n",
       "                Air Pressure  Humidity  Visibility  \n",
       "missing_ratio          0.000       0.0    0.000000  \n",
       "min                  996.445      46.0    3.564496  \n",
       "lower_quartile      1012.100      65.0    7.500000  \n",
       "median              1013.600      77.0    9.700000  \n",
       "upper_quartile      1015.000      83.0   11.500000  \n",
       "max                 1020.510      96.0   18.473366  "
      ]
     },
     "execution_count": 68,
     "metadata": {},
     "output_type": "execute_result"
    }
   ],
   "source": [
    "num_cols = ['Wind Direction','Min Temp','Max Temp','The Temp','Wind Speed','Air Pressure','Humidity','Visibility']\n",
    "df = train_X_df[num_cols]\n",
    "def missing_ratio(df):\n",
    "    return (df.isna().mean() * 100).round(1)\n",
    "def lower_quartile(df):\n",
    "    return df.quantile(0.25).round(1)\n",
    "def median(df):\n",
    "    return df.quantile(0.5).round(1)\n",
    "def upper_quartile(df):\n",
    "    return df.quantile(0.75).round(1)\n",
    "df.agg([missing_ratio, 'min', lower_quartile, median, upper_quartile, 'max'])"
   ]
  },
  {
   "cell_type": "markdown",
   "metadata": {},
   "source": [
    "Theo như bảng ở trên, ta thấy không có thuôc tính (dạng số) bị thiếu dữ liệu"
   ]
  },
  {
   "cell_type": "markdown",
   "metadata": {},
   "source": [
    "### Với mỗi cột input có kiểu dữ liệu không phải dạng số, các giá trị được phân bố như thế nào?"
   ]
  },
  {
   "cell_type": "code",
   "execution_count": 69,
   "metadata": {},
   "outputs": [
    {
     "data": {
      "text/html": [
       "<div>\n",
       "<style scoped>\n",
       "    .dataframe tbody tr th:only-of-type {\n",
       "        vertical-align: middle;\n",
       "    }\n",
       "\n",
       "    .dataframe tbody tr th {\n",
       "        vertical-align: top;\n",
       "    }\n",
       "\n",
       "    .dataframe thead th {\n",
       "        text-align: right;\n",
       "    }\n",
       "</style>\n",
       "<table border=\"1\" class=\"dataframe\">\n",
       "  <thead>\n",
       "    <tr style=\"text-align: right;\">\n",
       "      <th></th>\n",
       "      <th>State Abbreviation</th>\n",
       "      <th>Created</th>\n",
       "      <th>Applicable Date</th>\n",
       "      <th>State Name</th>\n",
       "    </tr>\n",
       "  </thead>\n",
       "  <tbody>\n",
       "    <tr>\n",
       "      <th>missing_ratio</th>\n",
       "      <td>0</td>\n",
       "      <td>0</td>\n",
       "      <td>0</td>\n",
       "      <td>0</td>\n",
       "    </tr>\n",
       "    <tr>\n",
       "      <th>num_values</th>\n",
       "      <td>7</td>\n",
       "      <td>715</td>\n",
       "      <td>715</td>\n",
       "      <td>7</td>\n",
       "    </tr>\n",
       "    <tr>\n",
       "      <th>value_ratios</th>\n",
       "      <td>{'hr': 34.1, 'lr': 27.6, 'lc': 14.3, 'hc': 12.6, 's': 9.7, 't': 1.4, 'c': 0.4}</td>\n",
       "      <td>{'2016-02-16T17:25:47.921170Z': 0.1, '2016-12-22T17:14:55.583400Z': 0.1, '2016-11-13T17:08:47.958540Z': 0.1, '2017-10-10T14:59:46.488800Z': 0.1, '2016-06-01T15:38:47.669160Z': 0.1, '2017-06-22T14:...</td>\n",
       "      <td>{'9/7/2017': 0.1, '11/16/2017': 0.1, '12/29/2017': 0.1, '4/13/2018': 0.1, '9/29/2018': 0.1, '6/19/2018': 0.1, '3/22/2017': 0.1, '1/19/2018': 0.1, '7/22/2018': 0.1, '2/25/2017': 0.1, '8/7/2017': 0....</td>\n",
       "      <td>{'Heavy Rain': 34.1, 'Light Rain': 27.6, 'Light Cloud': 14.3, 'Heavy Cloud': 12.6, 'Showers': 9.7, 'Thunder': 1.4, 'Clear': 0.4}</td>\n",
       "    </tr>\n",
       "  </tbody>\n",
       "</table>\n",
       "</div>"
      ],
      "text/plain": [
       "                                                                           State Abbreviation  \\\n",
       "missing_ratio                                                                               0   \n",
       "num_values                                                                                  7   \n",
       "value_ratios   {'hr': 34.1, 'lr': 27.6, 'lc': 14.3, 'hc': 12.6, 's': 9.7, 't': 1.4, 'c': 0.4}   \n",
       "\n",
       "                                                                                                                                                                                                               Created  \\\n",
       "missing_ratio                                                                                                                                                                                                        0   \n",
       "num_values                                                                                                                                                                                                         715   \n",
       "value_ratios   {'2016-02-16T17:25:47.921170Z': 0.1, '2016-12-22T17:14:55.583400Z': 0.1, '2016-11-13T17:08:47.958540Z': 0.1, '2017-10-10T14:59:46.488800Z': 0.1, '2016-06-01T15:38:47.669160Z': 0.1, '2017-06-22T14:...   \n",
       "\n",
       "                                                                                                                                                                                                       Applicable Date  \\\n",
       "missing_ratio                                                                                                                                                                                                        0   \n",
       "num_values                                                                                                                                                                                                         715   \n",
       "value_ratios   {'9/7/2017': 0.1, '11/16/2017': 0.1, '12/29/2017': 0.1, '4/13/2018': 0.1, '9/29/2018': 0.1, '6/19/2018': 0.1, '3/22/2017': 0.1, '1/19/2018': 0.1, '7/22/2018': 0.1, '2/25/2017': 0.1, '8/7/2017': 0....   \n",
       "\n",
       "                                                                                                                                     State Name  \n",
       "missing_ratio                                                                                                                                 0  \n",
       "num_values                                                                                                                                    7  \n",
       "value_ratios   {'Heavy Rain': 34.1, 'Light Rain': 27.6, 'Light Cloud': 14.3, 'Heavy Cloud': 12.6, 'Showers': 9.7, 'Thunder': 1.4, 'Clear': 0.4}  "
      ]
     },
     "execution_count": 69,
     "metadata": {},
     "output_type": "execute_result"
    }
   ],
   "source": [
    "pd.set_option('display.max_colwidth', 200) # Để nhìn rõ hơn\n",
    "cat_cols = list(set(train_X_df.columns) - set(num_cols))\n",
    "df = train_X_df[cat_cols]\n",
    "def missing_ratio(df):\n",
    "    return (df.isna().mean() * 100).round(1)\n",
    "def num_values(df):\n",
    "    return df.nunique()\n",
    "def value_ratios(c):\n",
    "    return dict((c.value_counts(normalize=True) * 100).round(1))\n",
    "df.agg([missing_ratio, num_values, value_ratios])"
   ]
  },
  {
   "cell_type": "markdown",
   "metadata": {},
   "source": [
    "Tương tự như thuộc tính không phải dạng số (categorical) cũng không bị thiếu dữ liệu"
   ]
  },
  {
   "cell_type": "markdown",
   "metadata": {},
   "source": [
    "## Tiền xử lý (tập huấn luyện) "
   ]
  },
  {
   "cell_type": "markdown",
   "metadata": {},
   "source": [
    "Đầu tiên ta sẽ bỏ một số cột sau:  \n",
    "- Bỏ cột 'ID' , thay vào đó ta sẽ để cột 'Applicable Date' làm cột index  \n",
    "- Bỏ cột 'State Name' và cột 'State Abbreviation' vì đây là 2 cột tương tự giống với cột output  \n",
    "- Bỏ cột 'Created' vì cột này không có nhiều tác dụng trong việc đánh giá mô hình"
   ]
  },
  {
   "cell_type": "code",
   "execution_count": 104,
   "metadata": {},
   "outputs": [],
   "source": [
    "class ColDropper(BaseEstimator, TransformerMixin):\n",
    "    def fit(self, X_df, y=None):\n",
    "        return self\n",
    "    def transform(self, X_df, y=None):\n",
    "        # YOUR CODE HERE\n",
    "        df_transform = X_df.copy()\n",
    "        df_transform.set_index('Applicable Date',inplace = True)\n",
    "        df_transform.drop(['State Name','State Abbreviation','Created'],axis = 1,inplace = True)\n",
    "        return df_transform"
   ]
  },
  {
   "cell_type": "code",
   "execution_count": 105,
   "metadata": {
    "scrolled": true
   },
   "outputs": [
    {
     "data": {
      "text/html": [
       "<div>\n",
       "<style scoped>\n",
       "    .dataframe tbody tr th:only-of-type {\n",
       "        vertical-align: middle;\n",
       "    }\n",
       "\n",
       "    .dataframe tbody tr th {\n",
       "        vertical-align: top;\n",
       "    }\n",
       "\n",
       "    .dataframe thead th {\n",
       "        text-align: right;\n",
       "    }\n",
       "</style>\n",
       "<table border=\"1\" class=\"dataframe\">\n",
       "  <thead>\n",
       "    <tr style=\"text-align: right;\">\n",
       "      <th></th>\n",
       "      <th>Wind Direction</th>\n",
       "      <th>Min Temp</th>\n",
       "      <th>Max Temp</th>\n",
       "      <th>The Temp</th>\n",
       "      <th>Wind Speed</th>\n",
       "      <th>Air Pressure</th>\n",
       "      <th>Humidity</th>\n",
       "      <th>Visibility</th>\n",
       "    </tr>\n",
       "    <tr>\n",
       "      <th>Applicable Date</th>\n",
       "      <th></th>\n",
       "      <th></th>\n",
       "      <th></th>\n",
       "      <th></th>\n",
       "      <th></th>\n",
       "      <th></th>\n",
       "      <th></th>\n",
       "      <th></th>\n",
       "    </tr>\n",
       "  </thead>\n",
       "  <tbody>\n",
       "    <tr>\n",
       "      <th>10/14/2018</th>\n",
       "      <td>104.964330</td>\n",
       "      <td>25.770000</td>\n",
       "      <td>30.353333</td>\n",
       "      <td>29.710</td>\n",
       "      <td>2.323313</td>\n",
       "      <td>1016.820</td>\n",
       "      <td>82.0</td>\n",
       "      <td>11.004484</td>\n",
       "    </tr>\n",
       "    <tr>\n",
       "      <th>4/14/2017</th>\n",
       "      <td>121.265912</td>\n",
       "      <td>25.108000</td>\n",
       "      <td>35.202000</td>\n",
       "      <td>32.270</td>\n",
       "      <td>6.920914</td>\n",
       "      <td>1015.250</td>\n",
       "      <td>53.0</td>\n",
       "      <td>12.604825</td>\n",
       "    </tr>\n",
       "    <tr>\n",
       "      <th>1/6/2016</th>\n",
       "      <td>97.178108</td>\n",
       "      <td>24.080000</td>\n",
       "      <td>33.957500</td>\n",
       "      <td>33.790</td>\n",
       "      <td>8.236321</td>\n",
       "      <td>1013.000</td>\n",
       "      <td>60.0</td>\n",
       "      <td>11.473308</td>\n",
       "    </tr>\n",
       "    <tr>\n",
       "      <th>10/16/2018</th>\n",
       "      <td>140.668908</td>\n",
       "      <td>25.893333</td>\n",
       "      <td>30.353333</td>\n",
       "      <td>29.690</td>\n",
       "      <td>4.651437</td>\n",
       "      <td>1016.610</td>\n",
       "      <td>79.0</td>\n",
       "      <td>6.856210</td>\n",
       "    </tr>\n",
       "    <tr>\n",
       "      <th>8/31/2017</th>\n",
       "      <td>226.249291</td>\n",
       "      <td>25.962500</td>\n",
       "      <td>31.495000</td>\n",
       "      <td>30.610</td>\n",
       "      <td>3.278653</td>\n",
       "      <td>1014.230</td>\n",
       "      <td>81.0</td>\n",
       "      <td>11.418938</td>\n",
       "    </tr>\n",
       "    <tr>\n",
       "      <th>...</th>\n",
       "      <td>...</td>\n",
       "      <td>...</td>\n",
       "      <td>...</td>\n",
       "      <td>...</td>\n",
       "      <td>...</td>\n",
       "      <td>...</td>\n",
       "      <td>...</td>\n",
       "      <td>...</td>\n",
       "    </tr>\n",
       "    <tr>\n",
       "      <th>1/19/2018</th>\n",
       "      <td>210.581340</td>\n",
       "      <td>23.210000</td>\n",
       "      <td>28.027500</td>\n",
       "      <td>27.685</td>\n",
       "      <td>2.375434</td>\n",
       "      <td>1014.190</td>\n",
       "      <td>84.0</td>\n",
       "      <td>7.785781</td>\n",
       "    </tr>\n",
       "    <tr>\n",
       "      <th>5/30/2017</th>\n",
       "      <td>204.466575</td>\n",
       "      <td>25.798000</td>\n",
       "      <td>31.298000</td>\n",
       "      <td>29.120</td>\n",
       "      <td>3.319812</td>\n",
       "      <td>1014.005</td>\n",
       "      <td>83.0</td>\n",
       "      <td>10.409832</td>\n",
       "    </tr>\n",
       "    <tr>\n",
       "      <th>9/28/2016</th>\n",
       "      <td>243.753547</td>\n",
       "      <td>25.010000</td>\n",
       "      <td>29.802500</td>\n",
       "      <td>27.815</td>\n",
       "      <td>4.881548</td>\n",
       "      <td>1012.350</td>\n",
       "      <td>85.0</td>\n",
       "      <td>9.683759</td>\n",
       "    </tr>\n",
       "    <tr>\n",
       "      <th>4/23/2017</th>\n",
       "      <td>151.532013</td>\n",
       "      <td>26.320000</td>\n",
       "      <td>33.204000</td>\n",
       "      <td>30.570</td>\n",
       "      <td>5.523076</td>\n",
       "      <td>1014.115</td>\n",
       "      <td>74.0</td>\n",
       "      <td>6.557952</td>\n",
       "    </tr>\n",
       "    <tr>\n",
       "      <th>6/13/2016</th>\n",
       "      <td>235.757164</td>\n",
       "      <td>25.635000</td>\n",
       "      <td>31.797500</td>\n",
       "      <td>29.235</td>\n",
       "      <td>7.070990</td>\n",
       "      <td>1013.285</td>\n",
       "      <td>80.0</td>\n",
       "      <td>5.142157</td>\n",
       "    </tr>\n",
       "  </tbody>\n",
       "</table>\n",
       "<p>715 rows × 8 columns</p>\n",
       "</div>"
      ],
      "text/plain": [
       "                 Wind Direction   Min Temp   Max Temp  The Temp  Wind Speed  \\\n",
       "Applicable Date                                                               \n",
       "10/14/2018           104.964330  25.770000  30.353333    29.710    2.323313   \n",
       "4/14/2017            121.265912  25.108000  35.202000    32.270    6.920914   \n",
       "1/6/2016              97.178108  24.080000  33.957500    33.790    8.236321   \n",
       "10/16/2018           140.668908  25.893333  30.353333    29.690    4.651437   \n",
       "8/31/2017            226.249291  25.962500  31.495000    30.610    3.278653   \n",
       "...                         ...        ...        ...       ...         ...   \n",
       "1/19/2018            210.581340  23.210000  28.027500    27.685    2.375434   \n",
       "5/30/2017            204.466575  25.798000  31.298000    29.120    3.319812   \n",
       "9/28/2016            243.753547  25.010000  29.802500    27.815    4.881548   \n",
       "4/23/2017            151.532013  26.320000  33.204000    30.570    5.523076   \n",
       "6/13/2016            235.757164  25.635000  31.797500    29.235    7.070990   \n",
       "\n",
       "                 Air Pressure  Humidity  Visibility  \n",
       "Applicable Date                                      \n",
       "10/14/2018           1016.820      82.0   11.004484  \n",
       "4/14/2017            1015.250      53.0   12.604825  \n",
       "1/6/2016             1013.000      60.0   11.473308  \n",
       "10/16/2018           1016.610      79.0    6.856210  \n",
       "8/31/2017            1014.230      81.0   11.418938  \n",
       "...                       ...       ...         ...  \n",
       "1/19/2018            1014.190      84.0    7.785781  \n",
       "5/30/2017            1014.005      83.0   10.409832  \n",
       "9/28/2016            1012.350      85.0    9.683759  \n",
       "4/23/2017            1014.115      74.0    6.557952  \n",
       "6/13/2016            1013.285      80.0    5.142157  \n",
       "\n",
       "[715 rows x 8 columns]"
      ]
     },
     "execution_count": 105,
     "metadata": {},
     "output_type": "execute_result"
    }
   ],
   "source": [
    "col_dropper = ColDropper()\n",
    "col_dropper.fit(train_X_df)\n",
    "col_dropper.transform(train_X_df)"
   ]
  },
  {
   "cell_type": "markdown",
   "metadata": {},
   "source": [
    "Như ta thấy ở trên thì toàn bộ thuộc tính chỉ còn lại thuộc tính dạng số (numerical): 'Wind Direction', 'Min Temp', 'Max Temp', 'The Temp', 'Wind Speed', 'Air Pressure', 'Humidity', 'Visibility'  \n",
    "Mặc dù không có dữ liệu bị thiếu trên các thuộc tính dạng kiểu số nhưng ta cũng cần phải ta đều cần tính mean, vì ta không biết được cột nào sẽ bị thiếu giá trị khi dự đoán với các véc-tơ input mới."
   ]
  },
  {
   "cell_type": "code",
   "execution_count": null,
   "metadata": {},
   "outputs": [],
   "source": []
  }
 ],
 "metadata": {
  "kernelspec": {
   "display_name": "Python 3",
   "language": "python",
   "name": "python3"
  },
  "language_info": {
   "codemirror_mode": {
    "name": "ipython",
    "version": 3
   },
   "file_extension": ".py",
   "mimetype": "text/x-python",
   "name": "python",
   "nbconvert_exporter": "python",
   "pygments_lexer": "ipython3",
   "version": "3.8.3"
  },
  "toc": {
   "base_numbering": 1,
   "nav_menu": {},
   "number_sections": true,
   "sideBar": true,
   "skip_h1_title": false,
   "title_cell": "Table of Contents",
   "title_sidebar": "Contents",
   "toc_cell": false,
   "toc_position": {},
   "toc_section_display": true,
   "toc_window_display": false
  }
 },
 "nbformat": 4,
 "nbformat_minor": 4
}
