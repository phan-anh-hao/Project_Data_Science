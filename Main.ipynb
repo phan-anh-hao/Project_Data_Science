{
 "cells": [
  {
   "cell_type": "markdown",
   "metadata": {},
   "source": [
    "## Import"
   ]
  },
  {
   "cell_type": "code",
   "execution_count": 1,
   "metadata": {},
   "outputs": [],
   "source": [
    "import numpy as np\n",
    "import pandas as pd\n",
    "import matplotlib.pyplot as plt\n",
    "import sklearn \n",
    "\n",
    "from sklearn.base import BaseEstimator, TransformerMixin\n",
    "from sklearn.impute import SimpleImputer\n",
    "from sklearn.pipeline import Pipeline, make_pipeline\n",
    "from sklearn.preprocessing import OneHotEncoder, StandardScaler\n",
    "from sklearn.neural_network import MLPClassifier\n",
    "from sklearn.model_selection import train_test_split\n",
    "from sklearn.ensemble import AdaBoostClassifier\n",
    "\n",
    "import seaborn as sns \n",
    "from sklearn.metrics import accuracy_score"
   ]
  },
  {
   "cell_type": "markdown",
   "metadata": {},
   "source": [
    "## Khám phá dữ liệu"
   ]
  },
  {
   "cell_type": "code",
   "execution_count": 2,
   "metadata": {},
   "outputs": [
    {
     "data": {
      "text/html": [
       "<div>\n",
       "<style scoped>\n",
       "    .dataframe tbody tr th:only-of-type {\n",
       "        vertical-align: middle;\n",
       "    }\n",
       "\n",
       "    .dataframe tbody tr th {\n",
       "        vertical-align: top;\n",
       "    }\n",
       "\n",
       "    .dataframe thead th {\n",
       "        text-align: right;\n",
       "    }\n",
       "</style>\n",
       "<table border=\"1\" class=\"dataframe\">\n",
       "  <thead>\n",
       "    <tr style=\"text-align: right;\">\n",
       "      <th></th>\n",
       "      <th>State Name</th>\n",
       "      <th>State Abbreviation</th>\n",
       "      <th>Wind Direction</th>\n",
       "      <th>Created</th>\n",
       "      <th>Applicable Date</th>\n",
       "      <th>Min Temp</th>\n",
       "      <th>Max Temp</th>\n",
       "      <th>The Temp</th>\n",
       "      <th>Wind Speed</th>\n",
       "      <th>Air Pressure</th>\n",
       "      <th>Humidity</th>\n",
       "      <th>Visibility</th>\n",
       "      <th>Predictability</th>\n",
       "    </tr>\n",
       "    <tr>\n",
       "      <th>ID</th>\n",
       "      <th></th>\n",
       "      <th></th>\n",
       "      <th></th>\n",
       "      <th></th>\n",
       "      <th></th>\n",
       "      <th></th>\n",
       "      <th></th>\n",
       "      <th></th>\n",
       "      <th></th>\n",
       "      <th></th>\n",
       "      <th></th>\n",
       "      <th></th>\n",
       "      <th></th>\n",
       "    </tr>\n",
       "  </thead>\n",
       "  <tbody>\n",
       "    <tr>\n",
       "      <th>4815613784489984</th>\n",
       "      <td>Clear</td>\n",
       "      <td>c</td>\n",
       "      <td>24.918324</td>\n",
       "      <td>2016-01-01T15:50:46.783160Z</td>\n",
       "      <td>2016-01-01</td>\n",
       "      <td>22.5975</td>\n",
       "      <td>33.8400</td>\n",
       "      <td>32.39</td>\n",
       "      <td>5.850634</td>\n",
       "      <td>1015.0</td>\n",
       "      <td>57.0</td>\n",
       "      <td>11.968541</td>\n",
       "      <td>68</td>\n",
       "    </tr>\n",
       "    <tr>\n",
       "      <th>5117614409908224</th>\n",
       "      <td>Light Cloud</td>\n",
       "      <td>lc</td>\n",
       "      <td>111.222444</td>\n",
       "      <td>2016-01-02T15:50:46.519900Z</td>\n",
       "      <td>2016-01-02</td>\n",
       "      <td>24.2150</td>\n",
       "      <td>33.9675</td>\n",
       "      <td>32.26</td>\n",
       "      <td>4.975470</td>\n",
       "      <td>1014.0</td>\n",
       "      <td>61.0</td>\n",
       "      <td>11.687371</td>\n",
       "      <td>70</td>\n",
       "    </tr>\n",
       "    <tr>\n",
       "      <th>5845769609281536</th>\n",
       "      <td>Light Rain</td>\n",
       "      <td>lr</td>\n",
       "      <td>54.357487</td>\n",
       "      <td>2016-01-03T15:50:46.178120Z</td>\n",
       "      <td>2016-01-03</td>\n",
       "      <td>24.6425</td>\n",
       "      <td>33.0950</td>\n",
       "      <td>32.36</td>\n",
       "      <td>5.751001</td>\n",
       "      <td>1014.0</td>\n",
       "      <td>66.0</td>\n",
       "      <td>9.814558</td>\n",
       "      <td>75</td>\n",
       "    </tr>\n",
       "    <tr>\n",
       "      <th>4887679040749568</th>\n",
       "      <td>Heavy Cloud</td>\n",
       "      <td>hc</td>\n",
       "      <td>105.343582</td>\n",
       "      <td>2016-01-04T15:50:46.861790Z</td>\n",
       "      <td>2016-01-04</td>\n",
       "      <td>24.6750</td>\n",
       "      <td>33.3150</td>\n",
       "      <td>32.92</td>\n",
       "      <td>8.274074</td>\n",
       "      <td>1014.0</td>\n",
       "      <td>63.0</td>\n",
       "      <td>11.006659</td>\n",
       "      <td>71</td>\n",
       "    </tr>\n",
       "    <tr>\n",
       "      <th>6722346127720448</th>\n",
       "      <td>Light Cloud</td>\n",
       "      <td>lc</td>\n",
       "      <td>93.195824</td>\n",
       "      <td>2016-01-05T15:50:46.201860Z</td>\n",
       "      <td>2016-01-05</td>\n",
       "      <td>24.3425</td>\n",
       "      <td>33.3975</td>\n",
       "      <td>33.14</td>\n",
       "      <td>8.083090</td>\n",
       "      <td>1013.0</td>\n",
       "      <td>63.0</td>\n",
       "      <td>11.890248</td>\n",
       "      <td>70</td>\n",
       "    </tr>\n",
       "  </tbody>\n",
       "</table>\n",
       "</div>"
      ],
      "text/plain": [
       "                   State Name State Abbreviation  Wind Direction  \\\n",
       "ID                                                                 \n",
       "4815613784489984        Clear                  c       24.918324   \n",
       "5117614409908224  Light Cloud                 lc      111.222444   \n",
       "5845769609281536   Light Rain                 lr       54.357487   \n",
       "4887679040749568  Heavy Cloud                 hc      105.343582   \n",
       "6722346127720448  Light Cloud                 lc       93.195824   \n",
       "\n",
       "                                      Created Applicable Date  Min Temp  \\\n",
       "ID                                                                        \n",
       "4815613784489984  2016-01-01T15:50:46.783160Z      2016-01-01   22.5975   \n",
       "5117614409908224  2016-01-02T15:50:46.519900Z      2016-01-02   24.2150   \n",
       "5845769609281536  2016-01-03T15:50:46.178120Z      2016-01-03   24.6425   \n",
       "4887679040749568  2016-01-04T15:50:46.861790Z      2016-01-04   24.6750   \n",
       "6722346127720448  2016-01-05T15:50:46.201860Z      2016-01-05   24.3425   \n",
       "\n",
       "                  Max Temp  The Temp  Wind Speed  Air Pressure  Humidity  \\\n",
       "ID                                                                         \n",
       "4815613784489984   33.8400     32.39    5.850634        1015.0      57.0   \n",
       "5117614409908224   33.9675     32.26    4.975470        1014.0      61.0   \n",
       "5845769609281536   33.0950     32.36    5.751001        1014.0      66.0   \n",
       "4887679040749568   33.3150     32.92    8.274074        1014.0      63.0   \n",
       "6722346127720448   33.3975     33.14    8.083090        1013.0      63.0   \n",
       "\n",
       "                  Visibility  Predictability  \n",
       "ID                                            \n",
       "4815613784489984   11.968541              68  \n",
       "5117614409908224   11.687371              70  \n",
       "5845769609281536    9.814558              75  \n",
       "4887679040749568   11.006659              71  \n",
       "6722346127720448   11.890248              70  "
      ]
     },
     "execution_count": 2,
     "metadata": {},
     "output_type": "execute_result"
    }
   ],
   "source": [
    "data_df = pd.read_csv('Data/data.csv',index_col = 'ID') # Cho cột index là cột 0 \n",
    "data_df.head()"
   ]
  },
  {
   "cell_type": "markdown",
   "metadata": {},
   "source": [
    "### Dữ liệu có bao nhiêu dòng và bao nhiêu cột?"
   ]
  },
  {
   "cell_type": "code",
   "execution_count": 3,
   "metadata": {},
   "outputs": [
    {
     "data": {
      "text/plain": [
       "(1827, 13)"
      ]
     },
     "execution_count": 3,
     "metadata": {},
     "output_type": "execute_result"
    }
   ],
   "source": [
    "# Kích thước của dữ liệu\n",
    "data_df.shape"
   ]
  },
  {
   "cell_type": "markdown",
   "metadata": {},
   "source": [
    "### Mỗi dòng có ý nghĩa gì? Có vấn đề các dòng có ý nghĩa khác nhau không?"
   ]
  },
  {
   "cell_type": "markdown",
   "metadata": {},
   "source": [
    "Quan sát bộ dữ liệu ta thấy mỗi dòng chứa thông tin thời tiết của mỗi ngày"
   ]
  },
  {
   "cell_type": "markdown",
   "metadata": {},
   "source": [
    "### Dữ liệu có các dòng bị lặp không?"
   ]
  },
  {
   "cell_type": "code",
   "execution_count": 4,
   "metadata": {},
   "outputs": [
    {
     "data": {
      "text/plain": [
       "0"
      ]
     },
     "execution_count": 4,
     "metadata": {},
     "output_type": "execute_result"
    }
   ],
   "source": [
    "# Kiểm tra dữ liệu thu thập được có bị trùng không\n",
    "data_df.index.duplicated().sum()"
   ]
  },
  {
   "cell_type": "markdown",
   "metadata": {},
   "source": [
    "*Dữ liệu bị trùng lắp là do ID của các năm có thể sẽ bị trùng lắp lại, ta sẽ xử lý cột này ở bước tiền xử lý*"
   ]
  },
  {
   "cell_type": "markdown",
   "metadata": {},
   "source": [
    "### Mỗi cột có ý nghĩa gì?"
   ]
  },
  {
   "cell_type": "markdown",
   "metadata": {},
   "source": [
    "Xem file \"description.txt\""
   ]
  },
  {
   "cell_type": "code",
   "execution_count": 5,
   "metadata": {},
   "outputs": [
    {
     "name": "stdout",
     "output_type": "stream",
     "text": [
      "***** DESCRIPTION WEATHER *****\n",
      "Vị trí: Hồ Chí Minh City\n",
      "Thời tiết 4 năm (2016,2017,2018,2019)\n",
      "Predictability:\n",
      "+ 80: Thunder\n",
      "+ 77: Heavy Rain\n",
      "+ 75: Light Rain\n",
      "+ 73: Showers\n",
      "+ 71: Heavy Cloud\n",
      "+ 70: Light Cloud\n",
      "+ 68: Clear\n",
      "\n",
      "ID: id của mỗi ngày trong từng năm\n",
      "State Name: tên trạng thái của ngày (Clear,Light Cloud,...)\n",
      "State Abbreviation: viết tắt của trạng thái (c,lc,...)\n",
      "Wind Direction: Hướng gió\n",
      "Created: Thời gian cụ thể trong ngày\n",
      "Applicable Date: Ngày áp dụng\n",
      "Min Temp: Nhiệt độ tối thiểu\n",
      "Max Temp: Nhiệt đố tối đa\n",
      "The Temp: Nhiệt độ\n",
      "Wind Speed: Tốc độ của gió\n",
      "Air Pressure: Áp suất không khí\n",
      "Humidity: Độ ẩm\n",
      "Visibility: Khoảng cách nhìn thấy\n",
      "\n",
      "\n",
      "\n",
      "\n"
     ]
    }
   ],
   "source": [
    "with open('description.txt', 'r',encoding = 'utf-8') as f:\n",
    "    print(f.read())"
   ]
  },
  {
   "cell_type": "markdown",
   "metadata": {},
   "source": [
    "## Đưa ra câu hỏi cần trả lời"
   ]
  },
  {
   "cell_type": "markdown",
   "metadata": {},
   "source": [
    "Với bộ dữ liệu này thì cột output ta sẽ lấy là cột Predictability để phân ra mưa hay không mưa  \n",
    "Output - *0: Không mưa,1: Có khả năng mưa,2: Mưa* - ứng với thời tiết được tính từ input - *các chỉ số trong ngày* - được tính từ công thức nào ?   \n",
    "Tạm thời ta để input là các chỉ số trong ngày, ta sẽ xử lý các thuộc tính ở bước tiền xử lý  \n",
    "Việc tìm ra câu trả lời sẽ giúp cho mọi người biết được thời tiết như thế nào để có thể chuẩn bị tốt cho một ngày (thực tế trong cuộc sống )  \n",
    "VD: Nếu biết trời mưa, khi đi ra ngoài ta sẽ cầm theo dù (ô) hay là áo mưa, giúp cho các bác nông dân tránh bị \"chạy thóc\" khi gặp phải ngày mưa,...  \n",
    "\n",
    "### Cảm hứng:  \n",
    "Vô tình vào tuần sau khi được nghỉ các môn học, em có về quê chơi với ông bà, vô tình vào 1 hôm em đi chơi xung quanh xóm thì trời bất ngờ đổ mưa, em chạy về nhà vô tình trên đường thầy nhiều nhà cô chú làm nông phải vội vã \"chạy thóc\", nếu không kịp sẽ bị mưa cuốn trôi, ảnh hưởng đến nhiều thứ nên bọn em đã quyết định đặt câu hỏi liên quan tới thời tiết ạ."
   ]
  },
  {
   "cell_type": "markdown",
   "metadata": {},
   "source": [
    "## Khám phá dữ liệu (để biết cách tách các tập)"
   ]
  },
  {
   "cell_type": "markdown",
   "metadata": {},
   "source": [
    "Để biết cách tách các tập thì ta cần khám phá thêm cột output một ít  \n",
    "+ 80: Thunder -> Mưa (2)  \n",
    "+ 77: Heavy Rain -> Mưa (2)  \n",
    "+ 75: Light Rain -> Mưa (2)  \n",
    "+ 73: Showers -> Mưa (2)  \n",
    "+ 71: Heavy Cloud -> Mây nhiều -> Có khả năng mưa (1)  \n",
    "+ 70: Light Cloud -> Mây ít -> Ít có khả năng mưa -> Ta sẽ đưa vào là không mưa -> Không mưa (0)  \n",
    "+ 68: Clear -> Không mưa (0)  "
   ]
  },
  {
   "cell_type": "code",
   "execution_count": 6,
   "metadata": {},
   "outputs": [
    {
     "data": {
      "text/plain": [
       "dtype('int64')"
      ]
     },
     "execution_count": 6,
     "metadata": {},
     "output_type": "execute_result"
    }
   ],
   "source": [
    "# Cột output hiện có kiểu dữ liệu gì?\n",
    "data_df['Predictability'].dtype"
   ]
  },
  {
   "cell_type": "code",
   "execution_count": 7,
   "metadata": {},
   "outputs": [
    {
     "data": {
      "text/plain": [
       "0"
      ]
     },
     "execution_count": 7,
     "metadata": {},
     "output_type": "execute_result"
    }
   ],
   "source": [
    "# Cột output có giá trị thiếu không?\n",
    "data_df['Predictability'].isna().sum()"
   ]
  },
  {
   "cell_type": "code",
   "execution_count": 8,
   "metadata": {},
   "outputs": [
    {
     "data": {
      "text/plain": [
       "77    33.223864\n",
       "75    23.973727\n",
       "70    15.270936\n",
       "71    14.723591\n",
       "73    11.056377\n",
       "68     0.985222\n",
       "80     0.766284\n",
       "Name: Predictability, dtype: float64"
      ]
     },
     "execution_count": 8,
     "metadata": {},
     "output_type": "execute_result"
    }
   ],
   "source": [
    "# Tỉ lệ các lớp trong cột output?\n",
    "data_df['Predictability'].value_counts(normalize=True) * 100"
   ]
  },
  {
   "cell_type": "code",
   "execution_count": 9,
   "metadata": {},
   "outputs": [],
   "source": [
    "#Chuyển cột output sang dạng nhị phân (0,1)\n",
    "data_df.loc[(data_df.Predictability < 71), 'Predictability'] = 0\n",
    "data_df.loc[(data_df.Predictability == 71), 'Predictability'] = 1\n",
    "data_df.loc[(data_df.Predictability > 71), 'Predictability'] = 2"
   ]
  },
  {
   "cell_type": "code",
   "execution_count": 10,
   "metadata": {},
   "outputs": [
    {
     "data": {
      "text/plain": [
       "2    69.020252\n",
       "0    16.256158\n",
       "1    14.723591\n",
       "Name: Predictability, dtype: float64"
      ]
     },
     "execution_count": 10,
     "metadata": {},
     "output_type": "execute_result"
    }
   ],
   "source": [
    "# Tỉ lệ các lớp trong cột output?\n",
    "data_df['Predictability'].value_counts(normalize=True) * 100"
   ]
  },
  {
   "cell_type": "markdown",
   "metadata": {},
   "source": [
    "Nhìn có vẻ với bộ dữ liệu api trên trang metaweather thì thành phố Hồ Chí Minh hay mưa :)))  \n",
    "Ok, như vậy không có vấn đề gì cả "
   ]
  },
  {
   "cell_type": "markdown",
   "metadata": {},
   "source": [
    "## Tiền xử lý (tách các tập)"
   ]
  },
  {
   "cell_type": "markdown",
   "metadata": {},
   "source": [
    "Bây giờ ta sẽ thực hiện bước tiền xử lý là tách tập validation và tập test"
   ]
  },
  {
   "cell_type": "code",
   "execution_count": 11,
   "metadata": {},
   "outputs": [],
   "source": [
    "# Tách X và y\n",
    "y_sr = data_df[\"Predictability\"] # sr là viết tắt của series\n",
    "X_df = data_df.drop(\"Predictability\", axis=1)"
   ]
  },
  {
   "cell_type": "code",
   "execution_count": 12,
   "metadata": {},
   "outputs": [],
   "source": [
    "# Tách tập huấn luyện(train và validation) và tập test theo tỉ lệ 80%:20%\n",
    "Tr_X_df, test_X_df, Tr_y_sr, test_y_sr = train_test_split(X_df, y_sr, test_size=0.2, random_state=0)"
   ]
  },
  {
   "cell_type": "code",
   "execution_count": 13,
   "metadata": {},
   "outputs": [],
   "source": [
    "#Tách tập huấn luyện train và validation theo tỉ lệ 70%:30%\n",
    "train_X_df, val_X_df, train_y_sr, val_y_sr = train_test_split(Tr_X_df, Tr_y_sr, test_size=0.3, random_state=0)"
   ]
  },
  {
   "cell_type": "code",
   "execution_count": 14,
   "metadata": {},
   "outputs": [
    {
     "data": {
      "text/plain": [
       "(1022, 12)"
      ]
     },
     "execution_count": 14,
     "metadata": {},
     "output_type": "execute_result"
    }
   ],
   "source": [
    "train_X_df.shape"
   ]
  },
  {
   "cell_type": "code",
   "execution_count": 15,
   "metadata": {},
   "outputs": [
    {
     "data": {
      "text/plain": [
       "(1022,)"
      ]
     },
     "execution_count": 15,
     "metadata": {},
     "output_type": "execute_result"
    }
   ],
   "source": [
    "train_y_sr.shape"
   ]
  },
  {
   "cell_type": "code",
   "execution_count": 16,
   "metadata": {},
   "outputs": [
    {
     "data": {
      "text/plain": [
       "(439, 12)"
      ]
     },
     "execution_count": 16,
     "metadata": {},
     "output_type": "execute_result"
    }
   ],
   "source": [
    "val_X_df.shape"
   ]
  },
  {
   "cell_type": "code",
   "execution_count": 17,
   "metadata": {},
   "outputs": [
    {
     "data": {
      "text/plain": [
       "(439,)"
      ]
     },
     "execution_count": 17,
     "metadata": {},
     "output_type": "execute_result"
    }
   ],
   "source": [
    "val_y_sr.shape"
   ]
  },
  {
   "cell_type": "code",
   "execution_count": 18,
   "metadata": {},
   "outputs": [
    {
     "data": {
      "text/plain": [
       "(366, 12)"
      ]
     },
     "execution_count": 18,
     "metadata": {},
     "output_type": "execute_result"
    }
   ],
   "source": [
    "test_X_df.shape"
   ]
  },
  {
   "cell_type": "code",
   "execution_count": 19,
   "metadata": {},
   "outputs": [
    {
     "data": {
      "text/plain": [
       "(366,)"
      ]
     },
     "execution_count": 19,
     "metadata": {},
     "output_type": "execute_result"
    }
   ],
   "source": [
    "test_y_sr.shape"
   ]
  },
  {
   "cell_type": "code",
   "execution_count": 20,
   "metadata": {},
   "outputs": [
    {
     "data": {
      "text/plain": [
       "Int64Index([4693872194093056, 5332141575503872, 4828622292516864,\n",
       "            6239097135824896, 5013966445084672],\n",
       "           dtype='int64', name='ID')"
      ]
     },
     "execution_count": 20,
     "metadata": {},
     "output_type": "execute_result"
    }
   ],
   "source": [
    "train_X_df.head().index"
   ]
  },
  {
   "cell_type": "markdown",
   "metadata": {},
   "source": [
    "## Khám phá dữ liệu (tập huấn luyện)"
   ]
  },
  {
   "cell_type": "markdown",
   "metadata": {},
   "source": [
    "### Mỗi cột input hiện đang có kiểu dữ liệu gì? Có cột nào có kiểu dữ liệu chưa phù hợp để có thể xử lý tiếp không?"
   ]
  },
  {
   "cell_type": "code",
   "execution_count": 21,
   "metadata": {},
   "outputs": [
    {
     "data": {
      "text/plain": [
       "State Name             object\n",
       "State Abbreviation     object\n",
       "Wind Direction        float64\n",
       "Created                object\n",
       "Applicable Date        object\n",
       "Min Temp              float64\n",
       "Max Temp              float64\n",
       "The Temp              float64\n",
       "Wind Speed            float64\n",
       "Air Pressure          float64\n",
       "Humidity              float64\n",
       "Visibility            float64\n",
       "dtype: object"
      ]
     },
     "execution_count": 21,
     "metadata": {},
     "output_type": "execute_result"
    }
   ],
   "source": [
    "train_X_df.dtypes"
   ]
  },
  {
   "cell_type": "markdown",
   "metadata": {},
   "source": [
    "### Với mỗi cột input có kiểu dữ liệu dạng số, các giá trị được phân bố như thế nào?"
   ]
  },
  {
   "cell_type": "code",
   "execution_count": 22,
   "metadata": {
    "scrolled": true
   },
   "outputs": [
    {
     "data": {
      "text/plain": [
       "Wind Direction    float64\n",
       "Min Temp          float64\n",
       "Max Temp          float64\n",
       "The Temp          float64\n",
       "Wind Speed        float64\n",
       "Air Pressure      float64\n",
       "Humidity          float64\n",
       "Visibility        float64\n",
       "dtype: object"
      ]
     },
     "execution_count": 22,
     "metadata": {},
     "output_type": "execute_result"
    }
   ],
   "source": [
    "train_X_df.dtypes[train_X_df.dtypes != object]"
   ]
  },
  {
   "cell_type": "code",
   "execution_count": 23,
   "metadata": {
    "scrolled": true
   },
   "outputs": [
    {
     "data": {
      "text/html": [
       "<div>\n",
       "<style scoped>\n",
       "    .dataframe tbody tr th:only-of-type {\n",
       "        vertical-align: middle;\n",
       "    }\n",
       "\n",
       "    .dataframe tbody tr th {\n",
       "        vertical-align: top;\n",
       "    }\n",
       "\n",
       "    .dataframe thead th {\n",
       "        text-align: right;\n",
       "    }\n",
       "</style>\n",
       "<table border=\"1\" class=\"dataframe\">\n",
       "  <thead>\n",
       "    <tr style=\"text-align: right;\">\n",
       "      <th></th>\n",
       "      <th>Wind Direction</th>\n",
       "      <th>Min Temp</th>\n",
       "      <th>Max Temp</th>\n",
       "      <th>The Temp</th>\n",
       "      <th>Wind Speed</th>\n",
       "      <th>Air Pressure</th>\n",
       "      <th>Humidity</th>\n",
       "      <th>Visibility</th>\n",
       "    </tr>\n",
       "  </thead>\n",
       "  <tbody>\n",
       "    <tr>\n",
       "      <th>missing_ratio</th>\n",
       "      <td>0.000000</td>\n",
       "      <td>0.000</td>\n",
       "      <td>0.000</td>\n",
       "      <td>0.00</td>\n",
       "      <td>0.000000</td>\n",
       "      <td>0.000</td>\n",
       "      <td>0.0</td>\n",
       "      <td>0.100000</td>\n",
       "    </tr>\n",
       "    <tr>\n",
       "      <th>min</th>\n",
       "      <td>1.943751</td>\n",
       "      <td>19.495</td>\n",
       "      <td>12.930</td>\n",
       "      <td>23.47</td>\n",
       "      <td>1.479793</td>\n",
       "      <td>996.445</td>\n",
       "      <td>44.0</td>\n",
       "      <td>2.173556</td>\n",
       "    </tr>\n",
       "    <tr>\n",
       "      <th>lower_quartile</th>\n",
       "      <td>110.400000</td>\n",
       "      <td>24.200</td>\n",
       "      <td>29.900</td>\n",
       "      <td>28.80</td>\n",
       "      <td>3.700000</td>\n",
       "      <td>1009.900</td>\n",
       "      <td>65.0</td>\n",
       "      <td>8.200000</td>\n",
       "    </tr>\n",
       "    <tr>\n",
       "      <th>median</th>\n",
       "      <td>153.900000</td>\n",
       "      <td>25.000</td>\n",
       "      <td>31.000</td>\n",
       "      <td>29.90</td>\n",
       "      <td>4.900000</td>\n",
       "      <td>1012.500</td>\n",
       "      <td>74.0</td>\n",
       "      <td>10.500000</td>\n",
       "    </tr>\n",
       "    <tr>\n",
       "      <th>upper_quartile</th>\n",
       "      <td>237.900000</td>\n",
       "      <td>25.900</td>\n",
       "      <td>32.300</td>\n",
       "      <td>31.30</td>\n",
       "      <td>6.800000</td>\n",
       "      <td>1014.400</td>\n",
       "      <td>81.0</td>\n",
       "      <td>12.100000</td>\n",
       "    </tr>\n",
       "    <tr>\n",
       "      <th>max</th>\n",
       "      <td>359.171590</td>\n",
       "      <td>29.185</td>\n",
       "      <td>38.035</td>\n",
       "      <td>37.18</td>\n",
       "      <td>13.850926</td>\n",
       "      <td>1020.140</td>\n",
       "      <td>94.0</td>\n",
       "      <td>18.473366</td>\n",
       "    </tr>\n",
       "  </tbody>\n",
       "</table>\n",
       "</div>"
      ],
      "text/plain": [
       "                Wind Direction  Min Temp  Max Temp  The Temp  Wind Speed  \\\n",
       "missing_ratio         0.000000     0.000     0.000      0.00    0.000000   \n",
       "min                   1.943751    19.495    12.930     23.47    1.479793   \n",
       "lower_quartile      110.400000    24.200    29.900     28.80    3.700000   \n",
       "median              153.900000    25.000    31.000     29.90    4.900000   \n",
       "upper_quartile      237.900000    25.900    32.300     31.30    6.800000   \n",
       "max                 359.171590    29.185    38.035     37.18   13.850926   \n",
       "\n",
       "                Air Pressure  Humidity  Visibility  \n",
       "missing_ratio          0.000       0.0    0.100000  \n",
       "min                  996.445      44.0    2.173556  \n",
       "lower_quartile      1009.900      65.0    8.200000  \n",
       "median              1012.500      74.0   10.500000  \n",
       "upper_quartile      1014.400      81.0   12.100000  \n",
       "max                 1020.140      94.0   18.473366  "
      ]
     },
     "execution_count": 23,
     "metadata": {},
     "output_type": "execute_result"
    }
   ],
   "source": [
    "num_cols = ['Wind Direction','Min Temp','Max Temp','The Temp','Wind Speed','Air Pressure','Humidity','Visibility']\n",
    "df = train_X_df[num_cols]\n",
    "def missing_ratio(df):\n",
    "    return (df.isna().mean() * 100).round(1)\n",
    "def lower_quartile(df):\n",
    "    return df.quantile(0.25).round(1)\n",
    "def median(df):\n",
    "    return df.quantile(0.5).round(1)\n",
    "def upper_quartile(df):\n",
    "    return df.quantile(0.75).round(1)\n",
    "df.agg([missing_ratio, 'min', lower_quartile, median, upper_quartile, 'max'])"
   ]
  },
  {
   "cell_type": "markdown",
   "metadata": {},
   "source": [
    "Theo như bảng ở trên, ta thấy không có thuôc tính (dạng số) bị thiếu dữ liệu"
   ]
  },
  {
   "cell_type": "markdown",
   "metadata": {},
   "source": [
    "### Với mỗi cột input có kiểu dữ liệu không phải dạng số, các giá trị được phân bố như thế nào?"
   ]
  },
  {
   "cell_type": "code",
   "execution_count": 24,
   "metadata": {},
   "outputs": [
    {
     "data": {
      "text/html": [
       "<div>\n",
       "<style scoped>\n",
       "    .dataframe tbody tr th:only-of-type {\n",
       "        vertical-align: middle;\n",
       "    }\n",
       "\n",
       "    .dataframe tbody tr th {\n",
       "        vertical-align: top;\n",
       "    }\n",
       "\n",
       "    .dataframe thead th {\n",
       "        text-align: right;\n",
       "    }\n",
       "</style>\n",
       "<table border=\"1\" class=\"dataframe\">\n",
       "  <thead>\n",
       "    <tr style=\"text-align: right;\">\n",
       "      <th></th>\n",
       "      <th>Applicable Date</th>\n",
       "      <th>Created</th>\n",
       "      <th>State Name</th>\n",
       "      <th>State Abbreviation</th>\n",
       "    </tr>\n",
       "  </thead>\n",
       "  <tbody>\n",
       "    <tr>\n",
       "      <th>missing_ratio</th>\n",
       "      <td>0</td>\n",
       "      <td>0</td>\n",
       "      <td>0</td>\n",
       "      <td>0</td>\n",
       "    </tr>\n",
       "    <tr>\n",
       "      <th>num_values</th>\n",
       "      <td>1022</td>\n",
       "      <td>1022</td>\n",
       "      <td>7</td>\n",
       "      <td>7</td>\n",
       "    </tr>\n",
       "    <tr>\n",
       "      <th>value_ratios</th>\n",
       "      <td>{'2019-03-05': 0.1, '2016-12-04': 0.1, '2016-06-15': 0.1, '2017-01-26': 0.1, '2017-08-12': 0.1, '2018-12-06': 0.1, '2019-10-16': 0.1, '2018-06-28': 0.1, '2016-01-24': 0.1, '2018-06-03': 0.1, '2016...</td>\n",
       "      <td>{'2017-08-18T14:59:58.900170Z': 0.1, '2018-11-09T15:36:59.228778Z': 0.1, '2016-01-17T15:50:46.916980Z': 0.1, '2016-11-30T15:04:59.124920Z': 0.1, '2016-04-01T14:42:47.789380Z': 0.1, '2020-12-17T16:...</td>\n",
       "      <td>{'Heavy Rain': 34.0, 'Light Rain': 22.6, 'Light Cloud': 16.3, 'Heavy Cloud': 15.2, 'Showers': 10.3, 'Clear': 0.9, 'Thunder': 0.8}</td>\n",
       "      <td>{'hr': 34.0, 'lr': 22.6, 'lc': 16.3, 'hc': 15.2, 's': 10.3, 'c': 0.9, 't': 0.8}</td>\n",
       "    </tr>\n",
       "  </tbody>\n",
       "</table>\n",
       "</div>"
      ],
      "text/plain": [
       "                                                                                                                                                                                                       Applicable Date  \\\n",
       "missing_ratio                                                                                                                                                                                                        0   \n",
       "num_values                                                                                                                                                                                                        1022   \n",
       "value_ratios   {'2019-03-05': 0.1, '2016-12-04': 0.1, '2016-06-15': 0.1, '2017-01-26': 0.1, '2017-08-12': 0.1, '2018-12-06': 0.1, '2019-10-16': 0.1, '2018-06-28': 0.1, '2016-01-24': 0.1, '2018-06-03': 0.1, '2016...   \n",
       "\n",
       "                                                                                                                                                                                                               Created  \\\n",
       "missing_ratio                                                                                                                                                                                                        0   \n",
       "num_values                                                                                                                                                                                                        1022   \n",
       "value_ratios   {'2017-08-18T14:59:58.900170Z': 0.1, '2018-11-09T15:36:59.228778Z': 0.1, '2016-01-17T15:50:46.916980Z': 0.1, '2016-11-30T15:04:59.124920Z': 0.1, '2016-04-01T14:42:47.789380Z': 0.1, '2020-12-17T16:...   \n",
       "\n",
       "                                                                                                                                      State Name  \\\n",
       "missing_ratio                                                                                                                                  0   \n",
       "num_values                                                                                                                                     7   \n",
       "value_ratios   {'Heavy Rain': 34.0, 'Light Rain': 22.6, 'Light Cloud': 16.3, 'Heavy Cloud': 15.2, 'Showers': 10.3, 'Clear': 0.9, 'Thunder': 0.8}   \n",
       "\n",
       "                                                                            State Abbreviation  \n",
       "missing_ratio                                                                                0  \n",
       "num_values                                                                                   7  \n",
       "value_ratios   {'hr': 34.0, 'lr': 22.6, 'lc': 16.3, 'hc': 15.2, 's': 10.3, 'c': 0.9, 't': 0.8}  "
      ]
     },
     "execution_count": 24,
     "metadata": {},
     "output_type": "execute_result"
    }
   ],
   "source": [
    "pd.set_option('display.max_colwidth', 200) # Để nhìn rõ hơn\n",
    "cat_cols = list(set(train_X_df.columns) - set(num_cols))\n",
    "df = train_X_df[cat_cols]\n",
    "def missing_ratio(df):\n",
    "    return (df.isna().mean() * 100).round(1)\n",
    "def num_values(df):\n",
    "    return df.nunique()\n",
    "def value_ratios(c):\n",
    "    return dict((c.value_counts(normalize=True) * 100).round(1))\n",
    "df.agg([missing_ratio, num_values, value_ratios])"
   ]
  },
  {
   "cell_type": "markdown",
   "metadata": {},
   "source": [
    "Tương tự như thuộc tính không phải dạng số (categorical) cũng không bị thiếu dữ liệu"
   ]
  },
  {
   "cell_type": "markdown",
   "metadata": {},
   "source": [
    "## Tiền xử lý (tập huấn luyện) "
   ]
  },
  {
   "cell_type": "markdown",
   "metadata": {},
   "source": [
    "Đầu tiên ta sẽ bỏ một số cột sau:  \n",
    "- Bỏ cột 'ID' , thay vào đó ta sẽ để cột 'Applicable Date' làm cột index  \n",
    "- Bỏ cột 'State Name' và cột 'State Abbreviation' vì đây là 2 cột tương tự giống với cột output  \n",
    "- Bỏ cột 'Created' vì cột này không có nhiều tác dụng trong việc đánh giá mô hình"
   ]
  },
  {
   "cell_type": "code",
   "execution_count": 25,
   "metadata": {},
   "outputs": [],
   "source": [
    "class ColDropper(BaseEstimator, TransformerMixin):\n",
    "    def fit(self, X_df, y=None):\n",
    "        return self\n",
    "    def transform(self, X_df, y=None):\n",
    "        # YOUR CODE HERE\n",
    "        df_transform = X_df.copy()\n",
    "        df_transform.set_index('Applicable Date',inplace = True)\n",
    "        df_transform.drop(['State Name','State Abbreviation','Created'],axis = 1,inplace = True)\n",
    "        return df_transform"
   ]
  },
  {
   "cell_type": "code",
   "execution_count": 26,
   "metadata": {
    "scrolled": true
   },
   "outputs": [
    {
     "data": {
      "text/html": [
       "<div>\n",
       "<style scoped>\n",
       "    .dataframe tbody tr th:only-of-type {\n",
       "        vertical-align: middle;\n",
       "    }\n",
       "\n",
       "    .dataframe tbody tr th {\n",
       "        vertical-align: top;\n",
       "    }\n",
       "\n",
       "    .dataframe thead th {\n",
       "        text-align: right;\n",
       "    }\n",
       "</style>\n",
       "<table border=\"1\" class=\"dataframe\">\n",
       "  <thead>\n",
       "    <tr style=\"text-align: right;\">\n",
       "      <th></th>\n",
       "      <th>Wind Direction</th>\n",
       "      <th>Min Temp</th>\n",
       "      <th>Max Temp</th>\n",
       "      <th>The Temp</th>\n",
       "      <th>Wind Speed</th>\n",
       "      <th>Air Pressure</th>\n",
       "      <th>Humidity</th>\n",
       "      <th>Visibility</th>\n",
       "    </tr>\n",
       "    <tr>\n",
       "      <th>Applicable Date</th>\n",
       "      <th></th>\n",
       "      <th></th>\n",
       "      <th></th>\n",
       "      <th></th>\n",
       "      <th></th>\n",
       "      <th></th>\n",
       "      <th></th>\n",
       "      <th></th>\n",
       "    </tr>\n",
       "  </thead>\n",
       "  <tbody>\n",
       "    <tr>\n",
       "      <th>2018-07-04</th>\n",
       "      <td>246.833406</td>\n",
       "      <td>24.970000</td>\n",
       "      <td>29.976667</td>\n",
       "      <td>29.110</td>\n",
       "      <td>9.199393</td>\n",
       "      <td>1012.910</td>\n",
       "      <td>74.0</td>\n",
       "      <td>10.575738</td>\n",
       "    </tr>\n",
       "    <tr>\n",
       "      <th>2016-09-05</th>\n",
       "      <td>265.199886</td>\n",
       "      <td>26.327500</td>\n",
       "      <td>31.875000</td>\n",
       "      <td>29.560</td>\n",
       "      <td>6.623241</td>\n",
       "      <td>1000.175</td>\n",
       "      <td>83.0</td>\n",
       "      <td>5.317695</td>\n",
       "    </tr>\n",
       "    <tr>\n",
       "      <th>2016-09-14</th>\n",
       "      <td>251.350461</td>\n",
       "      <td>24.685000</td>\n",
       "      <td>31.112500</td>\n",
       "      <td>29.750</td>\n",
       "      <td>8.062155</td>\n",
       "      <td>1012.830</td>\n",
       "      <td>80.0</td>\n",
       "      <td>11.525193</td>\n",
       "    </tr>\n",
       "    <tr>\n",
       "      <th>2016-05-27</th>\n",
       "      <td>225.982636</td>\n",
       "      <td>26.426667</td>\n",
       "      <td>32.043333</td>\n",
       "      <td>30.130</td>\n",
       "      <td>8.445431</td>\n",
       "      <td>1008.000</td>\n",
       "      <td>76.0</td>\n",
       "      <td>7.551835</td>\n",
       "    </tr>\n",
       "    <tr>\n",
       "      <th>2020-02-29</th>\n",
       "      <td>113.158931</td>\n",
       "      <td>24.355000</td>\n",
       "      <td>31.080000</td>\n",
       "      <td>30.960</td>\n",
       "      <td>5.833753</td>\n",
       "      <td>1010.500</td>\n",
       "      <td>63.0</td>\n",
       "      <td>13.445230</td>\n",
       "    </tr>\n",
       "    <tr>\n",
       "      <th>...</th>\n",
       "      <td>...</td>\n",
       "      <td>...</td>\n",
       "      <td>...</td>\n",
       "      <td>...</td>\n",
       "      <td>...</td>\n",
       "      <td>...</td>\n",
       "      <td>...</td>\n",
       "      <td>...</td>\n",
       "    </tr>\n",
       "    <tr>\n",
       "      <th>2016-12-10</th>\n",
       "      <td>320.704514</td>\n",
       "      <td>24.296000</td>\n",
       "      <td>29.198000</td>\n",
       "      <td>28.725</td>\n",
       "      <td>2.642794</td>\n",
       "      <td>1011.775</td>\n",
       "      <td>80.0</td>\n",
       "      <td>6.159342</td>\n",
       "    </tr>\n",
       "    <tr>\n",
       "      <th>2018-04-10</th>\n",
       "      <td>110.771893</td>\n",
       "      <td>26.863333</td>\n",
       "      <td>34.320000</td>\n",
       "      <td>34.350</td>\n",
       "      <td>4.840252</td>\n",
       "      <td>1014.655</td>\n",
       "      <td>58.0</td>\n",
       "      <td>10.433444</td>\n",
       "    </tr>\n",
       "    <tr>\n",
       "      <th>2017-12-28</th>\n",
       "      <td>83.851553</td>\n",
       "      <td>24.165000</td>\n",
       "      <td>30.505000</td>\n",
       "      <td>29.435</td>\n",
       "      <td>3.063802</td>\n",
       "      <td>1015.680</td>\n",
       "      <td>80.0</td>\n",
       "      <td>8.133438</td>\n",
       "    </tr>\n",
       "    <tr>\n",
       "      <th>2016-09-18</th>\n",
       "      <td>263.246679</td>\n",
       "      <td>25.255000</td>\n",
       "      <td>30.542500</td>\n",
       "      <td>28.520</td>\n",
       "      <td>5.004684</td>\n",
       "      <td>1011.595</td>\n",
       "      <td>86.0</td>\n",
       "      <td>10.396472</td>\n",
       "    </tr>\n",
       "    <tr>\n",
       "      <th>2018-04-04</th>\n",
       "      <td>135.332616</td>\n",
       "      <td>25.156667</td>\n",
       "      <td>32.533333</td>\n",
       "      <td>31.725</td>\n",
       "      <td>6.241022</td>\n",
       "      <td>1013.265</td>\n",
       "      <td>56.0</td>\n",
       "      <td>11.176914</td>\n",
       "    </tr>\n",
       "  </tbody>\n",
       "</table>\n",
       "<p>1022 rows × 8 columns</p>\n",
       "</div>"
      ],
      "text/plain": [
       "                 Wind Direction   Min Temp   Max Temp  The Temp  Wind Speed  \\\n",
       "Applicable Date                                                               \n",
       "2018-07-04           246.833406  24.970000  29.976667    29.110    9.199393   \n",
       "2016-09-05           265.199886  26.327500  31.875000    29.560    6.623241   \n",
       "2016-09-14           251.350461  24.685000  31.112500    29.750    8.062155   \n",
       "2016-05-27           225.982636  26.426667  32.043333    30.130    8.445431   \n",
       "2020-02-29           113.158931  24.355000  31.080000    30.960    5.833753   \n",
       "...                         ...        ...        ...       ...         ...   \n",
       "2016-12-10           320.704514  24.296000  29.198000    28.725    2.642794   \n",
       "2018-04-10           110.771893  26.863333  34.320000    34.350    4.840252   \n",
       "2017-12-28            83.851553  24.165000  30.505000    29.435    3.063802   \n",
       "2016-09-18           263.246679  25.255000  30.542500    28.520    5.004684   \n",
       "2018-04-04           135.332616  25.156667  32.533333    31.725    6.241022   \n",
       "\n",
       "                 Air Pressure  Humidity  Visibility  \n",
       "Applicable Date                                      \n",
       "2018-07-04           1012.910      74.0   10.575738  \n",
       "2016-09-05           1000.175      83.0    5.317695  \n",
       "2016-09-14           1012.830      80.0   11.525193  \n",
       "2016-05-27           1008.000      76.0    7.551835  \n",
       "2020-02-29           1010.500      63.0   13.445230  \n",
       "...                       ...       ...         ...  \n",
       "2016-12-10           1011.775      80.0    6.159342  \n",
       "2018-04-10           1014.655      58.0   10.433444  \n",
       "2017-12-28           1015.680      80.0    8.133438  \n",
       "2016-09-18           1011.595      86.0   10.396472  \n",
       "2018-04-04           1013.265      56.0   11.176914  \n",
       "\n",
       "[1022 rows x 8 columns]"
      ]
     },
     "execution_count": 26,
     "metadata": {},
     "output_type": "execute_result"
    }
   ],
   "source": [
    "col_dropper = ColDropper()\n",
    "col_dropper.fit(train_X_df)\n",
    "col_dropper.transform(train_X_df)"
   ]
  },
  {
   "cell_type": "markdown",
   "metadata": {},
   "source": [
    "Như ta thấy ở trên thì toàn bộ thuộc tính chỉ còn lại thuộc tính dạng số (numerical): 'Wind Direction', 'Min Temp', 'Max Temp', 'The Temp', 'Wind Speed', 'Air Pressure', 'Humidity', 'Visibility'  \n",
    "Mặc dù không có dữ liệu bị thiếu trên các thuộc tính dạng kiểu số nhưng ta cũng cần phải ta đều cần tính mean, vì ta không biết được cột nào sẽ bị thiếu giá trị khi dự đoán với các véc-tơ input mới (Class MissingValues sẽ làm việc đó)  \n",
    "Sau khi đã điền giá trị thiếu ta sẽ chuẩn hóa bằng cách trừ đi mean và chia cho độ lệch chuẩn của cột để giúp cho các thuật toán cực tiểu hóa như Gradient Descent, LBFGS, ... hội tụ nhanh hơn (Class Standarized sẽ làm việc này)"
   ]
  },
  {
   "cell_type": "code",
   "execution_count": 27,
   "metadata": {},
   "outputs": [
    {
     "data": {
      "text/plain": [
       "array([[ 0.95687809, -0.02694965, -0.56662754, ...,  0.26198247,\n",
       "         0.11497783,  0.14469734],\n",
       "       [ 1.18611733,  0.92802899,  0.30112651, ..., -3.20046584,\n",
       "         0.95365041, -1.80664013],\n",
       "       [ 1.01325722, -0.22744241, -0.04742263, ...,  0.24023171,\n",
       "         0.67409288,  0.49705419],\n",
       "       ...,\n",
       "       [-1.07736231, -0.59325375, -0.32511917, ...,  1.01510236,\n",
       "         0.67409288, -0.76167608],\n",
       "       [ 1.16173858,  0.1735431 , -0.3079774 , ..., -0.09554556,\n",
       "         1.23320793,  0.07816923],\n",
       "       [-0.43480697,  0.10436724,  0.60205966, ...,  0.35850144,\n",
       "        -1.56236731,  0.36780287]])"
      ]
     },
     "execution_count": 27,
     "metadata": {},
     "output_type": "execute_result"
    }
   ],
   "source": [
    "class MissingValues(BaseEstimator, TransformerMixin):\n",
    "    def fit(self,X, y=None):\n",
    "        #mean  (num_cols)\n",
    "        self.imp_mean = SimpleImputer(missing_values=np.nan,strategy='mean')\n",
    "        self.imp_mean = self.imp_mean.fit(X[X.columns])\n",
    "        return self\n",
    "    def transform(self, X, y=None):\n",
    "        X[X.columns] = self.imp_mean.transform(X[X.columns])\n",
    "        return X\n",
    "class Standardized(BaseEstimator, TransformerMixin):\n",
    "    def fit(self, X, y=None):\n",
    "        scaler = StandardScaler()\n",
    "        self.scaled = scaler.fit(X)\n",
    "        return self\n",
    "    def transform(self, X, y=None):\n",
    "        #Standardized\n",
    "        result = self.scaled.transform(X)\n",
    "        return result\n",
    "    \n",
    "preprocess_pipeline = make_pipeline(ColDropper(),MissingValues(),Standardized())\n",
    "preprocessed_train_X = preprocess_pipeline.fit_transform(train_X_df)\n",
    "preprocessed_train_X"
   ]
  },
  {
   "cell_type": "markdown",
   "metadata": {},
   "source": [
    "## Tiền xử lý + mô hình hóa"
   ]
  },
  {
   "cell_type": "markdown",
   "metadata": {},
   "source": [
    "### Tìm mô hình tốt nhất "
   ]
  },
  {
   "cell_type": "markdown",
   "metadata": {},
   "source": [
    "#### Mô hình Neural Net"
   ]
  },
  {
   "cell_type": "markdown",
   "metadata": {},
   "source": [
    "Ta sẽ sử dụng mô hình Neural Net để phân lớp. Bạn sẽ tạo ra một pipeline từ đầu đến cuối bao gồm: các bước tiền xử lý ở trên + Neural Net (với các siêu tham số `hidden_layer_sizes=(20), activation='tanh', solver='lbfgs', random_state=0, max_iter=2500`)  \n",
    "\n",
    "Sau khi đã có được pipeline từ đầu đến cuối này, ta sẽ thử nghiệm:\n",
    "- Siêu tham số `alpha` (mức độ L2 regularization hay weight decay) của `MLPClassifier` với 5 giá trị khác nhau: 0.1, 1, 10, 100, 1000.\n",
    "- Siêu tham số `hidden_layer_sizes` (số lớp ẩn trong Neural) của `MLPClassifier` với 5 giá trị khác nhau: 5,10,20,50,100"
   ]
  },
  {
   "cell_type": "code",
   "execution_count": 28,
   "metadata": {},
   "outputs": [
    {
     "data": {
      "text/plain": [
       "'Finish!'"
      ]
     },
     "execution_count": 28,
     "metadata": {},
     "output_type": "execute_result"
    }
   ],
   "source": [
    "#Tạo full pipeline  \n",
    "full_pipeline = make_pipeline(ColDropper(),MissingValues(),Standardized(),MLPClassifier(hidden_layer_sizes=(20),activation='tanh',solver='lbfgs',random_state= 0,max_iter = 2500))\n",
    "alpha_l = []\n",
    "hid_l = []\n",
    "# Thử nghiệm với các giá trị khác nhau của các siêu tham số\n",
    "# và chọn ra các giá trị tốt nhất\n",
    "train_errs = []\n",
    "val_errs = []\n",
    "alphas = [0.1, 1, 10, 100, 1000]\n",
    "hidden_layers = [5, 10, 20, 50, 100]\n",
    "best_val_err = float('inf'); best_alpha = None; best_num_top_titles = None\n",
    "for alpha in alphas:\n",
    "    for hidden_layer in hidden_layers:\n",
    "        alpha_l.append(alpha)\n",
    "        hid_l.append(hidden_layer)\n",
    "        full_pipeline.set_params(mlpclassifier__alpha=alpha,mlpclassifier__hidden_layer_sizes = (hidden_layer))\n",
    "        full_pipeline.fit(train_X_df,train_y_sr)\n",
    "        train_errs.append((1-full_pipeline.score(train_X_df,train_y_sr))*100)\n",
    "        val_errs.append((1-full_pipeline.score(val_X_df,val_y_sr))*100)\n",
    "best_val_err = min(val_errs)\n",
    "best_alpha = alpha_l[val_errs.index(best_val_err)]\n",
    "best_hidden_layer = hid_l[val_errs.index(best_val_err)]\n",
    "'Finish!'"
   ]
  },
  {
   "cell_type": "code",
   "execution_count": 29,
   "metadata": {},
   "outputs": [
    {
     "data": {
      "image/png": "[encoded data removed]",
      "text/plain": [
       "<Figure size 720x360 with 2 Axes>"
      ]
     },
     "metadata": {
      "needs_background": "light"
     },
     "output_type": "display_data"
    }
   ],
   "source": [
    "# Trực quan hóa kết quả\n",
    "train_errs_df = pd.DataFrame(data=np.array(train_errs).reshape(len(alphas), -1),\n",
    "                             index=alphas, columns=hidden_layers)\n",
    "val_errs_df = pd.DataFrame(data=np.array(val_errs).reshape(len(alphas), -1), \n",
    "                           index=alphas, columns=hidden_layers)\n",
    "min_err = min(min(train_errs), min(val_errs))\n",
    "max_err = max(max(train_errs), max(val_errs))\n",
    "plt.figure(figsize=(10, 5))\n",
    "plt.subplot(1, 2, 1)\n",
    "sns.heatmap(train_errs_df, vmin=min_err, vmax=max_err, square=True, annot=True, \n",
    "            cbar=False, fmt='.1f', cmap='Reds')\n",
    "plt.title('train errors'); plt.xlabel('hidden layers'); plt.ylabel('alpha')\n",
    "plt.subplot(1, 2, 2)\n",
    "sns.heatmap(val_errs_df, vmin=min_err, vmax=max_err, square=True, annot=True, \n",
    "            cbar=False, fmt='.1f', cmap='Reds')\n",
    "plt.title('validation errors'); plt.xlabel('hidden layers'); plt.ylabel('alpha');"
   ]
  },
  {
   "cell_type": "markdown",
   "metadata": {},
   "source": [
    "Để ý thấy với hidden layers khác nhau thì sẽ không ảnh hưởng đến độ lỗi của mô hình quá nhiều,để đánh giá mô hình này thì ta sẽ dựa vào alpha"
   ]
  },
  {
   "cell_type": "code",
   "execution_count": 30,
   "metadata": {},
   "outputs": [
    {
     "data": {
      "text/plain": [
       "Pipeline(steps=[('coldropper', ColDropper()),\n",
       "                ('missingvalues', MissingValues()),\n",
       "                ('standardized', Standardized()),\n",
       "                ('mlpclassifier',\n",
       "                 MLPClassifier(activation='tanh', alpha=1, hidden_layer_sizes=5,\n",
       "                               max_iter=2500, random_state=0,\n",
       "                               solver='lbfgs'))])"
      ]
     },
     "execution_count": 30,
     "metadata": {},
     "output_type": "execute_result"
    }
   ],
   "source": [
    "full_pipeline.set_params(mlpclassifier__alpha=best_alpha,mlpclassifier__hidden_layer_sizes = (best_hidden_layer))\n",
    "full_pipeline.fit(Tr_X_df,Tr_y_sr)"
   ]
  },
  {
   "cell_type": "code",
   "execution_count": 31,
   "metadata": {},
   "outputs": [
    {
     "name": "stdout",
     "output_type": "stream",
     "text": [
      "0.8087431693989071\n"
     ]
    }
   ],
   "source": [
    "# Đánh giá độ lỗi của mô hình Neural Net trên tập test\n",
    "predict = full_pipeline.predict(test_X_df)\n",
    "print(accuracy_score(predict, test_y_sr))"
   ]
  },
  {
   "cell_type": "markdown",
   "metadata": {},
   "source": [
    "#### Mô hình AdaBoost Classifier"
   ]
  },
  {
   "cell_type": "markdown",
   "metadata": {},
   "source": [
    "Ta sẽ sử dụng mô hình AdaBoost Classifier để phân lớp. Bạn sẽ tạo ra một pipeline từ đầu đến cuối bao gồm: các bước tiền xử lý ở trên + AdaBoost Classifier\n",
    "\n",
    "Sau khi đã có được pipeline từ đầu đến cuối này, ta sẽ thử nghiệm:\n",
    "- Siêu tham số `n_estimators`của `AdaBoostClassifier` với 5 giá trị khác nhau: 10,20,50,100,150"
   ]
  },
  {
   "cell_type": "code",
   "execution_count": 32,
   "metadata": {},
   "outputs": [
    {
     "name": "stdout",
     "output_type": "stream",
     "text": [
      "Độ lỗi tốt nhất trên tập validation:  18.906605922551257\n"
     ]
    }
   ],
   "source": [
    "#Tạo full pipeline  \n",
    "full_pipeline = make_pipeline(ColDropper(),MissingValues(),Standardized(),AdaBoostClassifier())\n",
    "estimators_l = []\n",
    "# Thử nghiệm với các giá trị khác nhau của siêu tham số n_estimators\n",
    "# và chọn ra các giá trị tốt nhất\n",
    "train_errs = []\n",
    "val_errs = []\n",
    "algorithm = ['SAMME.R']\n",
    "estis = [10, 20, 50, 100, 150]\n",
    "best_val_err = float('inf')\n",
    "best_esti = None\n",
    "\n",
    "for esti in estis:\n",
    "    estimators_l.append(esti)\n",
    "    full_pipeline.set_params(adaboostclassifier__n_estimators=esti)\n",
    "    full_pipeline.fit(train_X_df,train_y_sr)\n",
    "    train_errs.append((1-full_pipeline.score(train_X_df,train_y_sr))*100)\n",
    "    val_errs.append((1-full_pipeline.score(val_X_df,val_y_sr))*100)\n",
    "best_val_err = min(val_errs)\n",
    "best_esti = estimators_l[val_errs.index(best_val_err)]\n",
    "print('Độ lỗi tốt nhất trên tập validation: ',best_val_err)"
   ]
  },
  {
   "cell_type": "code",
   "execution_count": 33,
   "metadata": {},
   "outputs": [
    {
     "data": {
      "image/png": "[encoded data removed]",
      "text/plain": [
       "<Figure size 720x360 with 2 Axes>"
      ]
     },
     "metadata": {
      "needs_background": "light"
     },
     "output_type": "display_data"
    }
   ],
   "source": [
    "# Trực quan hóa kết quả\n",
    "train_errs_df = pd.DataFrame(data=np.array(train_errs).reshape(len(algorithm), -1),\n",
    "                             index=algorithm, columns=estis)\n",
    "val_errs_df = pd.DataFrame(data=np.array(val_errs).reshape(len(algorithm), -1), \n",
    "                           index=algorithm, columns=estis)\n",
    "min_err = min(min(train_errs), min(val_errs))\n",
    "max_err = max(max(train_errs), max(val_errs))\n",
    "plt.figure(figsize=(10, 5))\n",
    "plt.subplot(1, 2, 1)\n",
    "sns.heatmap(train_errs_df, vmin=min_err, vmax=max_err, square=True, annot=True, \n",
    "            cbar=False, fmt='.1f', cmap='Reds')\n",
    "plt.title('train errors'); plt.xlabel('estimators'); plt.ylabel('algorithm')\n",
    "plt.subplot(1, 2, 2)\n",
    "sns.heatmap(val_errs_df, vmin=min_err, vmax=max_err, square=True, annot=True, \n",
    "            cbar=False, fmt='.1f', cmap='Reds')\n",
    "plt.title('validation errors'); plt.xlabel('estimators'); plt.ylabel('algorithm');"
   ]
  },
  {
   "cell_type": "code",
   "execution_count": 34,
   "metadata": {},
   "outputs": [
    {
     "name": "stdout",
     "output_type": "stream",
     "text": [
      "0.819672131147541\n"
     ]
    }
   ],
   "source": [
    "# Đánh giá độ lỗi của mô hình AdaBoost Classifier trên tập test\n",
    "full_pipeline.set_params(adaboostclassifier__n_estimators=best_esti)\n",
    "full_pipeline.fit(Tr_X_df,Tr_y_sr)\n",
    "predict = full_pipeline.predict(test_X_df)\n",
    "print(accuracy_score(predict, test_y_sr))"
   ]
  },
  {
   "cell_type": "markdown",
   "metadata": {},
   "source": [
    "#### Mô hình Decision Tree Classifier"
   ]
  },
  {
   "cell_type": "markdown",
   "metadata": {},
   "source": [
    "Ngoài ra ta sẽ thử thêm mô hình Decision Tree Classifier với các tham số mặc định"
   ]
  },
  {
   "cell_type": "code",
   "execution_count": 35,
   "metadata": {},
   "outputs": [
    {
     "name": "stdout",
     "output_type": "stream",
     "text": [
      "Độ lỗi trên tập train: 0.0\n",
      "Độ lỗi trên tập validation: 26.651480637813208\n"
     ]
    }
   ],
   "source": [
    "from sklearn.tree import DecisionTreeClassifier\n",
    "\n",
    "full_pipeline = make_pipeline(ColDropper(),MissingValues(),Standardized(),DecisionTreeClassifier())\n",
    "full_pipeline.fit(train_X_df,train_y_sr)\n",
    "print(\"Độ lỗi trên tập train:\",(1-full_pipeline.score(train_X_df,train_y_sr))*100)\n",
    "print(\"Độ lỗi trên tập validation:\",(1-full_pipeline.score(val_X_df,val_y_sr))*100)"
   ]
  },
  {
   "cell_type": "code",
   "execution_count": 36,
   "metadata": {},
   "outputs": [
    {
     "name": "stdout",
     "output_type": "stream",
     "text": [
      "0.7704918032786885\n"
     ]
    }
   ],
   "source": [
    "# Đánh giá độ lỗi của mô hình Decision Tree trên tập test\n",
    "full_pipeline.fit(Tr_X_df,Tr_y_sr)\n",
    "predict = full_pipeline.predict(test_X_df)\n",
    "print(accuracy_score(predict, test_y_sr))"
   ]
  },
  {
   "cell_type": "markdown",
   "metadata": {},
   "source": [
    "Sau khi thử nghiệm các siêu tham số trên 3 mô hình ở trên, ta thấy mô hình Neural Net đạt độ chính xác tốt nhất với bộ dữ liệu thời tiết này"
   ]
  }
 ],
 "metadata": {
  "kernelspec": {
   "display_name": "Python 3",
   "language": "python",
   "name": "python3"
  },
  "language_info": {
   "codemirror_mode": {
    "name": "ipython",
    "version": 3
   },
   "file_extension": ".py",
   "mimetype": "text/x-python",
   "name": "python",
   "nbconvert_exporter": "python",
   "pygments_lexer": "ipython3",
   "version": "3.8.3"
  },
  "toc": {
   "base_numbering": 1,
   "nav_menu": {},
   "number_sections": true,
   "sideBar": true,
   "skip_h1_title": false,
   "title_cell": "Table of Contents",
   "title_sidebar": "Contents",
   "toc_cell": false,
   "toc_position": {
    "height": "calc(100% - 180px)",
    "left": "10px",
    "top": "150px",
    "width": "307.2px"
   },
   "toc_section_display": true,
   "toc_window_display": true
  }
 },
 "nbformat": 4,
 "nbformat_minor": 4
}
